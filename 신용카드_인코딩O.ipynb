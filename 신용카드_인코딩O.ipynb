{
  "nbformat": 4,
  "nbformat_minor": 0,
  "metadata": {
    "colab": {
      "name": "신용카드_인코딩O.ipynb",
      "provenance": [],
      "collapsed_sections": []
    },
    "kernelspec": {
      "name": "python3",
      "display_name": "Python 3"
    },
    "language_info": {
      "name": "python"
    }
  },
  "cells": [
    {
      "cell_type": "code",
      "metadata": {
        "colab": {
          "base_uri": "https://localhost:8080/"
        },
        "id": "FxN4OsEIovQ-",
        "outputId": "2a482ecc-4dc1-4756-c561-c3d90fee643a"
      },
      "source": [
        "import numpy as np\n",
        "import pandas as pd\n",
        "from google.colab import drive\n",
        "drive.mount('/content/gdrive',force_remount=True)\n",
        "filepath = '/content/gdrive/My Drive/ICT/open/'\n",
        "train = pd.read_csv(filepath+'train.csv')\n",
        "test=pd.read_csv(filepath+'test.csv')\n"
      ],
      "execution_count": 131,
      "outputs": [
        {
          "output_type": "stream",
          "text": [
            "Mounted at /content/gdrive\n"
          ],
          "name": "stdout"
        }
      ]
    },
    {
      "cell_type": "code",
      "metadata": {
        "colab": {
          "base_uri": "https://localhost:8080/"
        },
        "id": "0bmlVoo3oycJ",
        "outputId": "b5d992b1-3bee-49eb-b908-e6a6ac8e079b"
      },
      "source": [
        "train.info()  #학습데이터 정보      \n",
        "#인덱스|성별|차 소유?|부동산소유?|자녀 수|연간소득|소득분류|교육수준|결혼여부|생활방식|출생일|업무시작일|핸드폰소유|업무용전화소유|전화소유여부|이메일소유여부|직업유형|가족규모|신용카드발급 월\n",
        "#credit: 사용자의 신용카드 대금 연체를 기준으로 한 신용도"
      ],
      "execution_count": 132,
      "outputs": [
        {
          "output_type": "stream",
          "text": [
            "<class 'pandas.core.frame.DataFrame'>\n",
            "RangeIndex: 26457 entries, 0 to 26456\n",
            "Data columns (total 20 columns):\n",
            " #   Column         Non-Null Count  Dtype  \n",
            "---  ------         --------------  -----  \n",
            " 0   index          26457 non-null  int64  \n",
            " 1   gender         26457 non-null  object \n",
            " 2   car            26457 non-null  object \n",
            " 3   reality        26457 non-null  object \n",
            " 4   child_num      26457 non-null  int64  \n",
            " 5   income_total   26457 non-null  float64\n",
            " 6   income_type    26457 non-null  object \n",
            " 7   edu_type       26457 non-null  object \n",
            " 8   family_type    26457 non-null  object \n",
            " 9   house_type     26457 non-null  object \n",
            " 10  DAYS_BIRTH     26457 non-null  int64  \n",
            " 11  DAYS_EMPLOYED  26457 non-null  int64  \n",
            " 12  FLAG_MOBIL     26457 non-null  int64  \n",
            " 13  work_phone     26457 non-null  int64  \n",
            " 14  phone          26457 non-null  int64  \n",
            " 15  email          26457 non-null  int64  \n",
            " 16  occyp_type     18286 non-null  object \n",
            " 17  family_size    26457 non-null  float64\n",
            " 18  begin_month    26457 non-null  float64\n",
            " 19  credit         26457 non-null  float64\n",
            "dtypes: float64(4), int64(8), object(8)\n",
            "memory usage: 4.0+ MB\n"
          ],
          "name": "stdout"
        }
      ]
    },
    {
      "cell_type": "code",
      "metadata": {
        "colab": {
          "base_uri": "https://localhost:8080/"
        },
        "id": "CXIXuAyrpNaQ",
        "outputId": "d1433f48-9008-4d7f-86ef-3f2c9dd2acd8"
      },
      "source": [
        "test.info()  #test데이터셋 정보 확인"
      ],
      "execution_count": 133,
      "outputs": [
        {
          "output_type": "stream",
          "text": [
            "<class 'pandas.core.frame.DataFrame'>\n",
            "RangeIndex: 10000 entries, 0 to 9999\n",
            "Data columns (total 19 columns):\n",
            " #   Column         Non-Null Count  Dtype  \n",
            "---  ------         --------------  -----  \n",
            " 0   index          10000 non-null  int64  \n",
            " 1   gender         10000 non-null  object \n",
            " 2   car            10000 non-null  object \n",
            " 3   reality        10000 non-null  object \n",
            " 4   child_num      10000 non-null  int64  \n",
            " 5   income_total   10000 non-null  float64\n",
            " 6   income_type    10000 non-null  object \n",
            " 7   edu_type       10000 non-null  object \n",
            " 8   family_type    10000 non-null  object \n",
            " 9   house_type     10000 non-null  object \n",
            " 10  DAYS_BIRTH     10000 non-null  int64  \n",
            " 11  DAYS_EMPLOYED  10000 non-null  int64  \n",
            " 12  FLAG_MOBIL     10000 non-null  int64  \n",
            " 13  work_phone     10000 non-null  int64  \n",
            " 14  phone          10000 non-null  int64  \n",
            " 15  email          10000 non-null  int64  \n",
            " 16  occyp_type     6848 non-null   object \n",
            " 17  family_size    10000 non-null  float64\n",
            " 18  begin_month    10000 non-null  float64\n",
            "dtypes: float64(3), int64(8), object(8)\n",
            "memory usage: 1.4+ MB\n"
          ],
          "name": "stdout"
        }
      ]
    },
    {
      "cell_type": "code",
      "metadata": {
        "colab": {
          "base_uri": "https://localhost:8080/"
        },
        "id": "BroyBBA2phyu",
        "outputId": "7cdecc8e-5c64-47f2-b572-0eab08f8d24f"
      },
      "source": [
        "train.isnull().sum()   #결측치 확인"
      ],
      "execution_count": 134,
      "outputs": [
        {
          "output_type": "execute_result",
          "data": {
            "text/plain": [
              "index               0\n",
              "gender              0\n",
              "car                 0\n",
              "reality             0\n",
              "child_num           0\n",
              "income_total        0\n",
              "income_type         0\n",
              "edu_type            0\n",
              "family_type         0\n",
              "house_type          0\n",
              "DAYS_BIRTH          0\n",
              "DAYS_EMPLOYED       0\n",
              "FLAG_MOBIL          0\n",
              "work_phone          0\n",
              "phone               0\n",
              "email               0\n",
              "occyp_type       8171\n",
              "family_size         0\n",
              "begin_month         0\n",
              "credit              0\n",
              "dtype: int64"
            ]
          },
          "metadata": {
            "tags": []
          },
          "execution_count": 134
        }
      ]
    },
    {
      "cell_type": "code",
      "metadata": {
        "colab": {
          "base_uri": "https://localhost:8080/"
        },
        "id": "8yQFVNJhpkwE",
        "outputId": "217aa309-2880-4fb1-84d9-158a23ea9556"
      },
      "source": [
        "test.isnull().sum()"
      ],
      "execution_count": 135,
      "outputs": [
        {
          "output_type": "execute_result",
          "data": {
            "text/plain": [
              "index               0\n",
              "gender              0\n",
              "car                 0\n",
              "reality             0\n",
              "child_num           0\n",
              "income_total        0\n",
              "income_type         0\n",
              "edu_type            0\n",
              "family_type         0\n",
              "house_type          0\n",
              "DAYS_BIRTH          0\n",
              "DAYS_EMPLOYED       0\n",
              "FLAG_MOBIL          0\n",
              "work_phone          0\n",
              "phone               0\n",
              "email               0\n",
              "occyp_type       3152\n",
              "family_size         0\n",
              "begin_month         0\n",
              "dtype: int64"
            ]
          },
          "metadata": {
            "tags": []
          },
          "execution_count": 135
        }
      ]
    },
    {
      "cell_type": "code",
      "metadata": {
        "id": "c_XEidcXpnnU"
      },
      "source": [
        "train.fillna('NAN', inplace=True)     #결측치는 'NAN'으로 표시\n",
        "test.fillna('NAN',inplace=True)"
      ],
      "execution_count": 136,
      "outputs": []
    },
    {
      "cell_type": "code",
      "metadata": {
        "colab": {
          "base_uri": "https://localhost:8080/"
        },
        "id": "oe1ux2H5pz_G",
        "outputId": "4881693d-9304-454e-ec3d-c3974eac9a2c"
      },
      "source": [
        "train.nunique()  # 학습데이터 각 속성마다 몇 개의 종류로 이루어져있을까요?"
      ],
      "execution_count": 137,
      "outputs": [
        {
          "output_type": "execute_result",
          "data": {
            "text/plain": [
              "index            26457\n",
              "gender               2\n",
              "car                  2\n",
              "reality              2\n",
              "child_num            9\n",
              "income_total       249\n",
              "income_type          5\n",
              "edu_type             5\n",
              "family_type          5\n",
              "house_type           6\n",
              "DAYS_BIRTH        6621\n",
              "DAYS_EMPLOYED     3470\n",
              "FLAG_MOBIL           1\n",
              "work_phone           2\n",
              "phone                2\n",
              "email                2\n",
              "occyp_type          19\n",
              "family_size         10\n",
              "begin_month         61\n",
              "credit               3\n",
              "dtype: int64"
            ]
          },
          "metadata": {
            "tags": []
          },
          "execution_count": 137
        }
      ]
    },
    {
      "cell_type": "code",
      "metadata": {
        "colab": {
          "base_uri": "https://localhost:8080/"
        },
        "id": "vc2X4w2xqcLK",
        "outputId": "281e30f6-8b62-4e95-ee5a-f45751abba61"
      },
      "source": [
        "test.nunique()"
      ],
      "execution_count": 138,
      "outputs": [
        {
          "output_type": "execute_result",
          "data": {
            "text/plain": [
              "index            10000\n",
              "gender               2\n",
              "car                  2\n",
              "reality              2\n",
              "child_num            6\n",
              "income_total       208\n",
              "income_type          5\n",
              "edu_type             5\n",
              "family_type          5\n",
              "house_type           6\n",
              "DAYS_BIRTH        4675\n",
              "DAYS_EMPLOYED     2665\n",
              "FLAG_MOBIL           1\n",
              "work_phone           2\n",
              "phone                2\n",
              "email                2\n",
              "occyp_type          19\n",
              "family_size          7\n",
              "begin_month         61\n",
              "dtype: int64"
            ]
          },
          "metadata": {
            "tags": []
          },
          "execution_count": 138
        }
      ]
    },
    {
      "cell_type": "code",
      "metadata": {
        "id": "ZRSjzja2p1Za"
      },
      "source": [
        "data = pd.concat([train,test],sort=False)  #train과 test합쳐서 처리"
      ],
      "execution_count": 139,
      "outputs": []
    },
    {
      "cell_type": "code",
      "metadata": {
        "colab": {
          "base_uri": "https://localhost:8080/"
        },
        "id": "sEBZqIynqy58",
        "outputId": "d57af2b6-7083-4f76-d46e-07fec9861362"
      },
      "source": [
        "#종류가 많지 않은 속성들 살펴보기\n",
        "print(set(data['gender']))  # train과 test데이터셋에 들어있는 gender의 종류\n",
        "print(set(data['car']))# train과 test데이터셋에 들어있는 car의 종류\n",
        "print(set(data['reality']))# train과 test데이터셋에 들어있는 reality의 종류\n",
        "print(set(data['child_num']))# train과 test데이터셋에 들어있는 child_num의 종류\n",
        "print(set(data['income_type']))# train과 test데이터셋에 들어있는 income_type의 종류\n",
        "print(set(data['edu_type']))# train과 test데이터셋에 들어있는 edu_type의 종류\n",
        "print(set(data['house_type']))# train과 test데이터셋에 들어있는 house_type의 종류\n",
        "print(set(data['work_phone']))# train과 test데이터셋에 들어있는 work_phone의 종류\n",
        "print(set(data['phone']))# train과 test데이터셋에 들어있는 phone의 종류\n",
        "print(set(data['email']))# train과 test데이터셋에 들어있는 email의 종류\n",
        "print(set(data['occyp_type']))# train과 test데이터셋에 들어있는 occyp_type의 종류\n",
        "print(set(data['family_size']))# train과 test데이터셋에 들어있는 family_size의 종류\n",
        "print(set(train['credit']))# train 데이터셋에 들어있는 credit의 종류"
      ],
      "execution_count": 140,
      "outputs": [
        {
          "output_type": "stream",
          "text": [
            "{'M', 'F'}\n",
            "{'Y', 'N'}\n",
            "{'Y', 'N'}\n",
            "{0, 1, 2, 3, 4, 5, 7, 14, 19}\n",
            "{'Working', 'Commercial associate', 'State servant', 'Pensioner', 'Student'}\n",
            "{'Incomplete higher', 'Secondary / secondary special', 'Academic degree', 'Lower secondary', 'Higher education'}\n",
            "{'Office apartment', 'With parents', 'House / apartment', 'Co-op apartment', 'Rented apartment', 'Municipal apartment'}\n",
            "{0, 1}\n",
            "{0, 1}\n",
            "{0, 1}\n",
            "{'Realty agents', 'Sales staff', 'Private service staff', 'Cleaning staff', 'High skill tech staff', 'Security staff', 'Low-skill Laborers', 'Accountants', 'Laborers', 'Core staff', 'Cooking staff', 'NAN', 'Secretaries', 'HR staff', 'Medicine staff', 'Managers', 'IT staff', 'Drivers', 'Waiters/barmen staff'}\n",
            "{1.0, 2.0, 3.0, 4.0, 5.0, 6.0, 7.0, 9.0, 15.0, 20.0}\n",
            "{0.0, 1.0, 2.0}\n"
          ],
          "name": "stdout"
        }
      ]
    },
    {
      "cell_type": "code",
      "metadata": {
        "colab": {
          "base_uri": "https://localhost:8080/",
          "height": 475
        },
        "id": "xOgtcsQZS_fh",
        "outputId": "07a8d7fb-d6ee-4c21-d3d0-89ff6b11d45a"
      },
      "source": [
        "search = train[(train['child_num']>=7)]  #아이가 7명이 넘는 가족이 있다? test에서도 나오는지 확인해보자 index범위가 test부분은 없음 => train에만 있는 이상한 행들\n",
        "search.head(10)"
      ],
      "execution_count": 141,
      "outputs": [
        {
          "output_type": "execute_result",
          "data": {
            "text/html": [
              "<div>\n",
              "<style scoped>\n",
              "    .dataframe tbody tr th:only-of-type {\n",
              "        vertical-align: middle;\n",
              "    }\n",
              "\n",
              "    .dataframe tbody tr th {\n",
              "        vertical-align: top;\n",
              "    }\n",
              "\n",
              "    .dataframe thead th {\n",
              "        text-align: right;\n",
              "    }\n",
              "</style>\n",
              "<table border=\"1\" class=\"dataframe\">\n",
              "  <thead>\n",
              "    <tr style=\"text-align: right;\">\n",
              "      <th></th>\n",
              "      <th>index</th>\n",
              "      <th>gender</th>\n",
              "      <th>car</th>\n",
              "      <th>reality</th>\n",
              "      <th>child_num</th>\n",
              "      <th>income_total</th>\n",
              "      <th>income_type</th>\n",
              "      <th>edu_type</th>\n",
              "      <th>family_type</th>\n",
              "      <th>house_type</th>\n",
              "      <th>DAYS_BIRTH</th>\n",
              "      <th>DAYS_EMPLOYED</th>\n",
              "      <th>FLAG_MOBIL</th>\n",
              "      <th>work_phone</th>\n",
              "      <th>phone</th>\n",
              "      <th>email</th>\n",
              "      <th>occyp_type</th>\n",
              "      <th>family_size</th>\n",
              "      <th>begin_month</th>\n",
              "      <th>credit</th>\n",
              "    </tr>\n",
              "  </thead>\n",
              "  <tbody>\n",
              "    <tr>\n",
              "      <th>8462</th>\n",
              "      <td>8462</td>\n",
              "      <td>M</td>\n",
              "      <td>Y</td>\n",
              "      <td>Y</td>\n",
              "      <td>14</td>\n",
              "      <td>225000.0</td>\n",
              "      <td>Working</td>\n",
              "      <td>Secondary / secondary special</td>\n",
              "      <td>Separated</td>\n",
              "      <td>House / apartment</td>\n",
              "      <td>-17754</td>\n",
              "      <td>-1689</td>\n",
              "      <td>1</td>\n",
              "      <td>0</td>\n",
              "      <td>0</td>\n",
              "      <td>0</td>\n",
              "      <td>Drivers</td>\n",
              "      <td>15.0</td>\n",
              "      <td>-7.0</td>\n",
              "      <td>2.0</td>\n",
              "    </tr>\n",
              "    <tr>\n",
              "      <th>9021</th>\n",
              "      <td>9021</td>\n",
              "      <td>M</td>\n",
              "      <td>Y</td>\n",
              "      <td>Y</td>\n",
              "      <td>14</td>\n",
              "      <td>225000.0</td>\n",
              "      <td>Working</td>\n",
              "      <td>Secondary / secondary special</td>\n",
              "      <td>Separated</td>\n",
              "      <td>House / apartment</td>\n",
              "      <td>-17754</td>\n",
              "      <td>-1689</td>\n",
              "      <td>1</td>\n",
              "      <td>0</td>\n",
              "      <td>0</td>\n",
              "      <td>0</td>\n",
              "      <td>Drivers</td>\n",
              "      <td>15.0</td>\n",
              "      <td>-58.0</td>\n",
              "      <td>2.0</td>\n",
              "    </tr>\n",
              "    <tr>\n",
              "      <th>10731</th>\n",
              "      <td>10731</td>\n",
              "      <td>F</td>\n",
              "      <td>N</td>\n",
              "      <td>Y</td>\n",
              "      <td>19</td>\n",
              "      <td>112500.0</td>\n",
              "      <td>Working</td>\n",
              "      <td>Secondary / secondary special</td>\n",
              "      <td>Single / not married</td>\n",
              "      <td>House / apartment</td>\n",
              "      <td>-11057</td>\n",
              "      <td>-1853</td>\n",
              "      <td>1</td>\n",
              "      <td>1</td>\n",
              "      <td>1</td>\n",
              "      <td>0</td>\n",
              "      <td>Waiters/barmen staff</td>\n",
              "      <td>20.0</td>\n",
              "      <td>-5.0</td>\n",
              "      <td>2.0</td>\n",
              "    </tr>\n",
              "    <tr>\n",
              "      <th>25313</th>\n",
              "      <td>25313</td>\n",
              "      <td>F</td>\n",
              "      <td>N</td>\n",
              "      <td>N</td>\n",
              "      <td>7</td>\n",
              "      <td>157500.0</td>\n",
              "      <td>Working</td>\n",
              "      <td>Secondary / secondary special</td>\n",
              "      <td>Married</td>\n",
              "      <td>House / apartment</td>\n",
              "      <td>-13827</td>\n",
              "      <td>-1649</td>\n",
              "      <td>1</td>\n",
              "      <td>1</td>\n",
              "      <td>1</td>\n",
              "      <td>0</td>\n",
              "      <td>Cleaning staff</td>\n",
              "      <td>9.0</td>\n",
              "      <td>-26.0</td>\n",
              "      <td>2.0</td>\n",
              "    </tr>\n",
              "    <tr>\n",
              "      <th>25390</th>\n",
              "      <td>25390</td>\n",
              "      <td>M</td>\n",
              "      <td>Y</td>\n",
              "      <td>Y</td>\n",
              "      <td>14</td>\n",
              "      <td>225000.0</td>\n",
              "      <td>Working</td>\n",
              "      <td>Secondary / secondary special</td>\n",
              "      <td>Separated</td>\n",
              "      <td>House / apartment</td>\n",
              "      <td>-17754</td>\n",
              "      <td>-1689</td>\n",
              "      <td>1</td>\n",
              "      <td>0</td>\n",
              "      <td>0</td>\n",
              "      <td>0</td>\n",
              "      <td>Drivers</td>\n",
              "      <td>15.0</td>\n",
              "      <td>-43.0</td>\n",
              "      <td>2.0</td>\n",
              "    </tr>\n",
              "  </tbody>\n",
              "</table>\n",
              "</div>"
            ],
            "text/plain": [
              "       index gender car  ... family_size  begin_month  credit\n",
              "8462    8462      M   Y  ...        15.0         -7.0     2.0\n",
              "9021    9021      M   Y  ...        15.0        -58.0     2.0\n",
              "10731  10731      F   N  ...        20.0         -5.0     2.0\n",
              "25313  25313      F   N  ...         9.0        -26.0     2.0\n",
              "25390  25390      M   Y  ...        15.0        -43.0     2.0\n",
              "\n",
              "[5 rows x 20 columns]"
            ]
          },
          "metadata": {
            "tags": []
          },
          "execution_count": 141
        }
      ]
    },
    {
      "cell_type": "code",
      "metadata": {
        "id": "r3UJlA2MTVkP"
      },
      "source": [
        "train=train.drop(search.index, axis=0)    #이상한 행들의 index를 저장해서 그 부분들만 삭제함."
      ],
      "execution_count": 142,
      "outputs": []
    },
    {
      "cell_type": "code",
      "metadata": {
        "id": "duzPOMv8aL1v"
      },
      "source": [
        "data = pd.concat([train,test],sort=False)   #다시 data로 합쳐서 전처리"
      ],
      "execution_count": 143,
      "outputs": []
    },
    {
      "cell_type": "code",
      "metadata": {
        "id": "C3nMYEJ_ZiAi"
      },
      "source": [
        "#index 필요 없고, FLAG_MOBIL은 전부 1이니까 삭제해도 됨.\n",
        "data.drop(['index','FLAG_MOBIL'], axis=1, inplace=True)"
      ],
      "execution_count": 144,
      "outputs": []
    },
    {
      "cell_type": "code",
      "metadata": {
        "colab": {
          "base_uri": "https://localhost:8080/",
          "height": 223
        },
        "id": "dScw-yGEq5m8",
        "outputId": "86800bd2-3b08-41a4-9386-07900a5214c2"
      },
      "source": [
        "#object형식으로 이루어진 것들을 Label인코딩\n",
        "cat_cols = ['gender','car','reality','income_type','edu_type','family_type','house_type','occyp_type']\n",
        "from sklearn.preprocessing import LabelEncoder\n",
        "for i in cat_cols:\n",
        "  le = LabelEncoder()\n",
        "  data[i] = le.fit_transform(data[i])\n",
        "data.head()"
      ],
      "execution_count": 146,
      "outputs": [
        {
          "output_type": "execute_result",
          "data": {
            "text/html": [
              "<div>\n",
              "<style scoped>\n",
              "    .dataframe tbody tr th:only-of-type {\n",
              "        vertical-align: middle;\n",
              "    }\n",
              "\n",
              "    .dataframe tbody tr th {\n",
              "        vertical-align: top;\n",
              "    }\n",
              "\n",
              "    .dataframe thead th {\n",
              "        text-align: right;\n",
              "    }\n",
              "</style>\n",
              "<table border=\"1\" class=\"dataframe\">\n",
              "  <thead>\n",
              "    <tr style=\"text-align: right;\">\n",
              "      <th></th>\n",
              "      <th>gender</th>\n",
              "      <th>car</th>\n",
              "      <th>reality</th>\n",
              "      <th>child_num</th>\n",
              "      <th>income_total</th>\n",
              "      <th>income_type</th>\n",
              "      <th>edu_type</th>\n",
              "      <th>family_type</th>\n",
              "      <th>house_type</th>\n",
              "      <th>DAYS_BIRTH</th>\n",
              "      <th>DAYS_EMPLOYED</th>\n",
              "      <th>work_phone</th>\n",
              "      <th>phone</th>\n",
              "      <th>email</th>\n",
              "      <th>occyp_type</th>\n",
              "      <th>family_size</th>\n",
              "      <th>begin_month</th>\n",
              "      <th>credit</th>\n",
              "    </tr>\n",
              "  </thead>\n",
              "  <tbody>\n",
              "    <tr>\n",
              "      <th>0</th>\n",
              "      <td>0</td>\n",
              "      <td>0</td>\n",
              "      <td>0</td>\n",
              "      <td>0</td>\n",
              "      <td>202500.0</td>\n",
              "      <td>0</td>\n",
              "      <td>1</td>\n",
              "      <td>1</td>\n",
              "      <td>2</td>\n",
              "      <td>-13899</td>\n",
              "      <td>-4709</td>\n",
              "      <td>0</td>\n",
              "      <td>0</td>\n",
              "      <td>0</td>\n",
              "      <td>12</td>\n",
              "      <td>2.0</td>\n",
              "      <td>-6.0</td>\n",
              "      <td>1.0</td>\n",
              "    </tr>\n",
              "    <tr>\n",
              "      <th>1</th>\n",
              "      <td>0</td>\n",
              "      <td>0</td>\n",
              "      <td>1</td>\n",
              "      <td>1</td>\n",
              "      <td>247500.0</td>\n",
              "      <td>0</td>\n",
              "      <td>4</td>\n",
              "      <td>0</td>\n",
              "      <td>1</td>\n",
              "      <td>-11380</td>\n",
              "      <td>-1540</td>\n",
              "      <td>0</td>\n",
              "      <td>0</td>\n",
              "      <td>1</td>\n",
              "      <td>8</td>\n",
              "      <td>3.0</td>\n",
              "      <td>-5.0</td>\n",
              "      <td>1.0</td>\n",
              "    </tr>\n",
              "    <tr>\n",
              "      <th>2</th>\n",
              "      <td>1</td>\n",
              "      <td>1</td>\n",
              "      <td>1</td>\n",
              "      <td>0</td>\n",
              "      <td>450000.0</td>\n",
              "      <td>4</td>\n",
              "      <td>1</td>\n",
              "      <td>1</td>\n",
              "      <td>1</td>\n",
              "      <td>-19087</td>\n",
              "      <td>-4434</td>\n",
              "      <td>0</td>\n",
              "      <td>1</td>\n",
              "      <td>0</td>\n",
              "      <td>10</td>\n",
              "      <td>2.0</td>\n",
              "      <td>-22.0</td>\n",
              "      <td>2.0</td>\n",
              "    </tr>\n",
              "    <tr>\n",
              "      <th>3</th>\n",
              "      <td>0</td>\n",
              "      <td>0</td>\n",
              "      <td>1</td>\n",
              "      <td>0</td>\n",
              "      <td>202500.0</td>\n",
              "      <td>0</td>\n",
              "      <td>4</td>\n",
              "      <td>1</td>\n",
              "      <td>1</td>\n",
              "      <td>-15088</td>\n",
              "      <td>-2092</td>\n",
              "      <td>0</td>\n",
              "      <td>1</td>\n",
              "      <td>0</td>\n",
              "      <td>15</td>\n",
              "      <td>2.0</td>\n",
              "      <td>-37.0</td>\n",
              "      <td>0.0</td>\n",
              "    </tr>\n",
              "    <tr>\n",
              "      <th>4</th>\n",
              "      <td>0</td>\n",
              "      <td>1</td>\n",
              "      <td>1</td>\n",
              "      <td>0</td>\n",
              "      <td>157500.0</td>\n",
              "      <td>2</td>\n",
              "      <td>1</td>\n",
              "      <td>1</td>\n",
              "      <td>1</td>\n",
              "      <td>-15037</td>\n",
              "      <td>-2105</td>\n",
              "      <td>0</td>\n",
              "      <td>0</td>\n",
              "      <td>0</td>\n",
              "      <td>10</td>\n",
              "      <td>2.0</td>\n",
              "      <td>-26.0</td>\n",
              "      <td>2.0</td>\n",
              "    </tr>\n",
              "  </tbody>\n",
              "</table>\n",
              "</div>"
            ],
            "text/plain": [
              "   gender  car  reality  ...  family_size  begin_month  credit\n",
              "0       0    0        0  ...          2.0         -6.0     1.0\n",
              "1       0    0        1  ...          3.0         -5.0     1.0\n",
              "2       1    1        1  ...          2.0        -22.0     2.0\n",
              "3       0    0        1  ...          2.0        -37.0     0.0\n",
              "4       0    1        1  ...          2.0        -26.0     2.0\n",
              "\n",
              "[5 rows x 18 columns]"
            ]
          },
          "metadata": {
            "tags": []
          },
          "execution_count": 146
        }
      ]
    },
    {
      "cell_type": "code",
      "metadata": {
        "id": "St4RiyHTzTMk"
      },
      "source": [
        "data['DAYS_EMPLOYED'] = data['DAYS_EMPLOYED'].map(lambda x: 0 if x>=0 else x)   #무직인 사람은 0으로 표현"
      ],
      "execution_count": 147,
      "outputs": []
    },
    {
      "cell_type": "code",
      "metadata": {
        "id": "DuoLqBCFycCX"
      },
      "source": [
        "#음수 속성들 양수로 바꾸기\n",
        "data['DAYS_BIRTH']= np.abs(data['DAYS_BIRTH'])\n",
        "data['DAYS_EMPLOYED']= np.abs(data['DAYS_EMPLOYED'])\n",
        "data['begin_month']=np.abs(data['begin_month'])"
      ],
      "execution_count": 148,
      "outputs": []
    },
    {
      "cell_type": "code",
      "metadata": {
        "id": "UVxWMJy7zhu1"
      },
      "source": [
        "#파생변수들 만들어봄\n",
        "#사용자의 나이 예측 = (태어난 날 / 365), 현재 데이터가 태어난 날이 하루전이면 -1로 표현하고있음\n",
        "data['Age'] = data['DAYS_BIRTH']//365\n",
        "#태어난 개월 수\n",
        "data['birth_mon'] = (data['DAYS_BIRTH']//30)\n",
        "#태어난지 몇주\n",
        "data['birth_week'] = (data['DAYS_BIRTH']//7)\n",
        "\n",
        "#사용자가 일한 개월 수 구하기 (평균 30일로 계산)\n",
        "data['work_month'] = (data['DAYS_EMPLOYED']//30)\n",
        "\n",
        "#태어난지 몇개월째에 신용카드를 만들었는지\n",
        "data['cred_mon'] = data['birth_mon']-data['begin_month']\n",
        "#태어난지 몇 주만에 신용카드를 만들었는지\n",
        "data['cred_day'] = (data['DAYS_BIRTH'] - (data['begin_month']*30))//7\n",
        "#태어난지 몇 일만에 신용카드를 만들었는지\n",
        "data['cred_day'] = data['DAYS_BIRTH'] - (data['begin_month']*30)\n",
        "\n",
        "\n",
        "#자식을 제외한 가족 수\n",
        "data['older'] = data['family_size']-data['child_num']\n",
        "#총 수입 / 가족 명 수 (한 사람당 얼마의 수입)\n",
        "data['income_per'] = data['income_total']/data['family_size']"
      ],
      "execution_count": 149,
      "outputs": []
    },
    {
      "cell_type": "code",
      "metadata": {
        "colab": {
          "base_uri": "https://localhost:8080/",
          "height": 223
        },
        "id": "zgn30KQQalej",
        "outputId": "569e5417-a8e7-4c85-f2a3-e27b63dadf0b"
      },
      "source": [
        "from sklearn.preprocessing import MinMaxScaler\n",
        "scaler = MinMaxScaler()\n",
        "data['income_total'] = scaler.fit_transform(data.loc[:,data.columns == 'income_total'])\n",
        "data.head()"
      ],
      "execution_count": 150,
      "outputs": [
        {
          "output_type": "execute_result",
          "data": {
            "text/html": [
              "<div>\n",
              "<style scoped>\n",
              "    .dataframe tbody tr th:only-of-type {\n",
              "        vertical-align: middle;\n",
              "    }\n",
              "\n",
              "    .dataframe tbody tr th {\n",
              "        vertical-align: top;\n",
              "    }\n",
              "\n",
              "    .dataframe thead th {\n",
              "        text-align: right;\n",
              "    }\n",
              "</style>\n",
              "<table border=\"1\" class=\"dataframe\">\n",
              "  <thead>\n",
              "    <tr style=\"text-align: right;\">\n",
              "      <th></th>\n",
              "      <th>gender</th>\n",
              "      <th>car</th>\n",
              "      <th>reality</th>\n",
              "      <th>child_num</th>\n",
              "      <th>income_total</th>\n",
              "      <th>income_type</th>\n",
              "      <th>edu_type</th>\n",
              "      <th>family_type</th>\n",
              "      <th>house_type</th>\n",
              "      <th>DAYS_BIRTH</th>\n",
              "      <th>DAYS_EMPLOYED</th>\n",
              "      <th>work_phone</th>\n",
              "      <th>phone</th>\n",
              "      <th>email</th>\n",
              "      <th>occyp_type</th>\n",
              "      <th>family_size</th>\n",
              "      <th>begin_month</th>\n",
              "      <th>credit</th>\n",
              "      <th>Age</th>\n",
              "      <th>birth_mon</th>\n",
              "      <th>birth_week</th>\n",
              "      <th>work_month</th>\n",
              "      <th>cred_mon</th>\n",
              "      <th>cred_day</th>\n",
              "      <th>older</th>\n",
              "      <th>income_per</th>\n",
              "    </tr>\n",
              "  </thead>\n",
              "  <tbody>\n",
              "    <tr>\n",
              "      <th>0</th>\n",
              "      <td>0</td>\n",
              "      <td>0</td>\n",
              "      <td>0</td>\n",
              "      <td>0</td>\n",
              "      <td>0.113372</td>\n",
              "      <td>0</td>\n",
              "      <td>1</td>\n",
              "      <td>1</td>\n",
              "      <td>2</td>\n",
              "      <td>13899</td>\n",
              "      <td>4709</td>\n",
              "      <td>0</td>\n",
              "      <td>0</td>\n",
              "      <td>0</td>\n",
              "      <td>12</td>\n",
              "      <td>2.0</td>\n",
              "      <td>6.0</td>\n",
              "      <td>1.0</td>\n",
              "      <td>38</td>\n",
              "      <td>463</td>\n",
              "      <td>1985</td>\n",
              "      <td>156</td>\n",
              "      <td>457.0</td>\n",
              "      <td>13719.0</td>\n",
              "      <td>2.0</td>\n",
              "      <td>101250.0</td>\n",
              "    </tr>\n",
              "    <tr>\n",
              "      <th>1</th>\n",
              "      <td>0</td>\n",
              "      <td>0</td>\n",
              "      <td>1</td>\n",
              "      <td>1</td>\n",
              "      <td>0.142442</td>\n",
              "      <td>0</td>\n",
              "      <td>4</td>\n",
              "      <td>0</td>\n",
              "      <td>1</td>\n",
              "      <td>11380</td>\n",
              "      <td>1540</td>\n",
              "      <td>0</td>\n",
              "      <td>0</td>\n",
              "      <td>1</td>\n",
              "      <td>8</td>\n",
              "      <td>3.0</td>\n",
              "      <td>5.0</td>\n",
              "      <td>1.0</td>\n",
              "      <td>31</td>\n",
              "      <td>379</td>\n",
              "      <td>1625</td>\n",
              "      <td>51</td>\n",
              "      <td>374.0</td>\n",
              "      <td>11230.0</td>\n",
              "      <td>2.0</td>\n",
              "      <td>82500.0</td>\n",
              "    </tr>\n",
              "    <tr>\n",
              "      <th>2</th>\n",
              "      <td>1</td>\n",
              "      <td>1</td>\n",
              "      <td>1</td>\n",
              "      <td>0</td>\n",
              "      <td>0.273256</td>\n",
              "      <td>4</td>\n",
              "      <td>1</td>\n",
              "      <td>1</td>\n",
              "      <td>1</td>\n",
              "      <td>19087</td>\n",
              "      <td>4434</td>\n",
              "      <td>0</td>\n",
              "      <td>1</td>\n",
              "      <td>0</td>\n",
              "      <td>10</td>\n",
              "      <td>2.0</td>\n",
              "      <td>22.0</td>\n",
              "      <td>2.0</td>\n",
              "      <td>52</td>\n",
              "      <td>636</td>\n",
              "      <td>2726</td>\n",
              "      <td>147</td>\n",
              "      <td>614.0</td>\n",
              "      <td>18427.0</td>\n",
              "      <td>2.0</td>\n",
              "      <td>225000.0</td>\n",
              "    </tr>\n",
              "    <tr>\n",
              "      <th>3</th>\n",
              "      <td>0</td>\n",
              "      <td>0</td>\n",
              "      <td>1</td>\n",
              "      <td>0</td>\n",
              "      <td>0.113372</td>\n",
              "      <td>0</td>\n",
              "      <td>4</td>\n",
              "      <td>1</td>\n",
              "      <td>1</td>\n",
              "      <td>15088</td>\n",
              "      <td>2092</td>\n",
              "      <td>0</td>\n",
              "      <td>1</td>\n",
              "      <td>0</td>\n",
              "      <td>15</td>\n",
              "      <td>2.0</td>\n",
              "      <td>37.0</td>\n",
              "      <td>0.0</td>\n",
              "      <td>41</td>\n",
              "      <td>502</td>\n",
              "      <td>2155</td>\n",
              "      <td>69</td>\n",
              "      <td>465.0</td>\n",
              "      <td>13978.0</td>\n",
              "      <td>2.0</td>\n",
              "      <td>101250.0</td>\n",
              "    </tr>\n",
              "    <tr>\n",
              "      <th>4</th>\n",
              "      <td>0</td>\n",
              "      <td>1</td>\n",
              "      <td>1</td>\n",
              "      <td>0</td>\n",
              "      <td>0.084302</td>\n",
              "      <td>2</td>\n",
              "      <td>1</td>\n",
              "      <td>1</td>\n",
              "      <td>1</td>\n",
              "      <td>15037</td>\n",
              "      <td>2105</td>\n",
              "      <td>0</td>\n",
              "      <td>0</td>\n",
              "      <td>0</td>\n",
              "      <td>10</td>\n",
              "      <td>2.0</td>\n",
              "      <td>26.0</td>\n",
              "      <td>2.0</td>\n",
              "      <td>41</td>\n",
              "      <td>501</td>\n",
              "      <td>2148</td>\n",
              "      <td>70</td>\n",
              "      <td>475.0</td>\n",
              "      <td>14257.0</td>\n",
              "      <td>2.0</td>\n",
              "      <td>78750.0</td>\n",
              "    </tr>\n",
              "  </tbody>\n",
              "</table>\n",
              "</div>"
            ],
            "text/plain": [
              "   gender  car  reality  child_num  ...  cred_mon  cred_day  older  income_per\n",
              "0       0    0        0          0  ...     457.0   13719.0    2.0    101250.0\n",
              "1       0    0        1          1  ...     374.0   11230.0    2.0     82500.0\n",
              "2       1    1        1          0  ...     614.0   18427.0    2.0    225000.0\n",
              "3       0    0        1          0  ...     465.0   13978.0    2.0    101250.0\n",
              "4       0    1        1          0  ...     475.0   14257.0    2.0     78750.0\n",
              "\n",
              "[5 rows x 26 columns]"
            ]
          },
          "metadata": {
            "tags": []
          },
          "execution_count": 150
        }
      ]
    },
    {
      "cell_type": "code",
      "metadata": {
        "colab": {
          "base_uri": "https://localhost:8080/",
          "height": 223
        },
        "id": "abQqfGExTBc1",
        "outputId": "48d8eafa-0ff7-4b6f-9447-13e9517880ca"
      },
      "source": [
        "train=data[:(len(train))]  #다시 data에서 train과 test데이터셋으로 나눔\n",
        "test = data[len(train):]\n",
        "test.head()"
      ],
      "execution_count": 151,
      "outputs": [
        {
          "output_type": "execute_result",
          "data": {
            "text/html": [
              "<div>\n",
              "<style scoped>\n",
              "    .dataframe tbody tr th:only-of-type {\n",
              "        vertical-align: middle;\n",
              "    }\n",
              "\n",
              "    .dataframe tbody tr th {\n",
              "        vertical-align: top;\n",
              "    }\n",
              "\n",
              "    .dataframe thead th {\n",
              "        text-align: right;\n",
              "    }\n",
              "</style>\n",
              "<table border=\"1\" class=\"dataframe\">\n",
              "  <thead>\n",
              "    <tr style=\"text-align: right;\">\n",
              "      <th></th>\n",
              "      <th>gender</th>\n",
              "      <th>car</th>\n",
              "      <th>reality</th>\n",
              "      <th>child_num</th>\n",
              "      <th>income_total</th>\n",
              "      <th>income_type</th>\n",
              "      <th>edu_type</th>\n",
              "      <th>family_type</th>\n",
              "      <th>house_type</th>\n",
              "      <th>DAYS_BIRTH</th>\n",
              "      <th>DAYS_EMPLOYED</th>\n",
              "      <th>work_phone</th>\n",
              "      <th>phone</th>\n",
              "      <th>email</th>\n",
              "      <th>occyp_type</th>\n",
              "      <th>family_size</th>\n",
              "      <th>begin_month</th>\n",
              "      <th>credit</th>\n",
              "      <th>Age</th>\n",
              "      <th>birth_mon</th>\n",
              "      <th>birth_week</th>\n",
              "      <th>work_month</th>\n",
              "      <th>cred_mon</th>\n",
              "      <th>cred_day</th>\n",
              "      <th>older</th>\n",
              "      <th>income_per</th>\n",
              "    </tr>\n",
              "  </thead>\n",
              "  <tbody>\n",
              "    <tr>\n",
              "      <th>0</th>\n",
              "      <td>1</td>\n",
              "      <td>1</td>\n",
              "      <td>0</td>\n",
              "      <td>0</td>\n",
              "      <td>0.055233</td>\n",
              "      <td>1</td>\n",
              "      <td>4</td>\n",
              "      <td>0</td>\n",
              "      <td>1</td>\n",
              "      <td>21990</td>\n",
              "      <td>0</td>\n",
              "      <td>0</td>\n",
              "      <td>1</td>\n",
              "      <td>0</td>\n",
              "      <td>12</td>\n",
              "      <td>2.0</td>\n",
              "      <td>60.0</td>\n",
              "      <td>NaN</td>\n",
              "      <td>60</td>\n",
              "      <td>733</td>\n",
              "      <td>3141</td>\n",
              "      <td>0</td>\n",
              "      <td>673.0</td>\n",
              "      <td>20190.0</td>\n",
              "      <td>2.0</td>\n",
              "      <td>56250.0</td>\n",
              "    </tr>\n",
              "    <tr>\n",
              "      <th>1</th>\n",
              "      <td>0</td>\n",
              "      <td>0</td>\n",
              "      <td>1</td>\n",
              "      <td>0</td>\n",
              "      <td>0.069767</td>\n",
              "      <td>2</td>\n",
              "      <td>1</td>\n",
              "      <td>1</td>\n",
              "      <td>1</td>\n",
              "      <td>18964</td>\n",
              "      <td>8671</td>\n",
              "      <td>0</td>\n",
              "      <td>1</td>\n",
              "      <td>0</td>\n",
              "      <td>3</td>\n",
              "      <td>2.0</td>\n",
              "      <td>36.0</td>\n",
              "      <td>NaN</td>\n",
              "      <td>51</td>\n",
              "      <td>632</td>\n",
              "      <td>2709</td>\n",
              "      <td>289</td>\n",
              "      <td>596.0</td>\n",
              "      <td>17884.0</td>\n",
              "      <td>2.0</td>\n",
              "      <td>67500.0</td>\n",
              "    </tr>\n",
              "    <tr>\n",
              "      <th>2</th>\n",
              "      <td>0</td>\n",
              "      <td>0</td>\n",
              "      <td>1</td>\n",
              "      <td>0</td>\n",
              "      <td>0.027372</td>\n",
              "      <td>4</td>\n",
              "      <td>4</td>\n",
              "      <td>1</td>\n",
              "      <td>1</td>\n",
              "      <td>15887</td>\n",
              "      <td>217</td>\n",
              "      <td>1</td>\n",
              "      <td>1</td>\n",
              "      <td>0</td>\n",
              "      <td>8</td>\n",
              "      <td>2.0</td>\n",
              "      <td>40.0</td>\n",
              "      <td>NaN</td>\n",
              "      <td>43</td>\n",
              "      <td>529</td>\n",
              "      <td>2269</td>\n",
              "      <td>7</td>\n",
              "      <td>489.0</td>\n",
              "      <td>14687.0</td>\n",
              "      <td>2.0</td>\n",
              "      <td>34686.0</td>\n",
              "    </tr>\n",
              "    <tr>\n",
              "      <th>3</th>\n",
              "      <td>1</td>\n",
              "      <td>1</td>\n",
              "      <td>0</td>\n",
              "      <td>0</td>\n",
              "      <td>0.055233</td>\n",
              "      <td>0</td>\n",
              "      <td>4</td>\n",
              "      <td>1</td>\n",
              "      <td>1</td>\n",
              "      <td>19270</td>\n",
              "      <td>2531</td>\n",
              "      <td>1</td>\n",
              "      <td>0</td>\n",
              "      <td>0</td>\n",
              "      <td>4</td>\n",
              "      <td>2.0</td>\n",
              "      <td>41.0</td>\n",
              "      <td>NaN</td>\n",
              "      <td>52</td>\n",
              "      <td>642</td>\n",
              "      <td>2752</td>\n",
              "      <td>84</td>\n",
              "      <td>601.0</td>\n",
              "      <td>18040.0</td>\n",
              "      <td>2.0</td>\n",
              "      <td>56250.0</td>\n",
              "    </tr>\n",
              "    <tr>\n",
              "      <th>4</th>\n",
              "      <td>0</td>\n",
              "      <td>1</td>\n",
              "      <td>1</td>\n",
              "      <td>0</td>\n",
              "      <td>0.127907</td>\n",
              "      <td>2</td>\n",
              "      <td>1</td>\n",
              "      <td>1</td>\n",
              "      <td>1</td>\n",
              "      <td>17822</td>\n",
              "      <td>9385</td>\n",
              "      <td>1</td>\n",
              "      <td>0</td>\n",
              "      <td>0</td>\n",
              "      <td>10</td>\n",
              "      <td>2.0</td>\n",
              "      <td>8.0</td>\n",
              "      <td>NaN</td>\n",
              "      <td>48</td>\n",
              "      <td>594</td>\n",
              "      <td>2546</td>\n",
              "      <td>312</td>\n",
              "      <td>586.0</td>\n",
              "      <td>17582.0</td>\n",
              "      <td>2.0</td>\n",
              "      <td>112500.0</td>\n",
              "    </tr>\n",
              "  </tbody>\n",
              "</table>\n",
              "</div>"
            ],
            "text/plain": [
              "   gender  car  reality  child_num  ...  cred_mon  cred_day  older  income_per\n",
              "0       1    1        0          0  ...     673.0   20190.0    2.0     56250.0\n",
              "1       0    0        1          0  ...     596.0   17884.0    2.0     67500.0\n",
              "2       0    0        1          0  ...     489.0   14687.0    2.0     34686.0\n",
              "3       1    1        0          0  ...     601.0   18040.0    2.0     56250.0\n",
              "4       0    1        1          0  ...     586.0   17582.0    2.0    112500.0\n",
              "\n",
              "[5 rows x 26 columns]"
            ]
          },
          "metadata": {
            "tags": []
          },
          "execution_count": 151
        }
      ]
    },
    {
      "cell_type": "code",
      "metadata": {
        "id": "pRhxnBNIboX_"
      },
      "source": [
        "test = test.drop('credit', axis=1)  #concat으로 인해 강제로 생겨난 credit열을 삭제해준다."
      ],
      "execution_count": 152,
      "outputs": []
    },
    {
      "cell_type": "code",
      "metadata": {
        "id": "35y-IoPtb61i"
      },
      "source": [
        "y_train= train['credit']  #결과값 credit은 y_train에 옮겨두고\n",
        "X_train = train.drop('credit',axis=1)  \n",
        "X_train=pd.get_dummies(X_train,columns=cat_cols)\n",
        "test=pd.get_dummies(test,columns=cat_cols)"
      ],
      "execution_count": 153,
      "outputs": []
    },
    {
      "cell_type": "code",
      "metadata": {
        "id": "1iL6L8jbwxHf",
        "colab": {
          "base_uri": "https://localhost:8080/"
        },
        "outputId": "f5251576-e955-4633-bc0d-c7ef8c89b732"
      },
      "source": [
        "from sklearn.model_selection import train_test_split\n",
        "#학습-검증데이터셋 8:2비율로 둠\n",
        "X_train,X_valid, y_train, y_valid = train_test_split(X_train,y_train, test_size=0.2, random_state=0, shuffle=True)\n",
        "\n",
        "print('X_train = ', X_train.shape)\n",
        "print('X_valid = ', X_valid.shape)\n",
        "print('y_train = ', y_train.shape)\n",
        "print('y_valid = ', y_valid.shape)"
      ],
      "execution_count": 154,
      "outputs": [
        {
          "output_type": "stream",
          "text": [
            "X_train =  (21160, 63)\n",
            "X_valid =  (5291, 63)\n",
            "y_train =  (21160,)\n",
            "y_valid =  (5291,)\n"
          ],
          "name": "stdout"
        }
      ]
    },
    {
      "cell_type": "code",
      "metadata": {
        "colab": {
          "base_uri": "https://localhost:8080/"
        },
        "id": "CWAQ8FXrjTwh",
        "outputId": "ee5fee60-28cf-4502-ee7f-bb8a6a7ae420"
      },
      "source": [
        "X_train.info()"
      ],
      "execution_count": 155,
      "outputs": [
        {
          "output_type": "stream",
          "text": [
            "<class 'pandas.core.frame.DataFrame'>\n",
            "Int64Index: 21160 entries, 12 to 2732\n",
            "Data columns (total 63 columns):\n",
            " #   Column         Non-Null Count  Dtype  \n",
            "---  ------         --------------  -----  \n",
            " 0   child_num      21160 non-null  int64  \n",
            " 1   income_total   21160 non-null  float64\n",
            " 2   DAYS_BIRTH     21160 non-null  int64  \n",
            " 3   DAYS_EMPLOYED  21160 non-null  int64  \n",
            " 4   work_phone     21160 non-null  int64  \n",
            " 5   phone          21160 non-null  int64  \n",
            " 6   email          21160 non-null  int64  \n",
            " 7   family_size    21160 non-null  float64\n",
            " 8   begin_month    21160 non-null  float64\n",
            " 9   Age            21160 non-null  int64  \n",
            " 10  birth_mon      21160 non-null  int64  \n",
            " 11  birth_week     21160 non-null  int64  \n",
            " 12  work_month     21160 non-null  int64  \n",
            " 13  cred_mon       21160 non-null  float64\n",
            " 14  cred_day       21160 non-null  float64\n",
            " 15  older          21160 non-null  float64\n",
            " 16  income_per     21160 non-null  float64\n",
            " 17  gender_0       21160 non-null  uint8  \n",
            " 18  gender_1       21160 non-null  uint8  \n",
            " 19  car_0          21160 non-null  uint8  \n",
            " 20  car_1          21160 non-null  uint8  \n",
            " 21  reality_0      21160 non-null  uint8  \n",
            " 22  reality_1      21160 non-null  uint8  \n",
            " 23  income_type_0  21160 non-null  uint8  \n",
            " 24  income_type_1  21160 non-null  uint8  \n",
            " 25  income_type_2  21160 non-null  uint8  \n",
            " 26  income_type_3  21160 non-null  uint8  \n",
            " 27  income_type_4  21160 non-null  uint8  \n",
            " 28  edu_type_0     21160 non-null  uint8  \n",
            " 29  edu_type_1     21160 non-null  uint8  \n",
            " 30  edu_type_2     21160 non-null  uint8  \n",
            " 31  edu_type_3     21160 non-null  uint8  \n",
            " 32  edu_type_4     21160 non-null  uint8  \n",
            " 33  family_type_0  21160 non-null  uint8  \n",
            " 34  family_type_1  21160 non-null  uint8  \n",
            " 35  family_type_2  21160 non-null  uint8  \n",
            " 36  family_type_3  21160 non-null  uint8  \n",
            " 37  family_type_4  21160 non-null  uint8  \n",
            " 38  house_type_0   21160 non-null  uint8  \n",
            " 39  house_type_1   21160 non-null  uint8  \n",
            " 40  house_type_2   21160 non-null  uint8  \n",
            " 41  house_type_3   21160 non-null  uint8  \n",
            " 42  house_type_4   21160 non-null  uint8  \n",
            " 43  house_type_5   21160 non-null  uint8  \n",
            " 44  occyp_type_0   21160 non-null  uint8  \n",
            " 45  occyp_type_1   21160 non-null  uint8  \n",
            " 46  occyp_type_2   21160 non-null  uint8  \n",
            " 47  occyp_type_3   21160 non-null  uint8  \n",
            " 48  occyp_type_4   21160 non-null  uint8  \n",
            " 49  occyp_type_5   21160 non-null  uint8  \n",
            " 50  occyp_type_6   21160 non-null  uint8  \n",
            " 51  occyp_type_7   21160 non-null  uint8  \n",
            " 52  occyp_type_8   21160 non-null  uint8  \n",
            " 53  occyp_type_9   21160 non-null  uint8  \n",
            " 54  occyp_type_10  21160 non-null  uint8  \n",
            " 55  occyp_type_11  21160 non-null  uint8  \n",
            " 56  occyp_type_12  21160 non-null  uint8  \n",
            " 57  occyp_type_13  21160 non-null  uint8  \n",
            " 58  occyp_type_14  21160 non-null  uint8  \n",
            " 59  occyp_type_15  21160 non-null  uint8  \n",
            " 60  occyp_type_16  21160 non-null  uint8  \n",
            " 61  occyp_type_17  21160 non-null  uint8  \n",
            " 62  occyp_type_18  21160 non-null  uint8  \n",
            "dtypes: float64(7), int64(10), uint8(46)\n",
            "memory usage: 3.8 MB\n"
          ],
          "name": "stdout"
        }
      ]
    },
    {
      "cell_type": "code",
      "metadata": {
        "colab": {
          "base_uri": "https://localhost:8080/"
        },
        "id": "VuRH1mr7e3Iy",
        "outputId": "6c0a8515-3777-4681-9aef-32abc3347fa9"
      },
      "source": [
        "!pip install optuna   #optuna설치"
      ],
      "execution_count": 156,
      "outputs": [
        {
          "output_type": "stream",
          "text": [
            "Collecting optuna\n",
            "\u001b[?25l  Downloading https://files.pythonhosted.org/packages/2b/21/d13081805e1e1afc71f5bb743ece324c8bd576237c51b899ecb38a717502/optuna-2.7.0-py3-none-any.whl (293kB)\n",
            "\u001b[K     |████████████████████████████████| 296kB 7.7MB/s \n",
            "\u001b[?25hRequirement already satisfied: tqdm in /usr/local/lib/python3.7/dist-packages (from optuna) (4.41.1)\n",
            "Collecting cliff\n",
            "\u001b[?25l  Downloading https://files.pythonhosted.org/packages/87/11/aea1cacbd4cf8262809c4d6f95dcb3f2802594de1f51c5bd454d69bf15c5/cliff-3.8.0-py3-none-any.whl (80kB)\n",
            "\u001b[K     |████████████████████████████████| 81kB 7.3MB/s \n",
            "\u001b[?25hCollecting alembic\n",
            "\u001b[?25l  Downloading https://files.pythonhosted.org/packages/d5/80/ef186e599a57d0e4cb78fc76e0bfc2e6953fa9716b2a5cf2de0117ed8eb5/alembic-1.6.5-py2.py3-none-any.whl (164kB)\n",
            "\u001b[K     |████████████████████████████████| 174kB 13.9MB/s \n",
            "\u001b[?25hRequirement already satisfied: scipy!=1.4.0 in /usr/local/lib/python3.7/dist-packages (from optuna) (1.4.1)\n",
            "Collecting cmaes>=0.8.2\n",
            "  Downloading https://files.pythonhosted.org/packages/01/1f/43b01223a0366171f474320c6e966c39a11587287f098a5f09809b45e05f/cmaes-0.8.2-py3-none-any.whl\n",
            "Requirement already satisfied: packaging>=20.0 in /usr/local/lib/python3.7/dist-packages (from optuna) (20.9)\n",
            "Requirement already satisfied: numpy in /usr/local/lib/python3.7/dist-packages (from optuna) (1.19.5)\n",
            "Requirement already satisfied: sqlalchemy>=1.1.0 in /usr/local/lib/python3.7/dist-packages (from optuna) (1.4.15)\n",
            "Collecting colorlog\n",
            "  Downloading https://files.pythonhosted.org/packages/32/e6/e9ddc6fa1104fda718338b341e4b3dc31cd8039ab29e52fc73b508515361/colorlog-5.0.1-py2.py3-none-any.whl\n",
            "Collecting cmd2>=1.0.0\n",
            "\u001b[?25l  Downloading https://files.pythonhosted.org/packages/15/8b/15061b32332bb35ea2a2f6263d0f616779d576e82739ec8e7fcf3c94abf5/cmd2-1.5.0-py3-none-any.whl (133kB)\n",
            "\u001b[K     |████████████████████████████████| 143kB 14.8MB/s \n",
            "\u001b[?25hRequirement already satisfied: PyYAML>=3.12 in /usr/local/lib/python3.7/dist-packages (from cliff->optuna) (3.13)\n",
            "Requirement already satisfied: PrettyTable>=0.7.2 in /usr/local/lib/python3.7/dist-packages (from cliff->optuna) (2.1.0)\n",
            "Collecting pbr!=2.1.0,>=2.0.0\n",
            "\u001b[?25l  Downloading https://files.pythonhosted.org/packages/18/e0/1d4702dd81121d04a477c272d47ee5b6bc970d1a0990b11befa275c55cf2/pbr-5.6.0-py2.py3-none-any.whl (111kB)\n",
            "\u001b[K     |████████████████████████████████| 112kB 18.4MB/s \n",
            "\u001b[?25hRequirement already satisfied: pyparsing>=2.1.0 in /usr/local/lib/python3.7/dist-packages (from cliff->optuna) (2.4.7)\n",
            "Collecting stevedore>=2.0.1\n",
            "\u001b[?25l  Downloading https://files.pythonhosted.org/packages/d4/49/b602307aeac3df3384ff1fcd05da9c0376c622a6c48bb5325f28ab165b57/stevedore-3.3.0-py3-none-any.whl (49kB)\n",
            "\u001b[K     |████████████████████████████████| 51kB 4.9MB/s \n",
            "\u001b[?25hCollecting python-editor>=0.3\n",
            "  Downloading https://files.pythonhosted.org/packages/c6/d3/201fc3abe391bbae6606e6f1d598c15d367033332bd54352b12f35513717/python_editor-1.0.4-py3-none-any.whl\n",
            "Requirement already satisfied: python-dateutil in /usr/local/lib/python3.7/dist-packages (from alembic->optuna) (2.8.1)\n",
            "Collecting Mako\n",
            "\u001b[?25l  Downloading https://files.pythonhosted.org/packages/f3/54/dbc07fbb20865d3b78fdb7cf7fa713e2cba4f87f71100074ef2dc9f9d1f7/Mako-1.1.4-py2.py3-none-any.whl (75kB)\n",
            "\u001b[K     |████████████████████████████████| 81kB 7.6MB/s \n",
            "\u001b[?25hRequirement already satisfied: greenlet!=0.4.17; python_version >= \"3\" in /usr/local/lib/python3.7/dist-packages (from sqlalchemy>=1.1.0->optuna) (1.1.0)\n",
            "Requirement already satisfied: importlib-metadata; python_version < \"3.8\" in /usr/local/lib/python3.7/dist-packages (from sqlalchemy>=1.1.0->optuna) (4.0.1)\n",
            "Requirement already satisfied: attrs>=16.3.0 in /usr/local/lib/python3.7/dist-packages (from cmd2>=1.0.0->cliff->optuna) (21.2.0)\n",
            "Collecting colorama>=0.3.7\n",
            "  Downloading https://files.pythonhosted.org/packages/44/98/5b86278fbbf250d239ae0ecb724f8572af1c91f4a11edf4d36a206189440/colorama-0.4.4-py2.py3-none-any.whl\n",
            "Collecting pyperclip>=1.6\n",
            "  Downloading https://files.pythonhosted.org/packages/a7/2c/4c64579f847bd5d539803c8b909e54ba087a79d01bb3aba433a95879a6c5/pyperclip-1.8.2.tar.gz\n",
            "Requirement already satisfied: wcwidth>=0.1.7 in /usr/local/lib/python3.7/dist-packages (from cmd2>=1.0.0->cliff->optuna) (0.2.5)\n",
            "Requirement already satisfied: six>=1.5 in /usr/local/lib/python3.7/dist-packages (from python-dateutil->alembic->optuna) (1.15.0)\n",
            "Requirement already satisfied: MarkupSafe>=0.9.2 in /usr/local/lib/python3.7/dist-packages (from Mako->alembic->optuna) (2.0.1)\n",
            "Requirement already satisfied: typing-extensions>=3.6.4; python_version < \"3.8\" in /usr/local/lib/python3.7/dist-packages (from importlib-metadata; python_version < \"3.8\"->sqlalchemy>=1.1.0->optuna) (3.7.4.3)\n",
            "Requirement already satisfied: zipp>=0.5 in /usr/local/lib/python3.7/dist-packages (from importlib-metadata; python_version < \"3.8\"->sqlalchemy>=1.1.0->optuna) (3.4.1)\n",
            "Building wheels for collected packages: pyperclip\n",
            "  Building wheel for pyperclip (setup.py) ... \u001b[?25l\u001b[?25hdone\n",
            "  Created wheel for pyperclip: filename=pyperclip-1.8.2-cp37-none-any.whl size=11107 sha256=e15d865afd761d2e49b8d2d44cd1a57db1b79bf61bf011dd6e311aaa1d2ab780\n",
            "  Stored in directory: /root/.cache/pip/wheels/25/af/b8/3407109267803f4015e1ee2ff23be0c8c19ce4008665931ee1\n",
            "Successfully built pyperclip\n",
            "Installing collected packages: colorama, pyperclip, cmd2, pbr, stevedore, cliff, python-editor, Mako, alembic, cmaes, colorlog, optuna\n",
            "Successfully installed Mako-1.1.4 alembic-1.6.5 cliff-3.8.0 cmaes-0.8.2 cmd2-1.5.0 colorama-0.4.4 colorlog-5.0.1 optuna-2.7.0 pbr-5.6.0 pyperclip-1.8.2 python-editor-1.0.4 stevedore-3.3.0\n"
          ],
          "name": "stdout"
        }
      ]
    },
    {
      "cell_type": "code",
      "metadata": {
        "colab": {
          "base_uri": "https://localhost:8080/"
        },
        "id": "RZbowp21nOZS",
        "outputId": "607b95b4-99e5-4a13-df51-f451122a26d4"
      },
      "source": [
        "#!pip install catboost   catboost보다 lgbm이 더 빠르고 정확도가 잘 나와서 여기서 굳이 사용해보지 X"
      ],
      "execution_count": 157,
      "outputs": [
        {
          "output_type": "stream",
          "text": [
            "Collecting catboost\n",
            "\u001b[?25l  Downloading https://files.pythonhosted.org/packages/47/80/8e9c57ec32dfed6ba2922bc5c96462cbf8596ce1a6f5de532ad1e43e53fe/catboost-0.25.1-cp37-none-manylinux1_x86_64.whl (67.3MB)\n",
            "\u001b[K     |████████████████████████████████| 67.3MB 90kB/s \n",
            "\u001b[?25hRequirement already satisfied: matplotlib in /usr/local/lib/python3.7/dist-packages (from catboost) (3.2.2)\n",
            "Requirement already satisfied: numpy>=1.16.0 in /usr/local/lib/python3.7/dist-packages (from catboost) (1.19.5)\n",
            "Requirement already satisfied: plotly in /usr/local/lib/python3.7/dist-packages (from catboost) (4.4.1)\n",
            "Requirement already satisfied: pandas>=0.24.0 in /usr/local/lib/python3.7/dist-packages (from catboost) (1.1.5)\n",
            "Requirement already satisfied: graphviz in /usr/local/lib/python3.7/dist-packages (from catboost) (0.10.1)\n",
            "Requirement already satisfied: six in /usr/local/lib/python3.7/dist-packages (from catboost) (1.15.0)\n",
            "Requirement already satisfied: scipy in /usr/local/lib/python3.7/dist-packages (from catboost) (1.4.1)\n",
            "Requirement already satisfied: python-dateutil>=2.1 in /usr/local/lib/python3.7/dist-packages (from matplotlib->catboost) (2.8.1)\n",
            "Requirement already satisfied: pyparsing!=2.0.4,!=2.1.2,!=2.1.6,>=2.0.1 in /usr/local/lib/python3.7/dist-packages (from matplotlib->catboost) (2.4.7)\n",
            "Requirement already satisfied: cycler>=0.10 in /usr/local/lib/python3.7/dist-packages (from matplotlib->catboost) (0.10.0)\n",
            "Requirement already satisfied: kiwisolver>=1.0.1 in /usr/local/lib/python3.7/dist-packages (from matplotlib->catboost) (1.3.1)\n",
            "Requirement already satisfied: retrying>=1.3.3 in /usr/local/lib/python3.7/dist-packages (from plotly->catboost) (1.3.3)\n",
            "Requirement already satisfied: pytz>=2017.2 in /usr/local/lib/python3.7/dist-packages (from pandas>=0.24.0->catboost) (2018.9)\n",
            "Installing collected packages: catboost\n",
            "Successfully installed catboost-0.25.1\n"
          ],
          "name": "stdout"
        }
      ]
    },
    {
      "cell_type": "code",
      "metadata": {
        "id": "Jg4blwvQe0bu"
      },
      "source": [
        "import optuna\n",
        "from lightgbm import LGBMClassifier\n",
        "from optuna import Trial\n",
        "from optuna.samplers import TPESampler\n",
        "from sklearn.metrics import log_loss\n",
        "def objective(trial: Trial) -> float:\n",
        "    params= {\n",
        "        \"objective\": \"multiclass\",\n",
        "        \"metric\": \"multi_logloss\",\n",
        "        \"random_state\": 42,\n",
        "        \"verbosity\": -1,\n",
        "        \"learning_rate\":trial.suggest_categorical('learning_rate', [0.01, 0.05,0.03,0.07]),\n",
        "        \"n_estimators\": trial.suggest_categorical('n_estimators', [100,300,500,700,10000]),\n",
        "        \"reg_alpha\": trial.suggest_float(\"reg_alpha\", 1e-5, 3e-5),\n",
        "        \"reg_lambda\": trial.suggest_float(\"reg_lambda\", 1e-5, 9e-2),\n",
        "        \"max_depth\": trial.suggest_categorical('max_depth', [3,5,7]),\n",
        "        \"num_leaves\": trial.suggest_int(\"num_leaves\", 2, 256),\n",
        "        \"colsample_bytree\": trial.suggest_categorical('colsample_bytree', [0.4,0.5,0.7,1.0]),\n",
        "        \"subsample\": trial.suggest_categorical('subsample', [0.4,0.6,0.8,0.1]),\n",
        "        \"subsample_freq\": trial.suggest_int(\"subsample_freq\", 1, 10),\n",
        "        \"min_child_samples\": trial.suggest_int(\"min_child_samples\", 5, 100),\n",
        "        \"max_bin\": trial.suggest_int(\"max_bin\", 200, 500),\n",
        "    }\n",
        "    \n",
        "    model =  LGBMClassifier(**params)\n",
        "    model.fit(X_train,y_train,eval_set=[(X_train, y_train), (X_valid, y_valid)],early_stopping_rounds=200,verbose=100)\n",
        "\n",
        "    lgb_pred = model.predict_proba(X_valid)\n",
        "    log_score = log_loss(y_valid, lgb_pred)\n",
        "    \n",
        "    return log_score"
      ],
      "execution_count": 158,
      "outputs": []
    },
    {
      "cell_type": "code",
      "metadata": {
        "colab": {
          "base_uri": "https://localhost:8080/"
        },
        "id": "N_vmtzkKuQJD",
        "outputId": "b7d893b5-8f36-48bd-f017-66bc4a53f19e"
      },
      "source": [
        "sampler = TPESampler(seed=42)\n",
        "study = optuna.create_study(\n",
        "    study_name=\"lgbm_parameter_opt\",\n",
        "    direction=\"minimize\",\n",
        "    sampler=sampler,\n",
        ")\n",
        "study.optimize(objective, n_trials=10)\n",
        "print(\"Best Score:\", study.best_value)\n",
        "print(\"Best trial:\", study.best_trial.params)"
      ],
      "execution_count": 159,
      "outputs": [
        {
          "output_type": "stream",
          "text": [
            "\u001b[32m[I 2021-06-02 06:29:28,994]\u001b[0m A new study created in memory with name: lgbm_parameter_opt\u001b[0m\n"
          ],
          "name": "stderr"
        },
        {
          "output_type": "stream",
          "text": [
            "Training until validation scores don't improve for 200 rounds.\n",
            "[100]\ttraining's multi_logloss: 0.800031\tvalid_1's multi_logloss: 0.792455\n",
            "[200]\ttraining's multi_logloss: 0.785159\tvalid_1's multi_logloss: 0.78416\n",
            "[300]\ttraining's multi_logloss: 0.773623\tvalid_1's multi_logloss: 0.778733\n",
            "[400]\ttraining's multi_logloss: 0.763903\tvalid_1's multi_logloss: 0.775111\n",
            "[500]\ttraining's multi_logloss: 0.755105\tvalid_1's multi_logloss: 0.771785\n",
            "[600]\ttraining's multi_logloss: 0.746929\tvalid_1's multi_logloss: 0.769722\n",
            "[700]\ttraining's multi_logloss: 0.73987\tvalid_1's multi_logloss: 0.768176\n",
            "Did not meet early stopping. Best iteration is:\n",
            "[700]\ttraining's multi_logloss: 0.73987\tvalid_1's multi_logloss: 0.768176\n"
          ],
          "name": "stdout"
        },
        {
          "output_type": "stream",
          "text": [
            "\u001b[32m[I 2021-06-02 06:29:36,692]\u001b[0m Trial 0 finished with value: 0.7681761064558329 and parameters: {'learning_rate': 0.05, 'n_estimators': 700, 'reg_alpha': 2.416145155592091e-05, 'reg_lambda': 0.0018623986416792622, 'max_depth': 3, 'num_leaves': 48, 'colsample_bytree': 0.7, 'subsample': 0.6, 'subsample_freq': 4, 'min_child_samples': 48, 'max_bin': 436}. Best is trial 0 with value: 0.7681761064558329.\u001b[0m\n"
          ],
          "name": "stderr"
        },
        {
          "output_type": "stream",
          "text": [
            "Training until validation scores don't improve for 200 rounds.\n",
            "[100]\ttraining's multi_logloss: 0.798488\tvalid_1's multi_logloss: 0.794274\n",
            "[200]\ttraining's multi_logloss: 0.776724\tvalid_1's multi_logloss: 0.782253\n",
            "[300]\ttraining's multi_logloss: 0.761852\tvalid_1's multi_logloss: 0.776173\n",
            "[400]\ttraining's multi_logloss: 0.748433\tvalid_1's multi_logloss: 0.771174\n",
            "[500]\ttraining's multi_logloss: 0.736802\tvalid_1's multi_logloss: 0.766897\n",
            "[600]\ttraining's multi_logloss: 0.726334\tvalid_1's multi_logloss: 0.763673\n",
            "[700]\ttraining's multi_logloss: 0.716834\tvalid_1's multi_logloss: 0.760903\n",
            "[800]\ttraining's multi_logloss: 0.707362\tvalid_1's multi_logloss: 0.758915\n",
            "[900]\ttraining's multi_logloss: 0.698529\tvalid_1's multi_logloss: 0.757226\n",
            "[1000]\ttraining's multi_logloss: 0.690373\tvalid_1's multi_logloss: 0.755561\n",
            "[1100]\ttraining's multi_logloss: 0.68261\tvalid_1's multi_logloss: 0.753011\n",
            "[1200]\ttraining's multi_logloss: 0.675215\tvalid_1's multi_logloss: 0.752261\n",
            "[1300]\ttraining's multi_logloss: 0.667866\tvalid_1's multi_logloss: 0.750743\n",
            "[1400]\ttraining's multi_logloss: 0.661372\tvalid_1's multi_logloss: 0.749652\n",
            "[1500]\ttraining's multi_logloss: 0.654481\tvalid_1's multi_logloss: 0.748342\n",
            "[1600]\ttraining's multi_logloss: 0.648438\tvalid_1's multi_logloss: 0.747133\n",
            "[1700]\ttraining's multi_logloss: 0.642541\tvalid_1's multi_logloss: 0.746285\n",
            "[1800]\ttraining's multi_logloss: 0.636669\tvalid_1's multi_logloss: 0.745319\n",
            "[1900]\ttraining's multi_logloss: 0.630425\tvalid_1's multi_logloss: 0.74433\n",
            "[2000]\ttraining's multi_logloss: 0.624963\tvalid_1's multi_logloss: 0.743144\n",
            "[2100]\ttraining's multi_logloss: 0.61985\tvalid_1's multi_logloss: 0.742818\n",
            "[2200]\ttraining's multi_logloss: 0.614402\tvalid_1's multi_logloss: 0.741958\n",
            "[2300]\ttraining's multi_logloss: 0.609502\tvalid_1's multi_logloss: 0.741385\n",
            "[2400]\ttraining's multi_logloss: 0.60483\tvalid_1's multi_logloss: 0.740831\n",
            "[2500]\ttraining's multi_logloss: 0.600047\tvalid_1's multi_logloss: 0.740148\n",
            "[2600]\ttraining's multi_logloss: 0.595522\tvalid_1's multi_logloss: 0.739219\n",
            "[2700]\ttraining's multi_logloss: 0.590572\tvalid_1's multi_logloss: 0.739242\n",
            "[2800]\ttraining's multi_logloss: 0.586087\tvalid_1's multi_logloss: 0.73907\n",
            "[2900]\ttraining's multi_logloss: 0.581993\tvalid_1's multi_logloss: 0.739056\n",
            "[3000]\ttraining's multi_logloss: 0.577581\tvalid_1's multi_logloss: 0.738229\n",
            "[3100]\ttraining's multi_logloss: 0.57346\tvalid_1's multi_logloss: 0.738067\n",
            "[3200]\ttraining's multi_logloss: 0.569385\tvalid_1's multi_logloss: 0.737684\n",
            "[3300]\ttraining's multi_logloss: 0.565665\tvalid_1's multi_logloss: 0.738251\n",
            "[3400]\ttraining's multi_logloss: 0.561874\tvalid_1's multi_logloss: 0.738529\n",
            "Early stopping, best iteration is:\n",
            "[3258]\ttraining's multi_logloss: 0.567184\tvalid_1's multi_logloss: 0.737578\n"
          ],
          "name": "stdout"
        },
        {
          "output_type": "stream",
          "text": [
            "\u001b[32m[I 2021-06-02 06:30:22,874]\u001b[0m Trial 1 finished with value: 0.7375784004035166 and parameters: {'learning_rate': 0.03, 'n_estimators': 10000, 'reg_alpha': 2.6167946962329225e-05, 'reg_lambda': 0.027422193087911627, 'max_depth': 5, 'num_leaves': 33, 'colsample_bytree': 0.7, 'subsample': 0.4, 'subsample_freq': 2, 'min_child_samples': 98, 'max_bin': 433}. Best is trial 1 with value: 0.7375784004035166.\u001b[0m\n"
          ],
          "name": "stderr"
        },
        {
          "output_type": "stream",
          "text": [
            "Training until validation scores don't improve for 200 rounds.\n",
            "[100]\ttraining's multi_logloss: 0.821273\tvalid_1's multi_logloss: 0.815658\n",
            "[200]\ttraining's multi_logloss: 0.793223\tvalid_1's multi_logloss: 0.795581\n",
            "[300]\ttraining's multi_logloss: 0.774653\tvalid_1's multi_logloss: 0.785035\n",
            "[400]\ttraining's multi_logloss: 0.760528\tvalid_1's multi_logloss: 0.777447\n",
            "[500]\ttraining's multi_logloss: 0.749276\tvalid_1's multi_logloss: 0.772362\n",
            "[600]\ttraining's multi_logloss: 0.739125\tvalid_1's multi_logloss: 0.768284\n",
            "[700]\ttraining's multi_logloss: 0.730858\tvalid_1's multi_logloss: 0.76509\n",
            "[800]\ttraining's multi_logloss: 0.722986\tvalid_1's multi_logloss: 0.762059\n",
            "[900]\ttraining's multi_logloss: 0.715137\tvalid_1's multi_logloss: 0.759259\n",
            "[1000]\ttraining's multi_logloss: 0.707987\tvalid_1's multi_logloss: 0.756908\n",
            "[1100]\ttraining's multi_logloss: 0.701248\tvalid_1's multi_logloss: 0.754738\n",
            "[1200]\ttraining's multi_logloss: 0.693664\tvalid_1's multi_logloss: 0.752632\n",
            "[1300]\ttraining's multi_logloss: 0.687194\tvalid_1's multi_logloss: 0.750725\n",
            "[1400]\ttraining's multi_logloss: 0.680832\tvalid_1's multi_logloss: 0.749182\n",
            "[1500]\ttraining's multi_logloss: 0.674728\tvalid_1's multi_logloss: 0.747632\n",
            "[1600]\ttraining's multi_logloss: 0.668866\tvalid_1's multi_logloss: 0.745845\n",
            "[1700]\ttraining's multi_logloss: 0.662793\tvalid_1's multi_logloss: 0.74435\n",
            "[1800]\ttraining's multi_logloss: 0.656532\tvalid_1's multi_logloss: 0.742938\n",
            "[1900]\ttraining's multi_logloss: 0.650607\tvalid_1's multi_logloss: 0.741651\n",
            "[2000]\ttraining's multi_logloss: 0.645287\tvalid_1's multi_logloss: 0.740503\n",
            "[2100]\ttraining's multi_logloss: 0.639886\tvalid_1's multi_logloss: 0.739484\n",
            "[2200]\ttraining's multi_logloss: 0.633963\tvalid_1's multi_logloss: 0.737963\n",
            "[2300]\ttraining's multi_logloss: 0.629368\tvalid_1's multi_logloss: 0.737102\n",
            "[2400]\ttraining's multi_logloss: 0.624431\tvalid_1's multi_logloss: 0.736085\n",
            "[2500]\ttraining's multi_logloss: 0.619214\tvalid_1's multi_logloss: 0.735103\n",
            "[2600]\ttraining's multi_logloss: 0.614697\tvalid_1's multi_logloss: 0.734509\n",
            "[2700]\ttraining's multi_logloss: 0.609875\tvalid_1's multi_logloss: 0.733626\n",
            "[2800]\ttraining's multi_logloss: 0.604979\tvalid_1's multi_logloss: 0.732758\n",
            "[2900]\ttraining's multi_logloss: 0.60031\tvalid_1's multi_logloss: 0.732205\n",
            "[3000]\ttraining's multi_logloss: 0.596119\tvalid_1's multi_logloss: 0.731368\n",
            "[3100]\ttraining's multi_logloss: 0.591986\tvalid_1's multi_logloss: 0.730785\n",
            "[3200]\ttraining's multi_logloss: 0.587718\tvalid_1's multi_logloss: 0.730071\n",
            "[3300]\ttraining's multi_logloss: 0.583573\tvalid_1's multi_logloss: 0.729496\n",
            "[3400]\ttraining's multi_logloss: 0.579837\tvalid_1's multi_logloss: 0.729116\n",
            "[3500]\ttraining's multi_logloss: 0.575479\tvalid_1's multi_logloss: 0.72852\n",
            "[3600]\ttraining's multi_logloss: 0.571728\tvalid_1's multi_logloss: 0.728009\n",
            "[3700]\ttraining's multi_logloss: 0.568036\tvalid_1's multi_logloss: 0.727687\n",
            "[3800]\ttraining's multi_logloss: 0.564308\tvalid_1's multi_logloss: 0.727313\n",
            "[3900]\ttraining's multi_logloss: 0.561071\tvalid_1's multi_logloss: 0.726877\n",
            "[4000]\ttraining's multi_logloss: 0.557338\tvalid_1's multi_logloss: 0.726285\n",
            "[4100]\ttraining's multi_logloss: 0.553652\tvalid_1's multi_logloss: 0.725864\n",
            "[4200]\ttraining's multi_logloss: 0.549825\tvalid_1's multi_logloss: 0.725604\n",
            "[4300]\ttraining's multi_logloss: 0.546337\tvalid_1's multi_logloss: 0.725231\n",
            "[4400]\ttraining's multi_logloss: 0.542812\tvalid_1's multi_logloss: 0.72477\n",
            "[4500]\ttraining's multi_logloss: 0.539533\tvalid_1's multi_logloss: 0.724461\n",
            "[4600]\ttraining's multi_logloss: 0.536058\tvalid_1's multi_logloss: 0.724255\n",
            "[4700]\ttraining's multi_logloss: 0.532679\tvalid_1's multi_logloss: 0.72388\n",
            "[4800]\ttraining's multi_logloss: 0.529149\tvalid_1's multi_logloss: 0.723565\n",
            "[4900]\ttraining's multi_logloss: 0.526265\tvalid_1's multi_logloss: 0.72351\n",
            "[5000]\ttraining's multi_logloss: 0.523022\tvalid_1's multi_logloss: 0.723426\n",
            "[5100]\ttraining's multi_logloss: 0.519788\tvalid_1's multi_logloss: 0.723278\n",
            "[5200]\ttraining's multi_logloss: 0.516417\tvalid_1's multi_logloss: 0.723007\n",
            "[5300]\ttraining's multi_logloss: 0.513214\tvalid_1's multi_logloss: 0.723019\n",
            "[5400]\ttraining's multi_logloss: 0.510393\tvalid_1's multi_logloss: 0.722972\n",
            "[5500]\ttraining's multi_logloss: 0.50723\tvalid_1's multi_logloss: 0.722774\n",
            "[5600]\ttraining's multi_logloss: 0.504153\tvalid_1's multi_logloss: 0.722972\n",
            "[5700]\ttraining's multi_logloss: 0.50146\tvalid_1's multi_logloss: 0.723058\n",
            "Early stopping, best iteration is:\n",
            "[5502]\ttraining's multi_logloss: 0.507158\tvalid_1's multi_logloss: 0.722765\n"
          ],
          "name": "stdout"
        },
        {
          "output_type": "stream",
          "text": [
            "\u001b[32m[I 2021-06-02 06:32:11,170]\u001b[0m Trial 2 finished with value: 0.7227654500831305 and parameters: {'learning_rate': 0.01, 'n_estimators': 10000, 'reg_alpha': 1.542698063547792e-05, 'reg_lambda': 0.07458808844858211, 'max_depth': 7, 'num_leaves': 37, 'colsample_bytree': 0.7, 'subsample': 0.8, 'subsample_freq': 8, 'min_child_samples': 79, 'max_bin': 222}. Best is trial 2 with value: 0.7227654500831305.\u001b[0m\n"
          ],
          "name": "stderr"
        },
        {
          "output_type": "stream",
          "text": [
            "Training until validation scores don't improve for 200 rounds.\n",
            "[100]\ttraining's multi_logloss: 0.776256\tvalid_1's multi_logloss: 0.787221\n",
            "[200]\ttraining's multi_logloss: 0.734268\tvalid_1's multi_logloss: 0.76712\n",
            "[300]\ttraining's multi_logloss: 0.703481\tvalid_1's multi_logloss: 0.756289\n",
            "[400]\ttraining's multi_logloss: 0.677153\tvalid_1's multi_logloss: 0.748607\n",
            "[500]\ttraining's multi_logloss: 0.654347\tvalid_1's multi_logloss: 0.744256\n",
            "[600]\ttraining's multi_logloss: 0.635113\tvalid_1's multi_logloss: 0.739332\n",
            "[700]\ttraining's multi_logloss: 0.617748\tvalid_1's multi_logloss: 0.736413\n",
            "[800]\ttraining's multi_logloss: 0.59999\tvalid_1's multi_logloss: 0.732811\n",
            "[900]\ttraining's multi_logloss: 0.584221\tvalid_1's multi_logloss: 0.730264\n",
            "[1000]\ttraining's multi_logloss: 0.570466\tvalid_1's multi_logloss: 0.728036\n",
            "[1100]\ttraining's multi_logloss: 0.556075\tvalid_1's multi_logloss: 0.726837\n",
            "[1200]\ttraining's multi_logloss: 0.54116\tvalid_1's multi_logloss: 0.725212\n",
            "[1300]\ttraining's multi_logloss: 0.528233\tvalid_1's multi_logloss: 0.724486\n",
            "[1400]\ttraining's multi_logloss: 0.517493\tvalid_1's multi_logloss: 0.725081\n",
            "[1500]\ttraining's multi_logloss: 0.505343\tvalid_1's multi_logloss: 0.724801\n",
            "Early stopping, best iteration is:\n",
            "[1350]\ttraining's multi_logloss: 0.52216\tvalid_1's multi_logloss: 0.724312\n"
          ],
          "name": "stdout"
        },
        {
          "output_type": "stream",
          "text": [
            "\u001b[32m[I 2021-06-02 06:32:37,203]\u001b[0m Trial 3 finished with value: 0.7243121904881697 and parameters: {'learning_rate': 0.03, 'n_estimators': 10000, 'reg_alpha': 2.2751149427104262e-05, 'reg_lambda': 0.07985027470444363, 'max_depth': 7, 'num_leaves': 196, 'colsample_bytree': 0.5, 'subsample': 0.4, 'subsample_freq': 7, 'min_child_samples': 35, 'max_bin': 353}. Best is trial 2 with value: 0.7227654500831305.\u001b[0m\n"
          ],
          "name": "stderr"
        },
        {
          "output_type": "stream",
          "text": [
            "Training until validation scores don't improve for 200 rounds.\n",
            "[100]\ttraining's multi_logloss: 0.836405\tvalid_1's multi_logloss: 0.823205\n",
            "[200]\ttraining's multi_logloss: 0.818114\tvalid_1's multi_logloss: 0.806364\n",
            "[300]\ttraining's multi_logloss: 0.809528\tvalid_1's multi_logloss: 0.800027\n",
            "[400]\ttraining's multi_logloss: 0.803472\tvalid_1's multi_logloss: 0.795584\n",
            "[500]\ttraining's multi_logloss: 0.798909\tvalid_1's multi_logloss: 0.792008\n",
            "[600]\ttraining's multi_logloss: 0.795663\tvalid_1's multi_logloss: 0.789863\n",
            "[700]\ttraining's multi_logloss: 0.792393\tvalid_1's multi_logloss: 0.788517\n",
            "[800]\ttraining's multi_logloss: 0.789861\tvalid_1's multi_logloss: 0.788231\n",
            "[900]\ttraining's multi_logloss: 0.787661\tvalid_1's multi_logloss: 0.787453\n",
            "[1000]\ttraining's multi_logloss: 0.784949\tvalid_1's multi_logloss: 0.785924\n",
            "[1100]\ttraining's multi_logloss: 0.782845\tvalid_1's multi_logloss: 0.784606\n",
            "[1200]\ttraining's multi_logloss: 0.780299\tvalid_1's multi_logloss: 0.783217\n",
            "[1300]\ttraining's multi_logloss: 0.778166\tvalid_1's multi_logloss: 0.782381\n",
            "[1400]\ttraining's multi_logloss: 0.776251\tvalid_1's multi_logloss: 0.78183\n",
            "[1500]\ttraining's multi_logloss: 0.774116\tvalid_1's multi_logloss: 0.780286\n",
            "[1600]\ttraining's multi_logloss: 0.772216\tvalid_1's multi_logloss: 0.779514\n",
            "[1700]\ttraining's multi_logloss: 0.770592\tvalid_1's multi_logloss: 0.778293\n",
            "[1800]\ttraining's multi_logloss: 0.768638\tvalid_1's multi_logloss: 0.777942\n",
            "[1900]\ttraining's multi_logloss: 0.766835\tvalid_1's multi_logloss: 0.778115\n",
            "[2000]\ttraining's multi_logloss: 0.765358\tvalid_1's multi_logloss: 0.777783\n",
            "[2100]\ttraining's multi_logloss: 0.763511\tvalid_1's multi_logloss: 0.777056\n",
            "[2200]\ttraining's multi_logloss: 0.761885\tvalid_1's multi_logloss: 0.776714\n",
            "[2300]\ttraining's multi_logloss: 0.760124\tvalid_1's multi_logloss: 0.77662\n",
            "[2400]\ttraining's multi_logloss: 0.758113\tvalid_1's multi_logloss: 0.775972\n",
            "[2500]\ttraining's multi_logloss: 0.756846\tvalid_1's multi_logloss: 0.775522\n",
            "[2600]\ttraining's multi_logloss: 0.755115\tvalid_1's multi_logloss: 0.774707\n",
            "[2700]\ttraining's multi_logloss: 0.75354\tvalid_1's multi_logloss: 0.773673\n",
            "[2800]\ttraining's multi_logloss: 0.751987\tvalid_1's multi_logloss: 0.774271\n",
            "[2900]\ttraining's multi_logloss: 0.750249\tvalid_1's multi_logloss: 0.77377\n",
            "[3000]\ttraining's multi_logloss: 0.748821\tvalid_1's multi_logloss: 0.773496\n",
            "[3100]\ttraining's multi_logloss: 0.747481\tvalid_1's multi_logloss: 0.772891\n",
            "[3200]\ttraining's multi_logloss: 0.745894\tvalid_1's multi_logloss: 0.771892\n",
            "[3300]\ttraining's multi_logloss: 0.744455\tvalid_1's multi_logloss: 0.770988\n",
            "[3400]\ttraining's multi_logloss: 0.74306\tvalid_1's multi_logloss: 0.770161\n",
            "[3500]\ttraining's multi_logloss: 0.7419\tvalid_1's multi_logloss: 0.770675\n",
            "[3600]\ttraining's multi_logloss: 0.740591\tvalid_1's multi_logloss: 0.77062\n",
            "Early stopping, best iteration is:\n",
            "[3402]\ttraining's multi_logloss: 0.743046\tvalid_1's multi_logloss: 0.77011\n"
          ],
          "name": "stdout"
        },
        {
          "output_type": "stream",
          "text": [
            "\u001b[32m[I 2021-06-02 06:33:08,415]\u001b[0m Trial 4 finished with value: 0.7701097213095185 and parameters: {'learning_rate': 0.01, 'n_estimators': 10000, 'reg_alpha': 2.616240759128834e-05, 'reg_lambda': 0.05701000404837301, 'max_depth': 3, 'num_leaves': 229, 'colsample_bytree': 0.7, 'subsample': 0.1, 'subsample_freq': 9, 'min_child_samples': 5, 'max_bin': 353}. Best is trial 2 with value: 0.7227654500831305.\u001b[0m\n"
          ],
          "name": "stderr"
        },
        {
          "output_type": "stream",
          "text": [
            "Training until validation scores don't improve for 200 rounds.\n"
          ],
          "name": "stdout"
        },
        {
          "output_type": "stream",
          "text": [
            "\u001b[32m[I 2021-06-02 06:33:09,859]\u001b[0m Trial 5 finished with value: 0.8304753449363597 and parameters: {'learning_rate': 0.01, 'n_estimators': 100, 'reg_alpha': 2.9435641654419212e-05, 'reg_lambda': 0.08662063207184059, 'max_depth': 5, 'num_leaves': 74, 'colsample_bytree': 0.5, 'subsample': 0.6, 'subsample_freq': 5, 'min_child_samples': 99, 'max_bin': 272}. Best is trial 2 with value: 0.7227654500831305.\u001b[0m\n"
          ],
          "name": "stderr"
        },
        {
          "output_type": "stream",
          "text": [
            "[100]\ttraining's multi_logloss: 0.841017\tvalid_1's multi_logloss: 0.830475\n",
            "Did not meet early stopping. Best iteration is:\n",
            "[100]\ttraining's multi_logloss: 0.841017\tvalid_1's multi_logloss: 0.830475\n",
            "Training until validation scores don't improve for 200 rounds.\n",
            "[100]\ttraining's multi_logloss: 0.770979\tvalid_1's multi_logloss: 0.787352\n",
            "[200]\ttraining's multi_logloss: 0.741556\tvalid_1's multi_logloss: 0.77946\n",
            "[300]\ttraining's multi_logloss: 0.716964\tvalid_1's multi_logloss: 0.778334\n",
            "[400]\ttraining's multi_logloss: 0.69674\tvalid_1's multi_logloss: 0.773827\n",
            "[500]\ttraining's multi_logloss: 0.678433\tvalid_1's multi_logloss: 0.77344\n",
            "Did not meet early stopping. Best iteration is:\n",
            "[500]\ttraining's multi_logloss: 0.678433\tvalid_1's multi_logloss: 0.77344\n"
          ],
          "name": "stdout"
        },
        {
          "output_type": "stream",
          "text": [
            "\u001b[32m[I 2021-06-02 06:33:17,239]\u001b[0m Trial 6 finished with value: 0.7734403799472149 and parameters: {'learning_rate': 0.05, 'n_estimators': 500, 'reg_alpha': 2.670604991178476e-05, 'reg_lambda': 0.028876998046806508, 'max_depth': 7, 'num_leaves': 174, 'colsample_bytree': 1.0, 'subsample': 0.1, 'subsample_freq': 2, 'min_child_samples': 37, 'max_bin': 234}. Best is trial 2 with value: 0.7227654500831305.\u001b[0m\n"
          ],
          "name": "stderr"
        },
        {
          "output_type": "stream",
          "text": [
            "Training until validation scores don't improve for 200 rounds.\n"
          ],
          "name": "stdout"
        },
        {
          "output_type": "stream",
          "text": [
            "\u001b[32m[I 2021-06-02 06:33:18,354]\u001b[0m Trial 7 finished with value: 0.8353147662426098 and parameters: {'learning_rate': 0.01, 'n_estimators': 100, 'reg_alpha': 2.7944315159066537e-05, 'reg_lambda': 0.0810386209641281, 'max_depth': 3, 'num_leaves': 187, 'colsample_bytree': 0.4, 'subsample': 0.8, 'subsample_freq': 1, 'min_child_samples': 14, 'max_bin': 399}. Best is trial 2 with value: 0.7227654500831305.\u001b[0m\n"
          ],
          "name": "stderr"
        },
        {
          "output_type": "stream",
          "text": [
            "[100]\ttraining's multi_logloss: 0.848511\tvalid_1's multi_logloss: 0.835315\n",
            "Did not meet early stopping. Best iteration is:\n",
            "[100]\ttraining's multi_logloss: 0.848511\tvalid_1's multi_logloss: 0.835315\n",
            "Training until validation scores don't improve for 200 rounds.\n",
            "[100]\ttraining's multi_logloss: 0.793807\tvalid_1's multi_logloss: 0.788645\n",
            "[200]\ttraining's multi_logloss: 0.777641\tvalid_1's multi_logloss: 0.782458\n",
            "[300]\ttraining's multi_logloss: 0.764982\tvalid_1's multi_logloss: 0.776749\n",
            "[400]\ttraining's multi_logloss: 0.753863\tvalid_1's multi_logloss: 0.772518\n",
            "[500]\ttraining's multi_logloss: 0.744334\tvalid_1's multi_logloss: 0.769568\n",
            "Did not meet early stopping. Best iteration is:\n",
            "[500]\ttraining's multi_logloss: 0.744334\tvalid_1's multi_logloss: 0.769568\n"
          ],
          "name": "stdout"
        },
        {
          "output_type": "stream",
          "text": [
            "\u001b[32m[I 2021-06-02 06:33:23,942]\u001b[0m Trial 8 finished with value: 0.7695681964653378 and parameters: {'learning_rate': 0.07, 'n_estimators': 500, 'reg_alpha': 2.4929828102360482e-05, 'reg_lambda': 0.05847046458525885, 'max_depth': 3, 'num_leaves': 25, 'colsample_bytree': 1.0, 'subsample': 0.6, 'subsample_freq': 6, 'min_child_samples': 60, 'max_bin': 348}. Best is trial 2 with value: 0.7227654500831305.\u001b[0m\n"
          ],
          "name": "stderr"
        },
        {
          "output_type": "stream",
          "text": [
            "Training until validation scores don't improve for 200 rounds.\n",
            "[100]\ttraining's multi_logloss: 0.793166\tvalid_1's multi_logloss: 0.799086\n",
            "[200]\ttraining's multi_logloss: 0.767278\tvalid_1's multi_logloss: 0.78488\n",
            "[300]\ttraining's multi_logloss: 0.748325\tvalid_1's multi_logloss: 0.777777\n",
            "[400]\ttraining's multi_logloss: 0.73436\tvalid_1's multi_logloss: 0.776\n",
            "[500]\ttraining's multi_logloss: 0.721443\tvalid_1's multi_logloss: 0.775223\n",
            "[600]\ttraining's multi_logloss: 0.709242\tvalid_1's multi_logloss: 0.771372\n",
            "[700]\ttraining's multi_logloss: 0.698809\tvalid_1's multi_logloss: 0.769508\n",
            "Did not meet early stopping. Best iteration is:\n",
            "[700]\ttraining's multi_logloss: 0.698809\tvalid_1's multi_logloss: 0.769508\n"
          ],
          "name": "stdout"
        },
        {
          "output_type": "stream",
          "text": [
            "\u001b[32m[I 2021-06-02 06:33:32,537]\u001b[0m Trial 9 finished with value: 0.7695076013329459 and parameters: {'learning_rate': 0.05, 'n_estimators': 700, 'reg_alpha': 1.7403174005108888e-05, 'reg_lambda': 0.00140094092143278, 'max_depth': 7, 'num_leaves': 247, 'colsample_bytree': 0.4, 'subsample': 0.1, 'subsample_freq': 7, 'min_child_samples': 59, 'max_bin': 229}. Best is trial 2 with value: 0.7227654500831305.\u001b[0m\n"
          ],
          "name": "stderr"
        },
        {
          "output_type": "stream",
          "text": [
            "Best Score: 0.7227654500831305\n",
            "Best trial: {'learning_rate': 0.01, 'n_estimators': 10000, 'reg_alpha': 1.542698063547792e-05, 'reg_lambda': 0.07458808844858211, 'max_depth': 7, 'num_leaves': 37, 'colsample_bytree': 0.7, 'subsample': 0.8, 'subsample_freq': 8, 'min_child_samples': 79, 'max_bin': 222}\n"
          ],
          "name": "stdout"
        }
      ]
    },
    {
      "cell_type": "code",
      "metadata": {
        "id": "NOTgeObIuXA2",
        "colab": {
          "base_uri": "https://localhost:8080/"
        },
        "outputId": "19f4389a-5de7-493c-8aaf-838f158f9be6"
      },
      "source": [
        "model = LGBMClassifier(**study.best_params)  #optuna 이용해서 얻은 최적의 하이퍼파라미터 값을 넣고 학습시켜서 결과값을 낸다.\n",
        "model.fit(X_train,y_train,eval_set=[(X_train, y_train), (X_valid, y_valid)],early_stopping_rounds=200,verbose=100)\n",
        "submit=pd.read_csv(filepath+'sample_submission.csv')   #sample로 준 csv파일에 덮어씀.\n",
        "submit.iloc[:,1:]=0\n",
        "submit.iloc[:,1:]=model.predict_proba(test)\n",
        "submit.to_csv(filepath+'submit.csv', index=False)"
      ],
      "execution_count": 160,
      "outputs": [
        {
          "output_type": "stream",
          "text": [
            "Training until validation scores don't improve for 200 rounds.\n",
            "[100]\ttraining's multi_logloss: 0.82148\tvalid_1's multi_logloss: 0.815838\n",
            "[200]\ttraining's multi_logloss: 0.793804\tvalid_1's multi_logloss: 0.79599\n",
            "[300]\ttraining's multi_logloss: 0.775575\tvalid_1's multi_logloss: 0.78434\n",
            "[400]\ttraining's multi_logloss: 0.762239\tvalid_1's multi_logloss: 0.777143\n",
            "[500]\ttraining's multi_logloss: 0.750538\tvalid_1's multi_logloss: 0.771696\n",
            "[600]\ttraining's multi_logloss: 0.740817\tvalid_1's multi_logloss: 0.767694\n",
            "[700]\ttraining's multi_logloss: 0.73162\tvalid_1's multi_logloss: 0.764625\n",
            "[800]\ttraining's multi_logloss: 0.723772\tvalid_1's multi_logloss: 0.762016\n",
            "[900]\ttraining's multi_logloss: 0.715793\tvalid_1's multi_logloss: 0.759333\n",
            "[1000]\ttraining's multi_logloss: 0.708317\tvalid_1's multi_logloss: 0.757074\n",
            "[1100]\ttraining's multi_logloss: 0.701276\tvalid_1's multi_logloss: 0.754672\n",
            "[1200]\ttraining's multi_logloss: 0.693695\tvalid_1's multi_logloss: 0.752123\n",
            "[1300]\ttraining's multi_logloss: 0.687091\tvalid_1's multi_logloss: 0.750177\n",
            "[1400]\ttraining's multi_logloss: 0.680313\tvalid_1's multi_logloss: 0.748021\n",
            "[1500]\ttraining's multi_logloss: 0.673696\tvalid_1's multi_logloss: 0.746434\n",
            "[1600]\ttraining's multi_logloss: 0.667485\tvalid_1's multi_logloss: 0.744886\n",
            "[1700]\ttraining's multi_logloss: 0.661481\tvalid_1's multi_logloss: 0.743316\n",
            "[1800]\ttraining's multi_logloss: 0.65562\tvalid_1's multi_logloss: 0.741896\n",
            "[1900]\ttraining's multi_logloss: 0.650769\tvalid_1's multi_logloss: 0.740839\n",
            "[2000]\ttraining's multi_logloss: 0.645196\tvalid_1's multi_logloss: 0.739562\n",
            "[2100]\ttraining's multi_logloss: 0.639586\tvalid_1's multi_logloss: 0.738658\n",
            "[2200]\ttraining's multi_logloss: 0.634419\tvalid_1's multi_logloss: 0.737642\n",
            "[2300]\ttraining's multi_logloss: 0.629097\tvalid_1's multi_logloss: 0.736483\n",
            "[2400]\ttraining's multi_logloss: 0.624101\tvalid_1's multi_logloss: 0.735228\n",
            "[2500]\ttraining's multi_logloss: 0.619308\tvalid_1's multi_logloss: 0.73439\n",
            "[2600]\ttraining's multi_logloss: 0.614364\tvalid_1's multi_logloss: 0.733396\n",
            "[2700]\ttraining's multi_logloss: 0.609878\tvalid_1's multi_logloss: 0.732731\n",
            "[2800]\ttraining's multi_logloss: 0.605433\tvalid_1's multi_logloss: 0.73208\n",
            "[2900]\ttraining's multi_logloss: 0.601149\tvalid_1's multi_logloss: 0.731399\n",
            "[3000]\ttraining's multi_logloss: 0.596614\tvalid_1's multi_logloss: 0.731072\n",
            "[3100]\ttraining's multi_logloss: 0.591658\tvalid_1's multi_logloss: 0.730257\n",
            "[3200]\ttraining's multi_logloss: 0.587684\tvalid_1's multi_logloss: 0.729609\n",
            "[3300]\ttraining's multi_logloss: 0.58396\tvalid_1's multi_logloss: 0.729062\n",
            "[3400]\ttraining's multi_logloss: 0.579752\tvalid_1's multi_logloss: 0.728426\n",
            "[3500]\ttraining's multi_logloss: 0.575914\tvalid_1's multi_logloss: 0.72797\n",
            "[3600]\ttraining's multi_logloss: 0.572089\tvalid_1's multi_logloss: 0.727468\n",
            "[3700]\ttraining's multi_logloss: 0.567808\tvalid_1's multi_logloss: 0.727148\n",
            "[3800]\ttraining's multi_logloss: 0.564261\tvalid_1's multi_logloss: 0.726774\n",
            "[3900]\ttraining's multi_logloss: 0.560498\tvalid_1's multi_logloss: 0.726516\n",
            "[4000]\ttraining's multi_logloss: 0.556693\tvalid_1's multi_logloss: 0.726369\n",
            "[4100]\ttraining's multi_logloss: 0.553176\tvalid_1's multi_logloss: 0.726263\n",
            "[4200]\ttraining's multi_logloss: 0.549395\tvalid_1's multi_logloss: 0.72576\n",
            "[4300]\ttraining's multi_logloss: 0.545352\tvalid_1's multi_logloss: 0.725355\n",
            "[4400]\ttraining's multi_logloss: 0.542067\tvalid_1's multi_logloss: 0.725098\n",
            "[4500]\ttraining's multi_logloss: 0.538812\tvalid_1's multi_logloss: 0.725035\n",
            "[4600]\ttraining's multi_logloss: 0.535511\tvalid_1's multi_logloss: 0.724695\n",
            "[4700]\ttraining's multi_logloss: 0.53209\tvalid_1's multi_logloss: 0.724603\n",
            "[4800]\ttraining's multi_logloss: 0.528975\tvalid_1's multi_logloss: 0.724384\n",
            "[4900]\ttraining's multi_logloss: 0.525656\tvalid_1's multi_logloss: 0.724394\n",
            "[5000]\ttraining's multi_logloss: 0.522338\tvalid_1's multi_logloss: 0.724264\n",
            "[5100]\ttraining's multi_logloss: 0.519531\tvalid_1's multi_logloss: 0.72427\n",
            "Early stopping, best iteration is:\n",
            "[4973]\ttraining's multi_logloss: 0.523219\tvalid_1's multi_logloss: 0.724201\n"
          ],
          "name": "stdout"
        }
      ]
    },
    {
      "cell_type": "code",
      "metadata": {
        "colab": {
          "base_uri": "https://localhost:8080/",
          "height": 542
        },
        "id": "Iez_vv3F2x48",
        "outputId": "be86633a-3242-4b9c-cac6-630232f24cf5"
      },
      "source": [
        "optuna.visualization.plot_param_importances(study)"
      ],
      "execution_count": 161,
      "outputs": [
        {
          "output_type": "display_data",
          "data": {
            "text/html": [
              "<html>\n",
              "<head><meta charset=\"utf-8\" /></head>\n",
              "<body>\n",
              "    <div>\n",
              "            <script src=\"https://cdnjs.cloudflare.com/ajax/libs/mathjax/2.7.5/MathJax.js?config=TeX-AMS-MML_SVG\"></script><script type=\"text/javascript\">if (window.MathJax) {MathJax.Hub.Config({SVG: {font: \"STIX-Web\"}});}</script>\n",
              "                <script type=\"text/javascript\">window.PlotlyConfig = {MathJaxConfig: 'local'};</script>\n",
              "        <script src=\"https://cdn.plot.ly/plotly-latest.min.js\"></script>    \n",
              "            <div id=\"32e15b45-bbc6-46f4-beab-b69da76a75f2\" class=\"plotly-graph-div\" style=\"height:525px; width:100%;\"></div>\n",
              "            <script type=\"text/javascript\">\n",
              "                \n",
              "                    window.PLOTLYENV=window.PLOTLYENV || {};\n",
              "                    \n",
              "                if (document.getElementById(\"32e15b45-bbc6-46f4-beab-b69da76a75f2\")) {\n",
              "                    Plotly.newPlot(\n",
              "                        '32e15b45-bbc6-46f4-beab-b69da76a75f2',\n",
              "                        [{\"cliponaxis\": false, \"hovertemplate\": [\"max_bin (IntUniformDistribution): 0.015688088476962434<extra></extra>\", \"subsample_freq (IntUniformDistribution): 0.021989880968113492<extra></extra>\", \"num_leaves (IntUniformDistribution): 0.025410592475183506<extra></extra>\", \"max_depth (CategoricalDistribution): 0.02685330188904127<extra></extra>\", \"min_child_samples (IntUniformDistribution): 0.0579439066403725<extra></extra>\", \"colsample_bytree (CategoricalDistribution): 0.05968206805360965<extra></extra>\", \"learning_rate (CategoricalDistribution): 0.08224966328771238<extra></extra>\", \"subsample (CategoricalDistribution): 0.09166190285577094<extra></extra>\", \"reg_alpha (UniformDistribution): 0.1421705314840471<extra></extra>\", \"reg_lambda (UniformDistribution): 0.2151404138607834<extra></extra>\", \"n_estimators (CategoricalDistribution): 0.2612096500084033<extra></extra>\"], \"marker\": {\"color\": [\"rgb(8,81,156)\", \"rgb(8,81,156)\", \"rgb(8,81,156)\", \"rgb(66,146,198)\", \"rgb(8,81,156)\", \"rgb(66,146,198)\", \"rgb(66,146,198)\", \"rgb(66,146,198)\", \"rgb(8,48,107)\", \"rgb(8,48,107)\", \"rgb(66,146,198)\"]}, \"orientation\": \"h\", \"text\": [\"0.015688088476962434\", \"0.021989880968113492\", \"0.025410592475183506\", \"0.02685330188904127\", \"0.0579439066403725\", \"0.05968206805360965\", \"0.08224966328771238\", \"0.09166190285577094\", \"0.1421705314840471\", \"0.2151404138607834\", \"0.2612096500084033\"], \"textposition\": \"outside\", \"texttemplate\": \"%{text:.2f}\", \"type\": \"bar\", \"x\": [0.015688088476962434, 0.021989880968113492, 0.025410592475183506, 0.02685330188904127, 0.0579439066403725, 0.05968206805360965, 0.08224966328771238, 0.09166190285577094, 0.1421705314840471, 0.2151404138607834, 0.2612096500084033], \"y\": [\"max_bin\", \"subsample_freq\", \"num_leaves\", \"max_depth\", \"min_child_samples\", \"colsample_bytree\", \"learning_rate\", \"subsample\", \"reg_alpha\", \"reg_lambda\", \"n_estimators\"]}],\n",
              "                        {\"showlegend\": false, \"template\": {\"data\": {\"bar\": [{\"error_x\": {\"color\": \"#2a3f5f\"}, \"error_y\": {\"color\": \"#2a3f5f\"}, \"marker\": {\"line\": {\"color\": \"#E5ECF6\", \"width\": 0.5}}, \"type\": \"bar\"}], \"barpolar\": [{\"marker\": {\"line\": {\"color\": \"#E5ECF6\", \"width\": 0.5}}, \"type\": \"barpolar\"}], \"carpet\": [{\"aaxis\": {\"endlinecolor\": \"#2a3f5f\", \"gridcolor\": \"white\", \"linecolor\": \"white\", \"minorgridcolor\": \"white\", \"startlinecolor\": \"#2a3f5f\"}, \"baxis\": {\"endlinecolor\": \"#2a3f5f\", \"gridcolor\": \"white\", \"linecolor\": \"white\", \"minorgridcolor\": \"white\", \"startlinecolor\": \"#2a3f5f\"}, \"type\": \"carpet\"}], \"choropleth\": [{\"colorbar\": {\"outlinewidth\": 0, \"ticks\": \"\"}, \"type\": \"choropleth\"}], \"contour\": [{\"colorbar\": {\"outlinewidth\": 0, \"ticks\": \"\"}, \"colorscale\": [[0.0, \"#0d0887\"], [0.1111111111111111, \"#46039f\"], [0.2222222222222222, \"#7201a8\"], [0.3333333333333333, \"#9c179e\"], [0.4444444444444444, \"#bd3786\"], [0.5555555555555556, \"#d8576b\"], [0.6666666666666666, \"#ed7953\"], [0.7777777777777778, \"#fb9f3a\"], [0.8888888888888888, \"#fdca26\"], [1.0, \"#f0f921\"]], \"type\": \"contour\"}], \"contourcarpet\": [{\"colorbar\": {\"outlinewidth\": 0, \"ticks\": \"\"}, \"type\": \"contourcarpet\"}], \"heatmap\": [{\"colorbar\": {\"outlinewidth\": 0, \"ticks\": \"\"}, \"colorscale\": [[0.0, \"#0d0887\"], [0.1111111111111111, \"#46039f\"], [0.2222222222222222, \"#7201a8\"], [0.3333333333333333, \"#9c179e\"], [0.4444444444444444, \"#bd3786\"], [0.5555555555555556, \"#d8576b\"], [0.6666666666666666, \"#ed7953\"], [0.7777777777777778, \"#fb9f3a\"], [0.8888888888888888, \"#fdca26\"], [1.0, \"#f0f921\"]], \"type\": \"heatmap\"}], \"heatmapgl\": [{\"colorbar\": {\"outlinewidth\": 0, \"ticks\": \"\"}, \"colorscale\": [[0.0, \"#0d0887\"], [0.1111111111111111, \"#46039f\"], [0.2222222222222222, \"#7201a8\"], [0.3333333333333333, \"#9c179e\"], [0.4444444444444444, \"#bd3786\"], [0.5555555555555556, \"#d8576b\"], [0.6666666666666666, \"#ed7953\"], [0.7777777777777778, \"#fb9f3a\"], [0.8888888888888888, \"#fdca26\"], [1.0, \"#f0f921\"]], \"type\": \"heatmapgl\"}], \"histogram\": [{\"marker\": {\"colorbar\": {\"outlinewidth\": 0, \"ticks\": \"\"}}, \"type\": \"histogram\"}], \"histogram2d\": [{\"colorbar\": {\"outlinewidth\": 0, \"ticks\": \"\"}, \"colorscale\": [[0.0, \"#0d0887\"], [0.1111111111111111, \"#46039f\"], [0.2222222222222222, \"#7201a8\"], [0.3333333333333333, \"#9c179e\"], [0.4444444444444444, \"#bd3786\"], [0.5555555555555556, \"#d8576b\"], [0.6666666666666666, \"#ed7953\"], [0.7777777777777778, \"#fb9f3a\"], [0.8888888888888888, \"#fdca26\"], [1.0, \"#f0f921\"]], \"type\": \"histogram2d\"}], \"histogram2dcontour\": [{\"colorbar\": {\"outlinewidth\": 0, \"ticks\": \"\"}, \"colorscale\": [[0.0, \"#0d0887\"], [0.1111111111111111, \"#46039f\"], [0.2222222222222222, \"#7201a8\"], [0.3333333333333333, \"#9c179e\"], [0.4444444444444444, \"#bd3786\"], [0.5555555555555556, \"#d8576b\"], [0.6666666666666666, \"#ed7953\"], [0.7777777777777778, \"#fb9f3a\"], [0.8888888888888888, \"#fdca26\"], [1.0, \"#f0f921\"]], \"type\": \"histogram2dcontour\"}], \"mesh3d\": [{\"colorbar\": {\"outlinewidth\": 0, \"ticks\": \"\"}, \"type\": \"mesh3d\"}], \"parcoords\": [{\"line\": {\"colorbar\": {\"outlinewidth\": 0, \"ticks\": \"\"}}, \"type\": \"parcoords\"}], \"pie\": [{\"automargin\": true, \"type\": \"pie\"}], \"scatter\": [{\"marker\": {\"colorbar\": {\"outlinewidth\": 0, \"ticks\": \"\"}}, \"type\": \"scatter\"}], \"scatter3d\": [{\"line\": {\"colorbar\": {\"outlinewidth\": 0, \"ticks\": \"\"}}, \"marker\": {\"colorbar\": {\"outlinewidth\": 0, \"ticks\": \"\"}}, \"type\": \"scatter3d\"}], \"scattercarpet\": [{\"marker\": {\"colorbar\": {\"outlinewidth\": 0, \"ticks\": \"\"}}, \"type\": \"scattercarpet\"}], \"scattergeo\": [{\"marker\": {\"colorbar\": {\"outlinewidth\": 0, \"ticks\": \"\"}}, \"type\": \"scattergeo\"}], \"scattergl\": [{\"marker\": {\"colorbar\": {\"outlinewidth\": 0, \"ticks\": \"\"}}, \"type\": \"scattergl\"}], \"scattermapbox\": [{\"marker\": {\"colorbar\": {\"outlinewidth\": 0, \"ticks\": \"\"}}, \"type\": \"scattermapbox\"}], \"scatterpolar\": [{\"marker\": {\"colorbar\": {\"outlinewidth\": 0, \"ticks\": \"\"}}, \"type\": \"scatterpolar\"}], \"scatterpolargl\": [{\"marker\": {\"colorbar\": {\"outlinewidth\": 0, \"ticks\": \"\"}}, \"type\": \"scatterpolargl\"}], \"scatterternary\": [{\"marker\": {\"colorbar\": {\"outlinewidth\": 0, \"ticks\": \"\"}}, \"type\": \"scatterternary\"}], \"surface\": [{\"colorbar\": {\"outlinewidth\": 0, \"ticks\": \"\"}, \"colorscale\": [[0.0, \"#0d0887\"], [0.1111111111111111, \"#46039f\"], [0.2222222222222222, \"#7201a8\"], [0.3333333333333333, \"#9c179e\"], [0.4444444444444444, \"#bd3786\"], [0.5555555555555556, \"#d8576b\"], [0.6666666666666666, \"#ed7953\"], [0.7777777777777778, \"#fb9f3a\"], [0.8888888888888888, \"#fdca26\"], [1.0, \"#f0f921\"]], \"type\": \"surface\"}], \"table\": [{\"cells\": {\"fill\": {\"color\": \"#EBF0F8\"}, \"line\": {\"color\": \"white\"}}, \"header\": {\"fill\": {\"color\": \"#C8D4E3\"}, \"line\": {\"color\": \"white\"}}, \"type\": \"table\"}]}, \"layout\": {\"annotationdefaults\": {\"arrowcolor\": \"#2a3f5f\", \"arrowhead\": 0, \"arrowwidth\": 1}, \"coloraxis\": {\"colorbar\": {\"outlinewidth\": 0, \"ticks\": \"\"}}, \"colorscale\": {\"diverging\": [[0, \"#8e0152\"], [0.1, \"#c51b7d\"], [0.2, \"#de77ae\"], [0.3, \"#f1b6da\"], [0.4, \"#fde0ef\"], [0.5, \"#f7f7f7\"], [0.6, \"#e6f5d0\"], [0.7, \"#b8e186\"], [0.8, \"#7fbc41\"], [0.9, \"#4d9221\"], [1, \"#276419\"]], \"sequential\": [[0.0, \"#0d0887\"], [0.1111111111111111, \"#46039f\"], [0.2222222222222222, \"#7201a8\"], [0.3333333333333333, \"#9c179e\"], [0.4444444444444444, \"#bd3786\"], [0.5555555555555556, \"#d8576b\"], [0.6666666666666666, \"#ed7953\"], [0.7777777777777778, \"#fb9f3a\"], [0.8888888888888888, \"#fdca26\"], [1.0, \"#f0f921\"]], \"sequentialminus\": [[0.0, \"#0d0887\"], [0.1111111111111111, \"#46039f\"], [0.2222222222222222, \"#7201a8\"], [0.3333333333333333, \"#9c179e\"], [0.4444444444444444, \"#bd3786\"], [0.5555555555555556, \"#d8576b\"], [0.6666666666666666, \"#ed7953\"], [0.7777777777777778, \"#fb9f3a\"], [0.8888888888888888, \"#fdca26\"], [1.0, \"#f0f921\"]]}, \"colorway\": [\"#636efa\", \"#EF553B\", \"#00cc96\", \"#ab63fa\", \"#FFA15A\", \"#19d3f3\", \"#FF6692\", \"#B6E880\", \"#FF97FF\", \"#FECB52\"], \"font\": {\"color\": \"#2a3f5f\"}, \"geo\": {\"bgcolor\": \"white\", \"lakecolor\": \"white\", \"landcolor\": \"#E5ECF6\", \"showlakes\": true, \"showland\": true, \"subunitcolor\": \"white\"}, \"hoverlabel\": {\"align\": \"left\"}, \"hovermode\": \"closest\", \"mapbox\": {\"style\": \"light\"}, \"paper_bgcolor\": \"white\", \"plot_bgcolor\": \"#E5ECF6\", \"polar\": {\"angularaxis\": {\"gridcolor\": \"white\", \"linecolor\": \"white\", \"ticks\": \"\"}, \"bgcolor\": \"#E5ECF6\", \"radialaxis\": {\"gridcolor\": \"white\", \"linecolor\": \"white\", \"ticks\": \"\"}}, \"scene\": {\"xaxis\": {\"backgroundcolor\": \"#E5ECF6\", \"gridcolor\": \"white\", \"gridwidth\": 2, \"linecolor\": \"white\", \"showbackground\": true, \"ticks\": \"\", \"zerolinecolor\": \"white\"}, \"yaxis\": {\"backgroundcolor\": \"#E5ECF6\", \"gridcolor\": \"white\", \"gridwidth\": 2, \"linecolor\": \"white\", \"showbackground\": true, \"ticks\": \"\", \"zerolinecolor\": \"white\"}, \"zaxis\": {\"backgroundcolor\": \"#E5ECF6\", \"gridcolor\": \"white\", \"gridwidth\": 2, \"linecolor\": \"white\", \"showbackground\": true, \"ticks\": \"\", \"zerolinecolor\": \"white\"}}, \"shapedefaults\": {\"line\": {\"color\": \"#2a3f5f\"}}, \"ternary\": {\"aaxis\": {\"gridcolor\": \"white\", \"linecolor\": \"white\", \"ticks\": \"\"}, \"baxis\": {\"gridcolor\": \"white\", \"linecolor\": \"white\", \"ticks\": \"\"}, \"bgcolor\": \"#E5ECF6\", \"caxis\": {\"gridcolor\": \"white\", \"linecolor\": \"white\", \"ticks\": \"\"}}, \"title\": {\"x\": 0.05}, \"xaxis\": {\"automargin\": true, \"gridcolor\": \"white\", \"linecolor\": \"white\", \"ticks\": \"\", \"title\": {\"standoff\": 15}, \"zerolinecolor\": \"white\", \"zerolinewidth\": 2}, \"yaxis\": {\"automargin\": true, \"gridcolor\": \"white\", \"linecolor\": \"white\", \"ticks\": \"\", \"title\": {\"standoff\": 15}, \"zerolinecolor\": \"white\", \"zerolinewidth\": 2}}}, \"title\": {\"text\": \"Hyperparameter Importances\"}, \"xaxis\": {\"title\": {\"text\": \"Importance for Objective Value\"}}, \"yaxis\": {\"title\": {\"text\": \"Hyperparameter\"}}},\n",
              "                        {\"responsive\": true}\n",
              "                    ).then(function(){\n",
              "                            \n",
              "var gd = document.getElementById('32e15b45-bbc6-46f4-beab-b69da76a75f2');\n",
              "var x = new MutationObserver(function (mutations, observer) {{\n",
              "        var display = window.getComputedStyle(gd).display;\n",
              "        if (!display || display === 'none') {{\n",
              "            console.log([gd, 'removed!']);\n",
              "            Plotly.purge(gd);\n",
              "            observer.disconnect();\n",
              "        }}\n",
              "}});\n",
              "\n",
              "// Listen for the removal of the full notebook cells\n",
              "var notebookContainer = gd.closest('#notebook-container');\n",
              "if (notebookContainer) {{\n",
              "    x.observe(notebookContainer, {childList: true});\n",
              "}}\n",
              "\n",
              "// Listen for the clearing of the current output cell\n",
              "var outputEl = gd.closest('.output');\n",
              "if (outputEl) {{\n",
              "    x.observe(outputEl, {childList: true});\n",
              "}}\n",
              "\n",
              "                        })\n",
              "                };\n",
              "                \n",
              "            </script>\n",
              "        </div>\n",
              "</body>\n",
              "</html>"
            ]
          },
          "metadata": {
            "tags": []
          }
        }
      ]
    },
    {
      "cell_type": "code",
      "metadata": {
        "id": "zoJx3ul0zTQq"
      },
      "source": [
        ""
      ],
      "execution_count": 161,
      "outputs": []
    }
  ]
}