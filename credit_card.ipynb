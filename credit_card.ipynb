{
  "nbformat": 4,
  "nbformat_minor": 0,
  "metadata": {
    "colab": {
      "name": "신용카드_연체.ipynb",
      "provenance": [],
      "collapsed_sections": []
    },
    "kernelspec": {
      "name": "python3",
      "display_name": "Python 3"
    },
    "language_info": {
      "name": "python"
    }
  },
  "cells": [
    {
      "cell_type": "code",
      "metadata": {
        "colab": {
          "base_uri": "https://localhost:8080/"
        },
        "id": "FxN4OsEIovQ-",
        "outputId": "08756ebd-d9b8-4966-dd77-5df5d6a49b3b"
      },
      "source": [
        "import numpy as np\n",
        "import pandas as pd\n",
        "from google.colab import drive\n",
        "drive.mount('/content/gdrive',force_remount=True)\n",
        "filepath = '/content/gdrive/My Drive/ICT/open/'\n",
        "train = pd.read_csv(filepath+'train.csv')\n",
        "test=pd.read_csv(filepath+'test.csv')"
      ],
      "execution_count": 91,
      "outputs": [
        {
          "output_type": "stream",
          "text": [
            "Mounted at /content/gdrive\n"
          ],
          "name": "stdout"
        }
      ]
    },
    {
      "cell_type": "code",
      "metadata": {
        "colab": {
          "base_uri": "https://localhost:8080/"
        },
        "id": "0bmlVoo3oycJ",
        "outputId": "116f767c-1573-4fea-8a3a-97835e5a9fd9"
      },
      "source": [
        "train.info()  #학습데이터 정보      \n",
        "#인덱스|성별|차 소유?|부동산소유?|자녀 수|연간소득|소득분류|교육수준|결혼여부|생활방식|출생일|업무시작일|핸드폰소유|업무용전화소유|전화소유여부|이메일소유여부|직업유형|가족규모|신용카드발급 월\n",
        "#credit: 사용자의 신용카드 대금 연체를 기준으로 한 신용도"
      ],
      "execution_count": 92,
      "outputs": [
        {
          "output_type": "stream",
          "text": [
            "<class 'pandas.core.frame.DataFrame'>\n",
            "RangeIndex: 26457 entries, 0 to 26456\n",
            "Data columns (total 20 columns):\n",
            " #   Column         Non-Null Count  Dtype  \n",
            "---  ------         --------------  -----  \n",
            " 0   index          26457 non-null  int64  \n",
            " 1   gender         26457 non-null  object \n",
            " 2   car            26457 non-null  object \n",
            " 3   reality        26457 non-null  object \n",
            " 4   child_num      26457 non-null  int64  \n",
            " 5   income_total   26457 non-null  float64\n",
            " 6   income_type    26457 non-null  object \n",
            " 7   edu_type       26457 non-null  object \n",
            " 8   family_type    26457 non-null  object \n",
            " 9   house_type     26457 non-null  object \n",
            " 10  DAYS_BIRTH     26457 non-null  int64  \n",
            " 11  DAYS_EMPLOYED  26457 non-null  int64  \n",
            " 12  FLAG_MOBIL     26457 non-null  int64  \n",
            " 13  work_phone     26457 non-null  int64  \n",
            " 14  phone          26457 non-null  int64  \n",
            " 15  email          26457 non-null  int64  \n",
            " 16  occyp_type     18286 non-null  object \n",
            " 17  family_size    26457 non-null  float64\n",
            " 18  begin_month    26457 non-null  float64\n",
            " 19  credit         26457 non-null  float64\n",
            "dtypes: float64(4), int64(8), object(8)\n",
            "memory usage: 4.0+ MB\n"
          ],
          "name": "stdout"
        }
      ]
    },
    {
      "cell_type": "code",
      "metadata": {
        "colab": {
          "base_uri": "https://localhost:8080/"
        },
        "id": "CXIXuAyrpNaQ",
        "outputId": "8ba5a07f-d647-455b-f01c-92948e4d8a15"
      },
      "source": [
        "test.info()  #test데이터셋 정보 확인"
      ],
      "execution_count": 93,
      "outputs": [
        {
          "output_type": "stream",
          "text": [
            "<class 'pandas.core.frame.DataFrame'>\n",
            "RangeIndex: 10000 entries, 0 to 9999\n",
            "Data columns (total 19 columns):\n",
            " #   Column         Non-Null Count  Dtype  \n",
            "---  ------         --------------  -----  \n",
            " 0   index          10000 non-null  int64  \n",
            " 1   gender         10000 non-null  object \n",
            " 2   car            10000 non-null  object \n",
            " 3   reality        10000 non-null  object \n",
            " 4   child_num      10000 non-null  int64  \n",
            " 5   income_total   10000 non-null  float64\n",
            " 6   income_type    10000 non-null  object \n",
            " 7   edu_type       10000 non-null  object \n",
            " 8   family_type    10000 non-null  object \n",
            " 9   house_type     10000 non-null  object \n",
            " 10  DAYS_BIRTH     10000 non-null  int64  \n",
            " 11  DAYS_EMPLOYED  10000 non-null  int64  \n",
            " 12  FLAG_MOBIL     10000 non-null  int64  \n",
            " 13  work_phone     10000 non-null  int64  \n",
            " 14  phone          10000 non-null  int64  \n",
            " 15  email          10000 non-null  int64  \n",
            " 16  occyp_type     6848 non-null   object \n",
            " 17  family_size    10000 non-null  float64\n",
            " 18  begin_month    10000 non-null  float64\n",
            "dtypes: float64(3), int64(8), object(8)\n",
            "memory usage: 1.4+ MB\n"
          ],
          "name": "stdout"
        }
      ]
    },
    {
      "cell_type": "code",
      "metadata": {
        "colab": {
          "base_uri": "https://localhost:8080/"
        },
        "id": "BroyBBA2phyu",
        "outputId": "7dd5260d-e551-4b35-dc56-f8c74d6ea93c"
      },
      "source": [
        "train.isnull().sum()   #결측치 확인"
      ],
      "execution_count": 94,
      "outputs": [
        {
          "output_type": "execute_result",
          "data": {
            "text/plain": [
              "index               0\n",
              "gender              0\n",
              "car                 0\n",
              "reality             0\n",
              "child_num           0\n",
              "income_total        0\n",
              "income_type         0\n",
              "edu_type            0\n",
              "family_type         0\n",
              "house_type          0\n",
              "DAYS_BIRTH          0\n",
              "DAYS_EMPLOYED       0\n",
              "FLAG_MOBIL          0\n",
              "work_phone          0\n",
              "phone               0\n",
              "email               0\n",
              "occyp_type       8171\n",
              "family_size         0\n",
              "begin_month         0\n",
              "credit              0\n",
              "dtype: int64"
            ]
          },
          "metadata": {
            "tags": []
          },
          "execution_count": 94
        }
      ]
    },
    {
      "cell_type": "code",
      "metadata": {
        "colab": {
          "base_uri": "https://localhost:8080/"
        },
        "id": "8yQFVNJhpkwE",
        "outputId": "c85d43b2-b71b-40dd-a1e6-376a0165bff1"
      },
      "source": [
        "test.isnull().sum()"
      ],
      "execution_count": 95,
      "outputs": [
        {
          "output_type": "execute_result",
          "data": {
            "text/plain": [
              "index               0\n",
              "gender              0\n",
              "car                 0\n",
              "reality             0\n",
              "child_num           0\n",
              "income_total        0\n",
              "income_type         0\n",
              "edu_type            0\n",
              "family_type         0\n",
              "house_type          0\n",
              "DAYS_BIRTH          0\n",
              "DAYS_EMPLOYED       0\n",
              "FLAG_MOBIL          0\n",
              "work_phone          0\n",
              "phone               0\n",
              "email               0\n",
              "occyp_type       3152\n",
              "family_size         0\n",
              "begin_month         0\n",
              "dtype: int64"
            ]
          },
          "metadata": {
            "tags": []
          },
          "execution_count": 95
        }
      ]
    },
    {
      "cell_type": "code",
      "metadata": {
        "id": "c_XEidcXpnnU"
      },
      "source": [
        "train.fillna('NAN', inplace=True)     #결측치는 'NAN'으로 표시\n",
        "test.fillna('NAN',inplace=True)"
      ],
      "execution_count": 96,
      "outputs": []
    },
    {
      "cell_type": "code",
      "metadata": {
        "colab": {
          "base_uri": "https://localhost:8080/"
        },
        "id": "oe1ux2H5pz_G",
        "outputId": "37b85bbc-e63d-4dca-e1c3-2871f7609f09"
      },
      "source": [
        "train.nunique()  # 학습데이터 각 속성마다 몇 개의 종류로 이루어져있을까요?"
      ],
      "execution_count": 97,
      "outputs": [
        {
          "output_type": "execute_result",
          "data": {
            "text/plain": [
              "index            26457\n",
              "gender               2\n",
              "car                  2\n",
              "reality              2\n",
              "child_num            9\n",
              "income_total       249\n",
              "income_type          5\n",
              "edu_type             5\n",
              "family_type          5\n",
              "house_type           6\n",
              "DAYS_BIRTH        6621\n",
              "DAYS_EMPLOYED     3470\n",
              "FLAG_MOBIL           1\n",
              "work_phone           2\n",
              "phone                2\n",
              "email                2\n",
              "occyp_type          19\n",
              "family_size         10\n",
              "begin_month         61\n",
              "credit               3\n",
              "dtype: int64"
            ]
          },
          "metadata": {
            "tags": []
          },
          "execution_count": 97
        }
      ]
    },
    {
      "cell_type": "code",
      "metadata": {
        "colab": {
          "base_uri": "https://localhost:8080/"
        },
        "id": "vc2X4w2xqcLK",
        "outputId": "9f9db78b-fef2-4e18-a259-5aae7b3484ed"
      },
      "source": [
        "test.nunique()"
      ],
      "execution_count": 98,
      "outputs": [
        {
          "output_type": "execute_result",
          "data": {
            "text/plain": [
              "index            10000\n",
              "gender               2\n",
              "car                  2\n",
              "reality              2\n",
              "child_num            6\n",
              "income_total       208\n",
              "income_type          5\n",
              "edu_type             5\n",
              "family_type          5\n",
              "house_type           6\n",
              "DAYS_BIRTH        4675\n",
              "DAYS_EMPLOYED     2665\n",
              "FLAG_MOBIL           1\n",
              "work_phone           2\n",
              "phone                2\n",
              "email                2\n",
              "occyp_type          19\n",
              "family_size          7\n",
              "begin_month         61\n",
              "dtype: int64"
            ]
          },
          "metadata": {
            "tags": []
          },
          "execution_count": 98
        }
      ]
    },
    {
      "cell_type": "code",
      "metadata": {
        "id": "ZRSjzja2p1Za"
      },
      "source": [
        "data = pd.concat([train,test],sort=False)  #train과 test합쳐서 처리"
      ],
      "execution_count": 99,
      "outputs": []
    },
    {
      "cell_type": "code",
      "metadata": {
        "colab": {
          "base_uri": "https://localhost:8080/"
        },
        "id": "sEBZqIynqy58",
        "outputId": "a3d1523b-f76c-4a03-d21c-aff50837d6da"
      },
      "source": [
        "#종류가 많지 않은 속성들 살펴보기\n",
        "print(set(data['gender']))  # train과 test데이터셋에 들어있는 gender의 종류\n",
        "print(set(data['car']))# train과 test데이터셋에 들어있는 car의 종류\n",
        "print(set(data['reality']))# train과 test데이터셋에 들어있는 reality의 종류\n",
        "print(set(data['child_num']))# train과 test데이터셋에 들어있는 child_num의 종류\n",
        "print(set(data['income_type']))# train과 test데이터셋에 들어있는 income_type의 종류\n",
        "print(set(data['edu_type']))# train과 test데이터셋에 들어있는 edu_type의 종류\n",
        "print(set(data['house_type']))# train과 test데이터셋에 들어있는 house_type의 종류\n",
        "print(set(data['work_phone']))# train과 test데이터셋에 들어있는 work_phone의 종류\n",
        "print(set(data['phone']))# train과 test데이터셋에 들어있는 phone의 종류\n",
        "print(set(data['email']))# train과 test데이터셋에 들어있는 email의 종류\n",
        "print(set(data['occyp_type']))# train과 test데이터셋에 들어있는 occyp_type의 종류\n",
        "print(set(data['family_size']))# train과 test데이터셋에 들어있는 family_size의 종류\n",
        "print(set(train['credit']))# train 데이터셋에 들어있는 credit의 종류"
      ],
      "execution_count": 100,
      "outputs": [
        {
          "output_type": "stream",
          "text": [
            "{'M', 'F'}\n",
            "{'N', 'Y'}\n",
            "{'N', 'Y'}\n",
            "{0, 1, 2, 3, 4, 5, 7, 14, 19}\n",
            "{'Commercial associate', 'Student', 'Working', 'State servant', 'Pensioner'}\n",
            "{'Incomplete higher', 'Higher education', 'Lower secondary', 'Academic degree', 'Secondary / secondary special'}\n",
            "{'Co-op apartment', 'With parents', 'House / apartment', 'Municipal apartment', 'Office apartment', 'Rented apartment'}\n",
            "{0, 1}\n",
            "{0, 1}\n",
            "{0, 1}\n",
            "{'Low-skill Laborers', 'IT staff', 'Secretaries', 'Core staff', 'Waiters/barmen staff', 'NAN', 'High skill tech staff', 'Cleaning staff', 'Laborers', 'Sales staff', 'Private service staff', 'Medicine staff', 'Drivers', 'Accountants', 'Cooking staff', 'HR staff', 'Security staff', 'Managers', 'Realty agents'}\n",
            "{1.0, 2.0, 3.0, 4.0, 5.0, 6.0, 7.0, 9.0, 15.0, 20.0}\n",
            "{0.0, 1.0, 2.0}\n"
          ],
          "name": "stdout"
        }
      ]
    },
    {
      "cell_type": "code",
      "metadata": {
        "colab": {
          "base_uri": "https://localhost:8080/",
          "height": 556
        },
        "id": "s4qE6IEzck2K",
        "outputId": "c54f1065-1f23-4ac2-960b-9681ae5796a0"
      },
      "source": [
        "search = train[(train['child_num']>=7)]  #아이가 7명이 넘는 가족이 있다? test에서도 나오는지 확인해보자 index범위가 test부분은 없음 => train에만 있는 이상한 행들\n",
        "search.head(10)"
      ],
      "execution_count": 101,
      "outputs": [
        {
          "output_type": "execute_result",
          "data": {
            "text/html": [
              "<div>\n",
              "<style scoped>\n",
              "    .dataframe tbody tr th:only-of-type {\n",
              "        vertical-align: middle;\n",
              "    }\n",
              "\n",
              "    .dataframe tbody tr th {\n",
              "        vertical-align: top;\n",
              "    }\n",
              "\n",
              "    .dataframe thead th {\n",
              "        text-align: right;\n",
              "    }\n",
              "</style>\n",
              "<table border=\"1\" class=\"dataframe\">\n",
              "  <thead>\n",
              "    <tr style=\"text-align: right;\">\n",
              "      <th></th>\n",
              "      <th>index</th>\n",
              "      <th>gender</th>\n",
              "      <th>car</th>\n",
              "      <th>reality</th>\n",
              "      <th>child_num</th>\n",
              "      <th>income_total</th>\n",
              "      <th>income_type</th>\n",
              "      <th>edu_type</th>\n",
              "      <th>family_type</th>\n",
              "      <th>house_type</th>\n",
              "      <th>DAYS_BIRTH</th>\n",
              "      <th>DAYS_EMPLOYED</th>\n",
              "      <th>FLAG_MOBIL</th>\n",
              "      <th>work_phone</th>\n",
              "      <th>phone</th>\n",
              "      <th>email</th>\n",
              "      <th>occyp_type</th>\n",
              "      <th>family_size</th>\n",
              "      <th>begin_month</th>\n",
              "      <th>credit</th>\n",
              "    </tr>\n",
              "  </thead>\n",
              "  <tbody>\n",
              "    <tr>\n",
              "      <th>8462</th>\n",
              "      <td>8462</td>\n",
              "      <td>M</td>\n",
              "      <td>Y</td>\n",
              "      <td>Y</td>\n",
              "      <td>14</td>\n",
              "      <td>225000.0</td>\n",
              "      <td>Working</td>\n",
              "      <td>Secondary / secondary special</td>\n",
              "      <td>Separated</td>\n",
              "      <td>House / apartment</td>\n",
              "      <td>-17754</td>\n",
              "      <td>-1689</td>\n",
              "      <td>1</td>\n",
              "      <td>0</td>\n",
              "      <td>0</td>\n",
              "      <td>0</td>\n",
              "      <td>Drivers</td>\n",
              "      <td>15.0</td>\n",
              "      <td>-7.0</td>\n",
              "      <td>2.0</td>\n",
              "    </tr>\n",
              "    <tr>\n",
              "      <th>9021</th>\n",
              "      <td>9021</td>\n",
              "      <td>M</td>\n",
              "      <td>Y</td>\n",
              "      <td>Y</td>\n",
              "      <td>14</td>\n",
              "      <td>225000.0</td>\n",
              "      <td>Working</td>\n",
              "      <td>Secondary / secondary special</td>\n",
              "      <td>Separated</td>\n",
              "      <td>House / apartment</td>\n",
              "      <td>-17754</td>\n",
              "      <td>-1689</td>\n",
              "      <td>1</td>\n",
              "      <td>0</td>\n",
              "      <td>0</td>\n",
              "      <td>0</td>\n",
              "      <td>Drivers</td>\n",
              "      <td>15.0</td>\n",
              "      <td>-58.0</td>\n",
              "      <td>2.0</td>\n",
              "    </tr>\n",
              "    <tr>\n",
              "      <th>10731</th>\n",
              "      <td>10731</td>\n",
              "      <td>F</td>\n",
              "      <td>N</td>\n",
              "      <td>Y</td>\n",
              "      <td>19</td>\n",
              "      <td>112500.0</td>\n",
              "      <td>Working</td>\n",
              "      <td>Secondary / secondary special</td>\n",
              "      <td>Single / not married</td>\n",
              "      <td>House / apartment</td>\n",
              "      <td>-11057</td>\n",
              "      <td>-1853</td>\n",
              "      <td>1</td>\n",
              "      <td>1</td>\n",
              "      <td>1</td>\n",
              "      <td>0</td>\n",
              "      <td>Waiters/barmen staff</td>\n",
              "      <td>20.0</td>\n",
              "      <td>-5.0</td>\n",
              "      <td>2.0</td>\n",
              "    </tr>\n",
              "    <tr>\n",
              "      <th>25313</th>\n",
              "      <td>25313</td>\n",
              "      <td>F</td>\n",
              "      <td>N</td>\n",
              "      <td>N</td>\n",
              "      <td>7</td>\n",
              "      <td>157500.0</td>\n",
              "      <td>Working</td>\n",
              "      <td>Secondary / secondary special</td>\n",
              "      <td>Married</td>\n",
              "      <td>House / apartment</td>\n",
              "      <td>-13827</td>\n",
              "      <td>-1649</td>\n",
              "      <td>1</td>\n",
              "      <td>1</td>\n",
              "      <td>1</td>\n",
              "      <td>0</td>\n",
              "      <td>Cleaning staff</td>\n",
              "      <td>9.0</td>\n",
              "      <td>-26.0</td>\n",
              "      <td>2.0</td>\n",
              "    </tr>\n",
              "    <tr>\n",
              "      <th>25390</th>\n",
              "      <td>25390</td>\n",
              "      <td>M</td>\n",
              "      <td>Y</td>\n",
              "      <td>Y</td>\n",
              "      <td>14</td>\n",
              "      <td>225000.0</td>\n",
              "      <td>Working</td>\n",
              "      <td>Secondary / secondary special</td>\n",
              "      <td>Separated</td>\n",
              "      <td>House / apartment</td>\n",
              "      <td>-17754</td>\n",
              "      <td>-1689</td>\n",
              "      <td>1</td>\n",
              "      <td>0</td>\n",
              "      <td>0</td>\n",
              "      <td>0</td>\n",
              "      <td>Drivers</td>\n",
              "      <td>15.0</td>\n",
              "      <td>-43.0</td>\n",
              "      <td>2.0</td>\n",
              "    </tr>\n",
              "    <tr>\n",
              "      <th>25638</th>\n",
              "      <td>25638</td>\n",
              "      <td>F</td>\n",
              "      <td>N</td>\n",
              "      <td>N</td>\n",
              "      <td>7</td>\n",
              "      <td>157500.0</td>\n",
              "      <td>Working</td>\n",
              "      <td>Secondary / secondary special</td>\n",
              "      <td>Married</td>\n",
              "      <td>House / apartment</td>\n",
              "      <td>-13827</td>\n",
              "      <td>-1649</td>\n",
              "      <td>1</td>\n",
              "      <td>1</td>\n",
              "      <td>1</td>\n",
              "      <td>0</td>\n",
              "      <td>Cleaning staff</td>\n",
              "      <td>9.0</td>\n",
              "      <td>-31.0</td>\n",
              "      <td>2.0</td>\n",
              "    </tr>\n",
              "  </tbody>\n",
              "</table>\n",
              "</div>"
            ],
            "text/plain": [
              "       index gender car  ... family_size  begin_month  credit\n",
              "8462    8462      M   Y  ...        15.0         -7.0     2.0\n",
              "9021    9021      M   Y  ...        15.0        -58.0     2.0\n",
              "10731  10731      F   N  ...        20.0         -5.0     2.0\n",
              "25313  25313      F   N  ...         9.0        -26.0     2.0\n",
              "25390  25390      M   Y  ...        15.0        -43.0     2.0\n",
              "25638  25638      F   N  ...         9.0        -31.0     2.0\n",
              "\n",
              "[6 rows x 20 columns]"
            ]
          },
          "metadata": {
            "tags": []
          },
          "execution_count": 101
        }
      ]
    },
    {
      "cell_type": "code",
      "metadata": {
        "id": "qXevvi-0ck4N"
      },
      "source": [
        "train=train.drop(search.index, axis=0)    #이상한 행들의 index를 저장해서 그 부분들만 삭제함."
      ],
      "execution_count": 102,
      "outputs": []
    },
    {
      "cell_type": "code",
      "metadata": {
        "id": "pzTQ3Y_Bck6O"
      },
      "source": [
        "data = pd.concat([train,test],sort=False)   #다시 data로 합쳐서 전처리"
      ],
      "execution_count": 103,
      "outputs": []
    },
    {
      "cell_type": "code",
      "metadata": {
        "id": "kvAylQs1ck8N"
      },
      "source": [
        "#index 필요 없고, FLAG_MOBIL은 전부 1이니까 삭제해도 됨.\n",
        "data.drop(['index','FLAG_MOBIL'], axis=1, inplace=True)"
      ],
      "execution_count": 104,
      "outputs": []
    },
    {
      "cell_type": "code",
      "metadata": {
        "colab": {
          "base_uri": "https://localhost:8080/",
          "height": 223
        },
        "id": "dScw-yGEq5m8",
        "outputId": "501e25a2-9852-4b03-c2fb-a988863f89a2"
      },
      "source": [
        "#object형식으로 이루어진 것들을 Label인코딩\n",
        "cat_cols = ['gender','car','reality','income_type','edu_type','family_type','house_type','occyp_type']\n",
        "from sklearn.preprocessing import LabelEncoder\n",
        "for i in cat_cols:\n",
        "  le = LabelEncoder()\n",
        "  data[i] = le.fit_transform(data[i])\n",
        "data.head()"
      ],
      "execution_count": 105,
      "outputs": [
        {
          "output_type": "execute_result",
          "data": {
            "text/html": [
              "<div>\n",
              "<style scoped>\n",
              "    .dataframe tbody tr th:only-of-type {\n",
              "        vertical-align: middle;\n",
              "    }\n",
              "\n",
              "    .dataframe tbody tr th {\n",
              "        vertical-align: top;\n",
              "    }\n",
              "\n",
              "    .dataframe thead th {\n",
              "        text-align: right;\n",
              "    }\n",
              "</style>\n",
              "<table border=\"1\" class=\"dataframe\">\n",
              "  <thead>\n",
              "    <tr style=\"text-align: right;\">\n",
              "      <th></th>\n",
              "      <th>gender</th>\n",
              "      <th>car</th>\n",
              "      <th>reality</th>\n",
              "      <th>child_num</th>\n",
              "      <th>income_total</th>\n",
              "      <th>income_type</th>\n",
              "      <th>edu_type</th>\n",
              "      <th>family_type</th>\n",
              "      <th>house_type</th>\n",
              "      <th>DAYS_BIRTH</th>\n",
              "      <th>DAYS_EMPLOYED</th>\n",
              "      <th>work_phone</th>\n",
              "      <th>phone</th>\n",
              "      <th>email</th>\n",
              "      <th>occyp_type</th>\n",
              "      <th>family_size</th>\n",
              "      <th>begin_month</th>\n",
              "      <th>credit</th>\n",
              "    </tr>\n",
              "  </thead>\n",
              "  <tbody>\n",
              "    <tr>\n",
              "      <th>0</th>\n",
              "      <td>0</td>\n",
              "      <td>0</td>\n",
              "      <td>0</td>\n",
              "      <td>0</td>\n",
              "      <td>202500.0</td>\n",
              "      <td>0</td>\n",
              "      <td>1</td>\n",
              "      <td>1</td>\n",
              "      <td>2</td>\n",
              "      <td>-13899</td>\n",
              "      <td>-4709</td>\n",
              "      <td>0</td>\n",
              "      <td>0</td>\n",
              "      <td>0</td>\n",
              "      <td>12</td>\n",
              "      <td>2.0</td>\n",
              "      <td>-6.0</td>\n",
              "      <td>1.0</td>\n",
              "    </tr>\n",
              "    <tr>\n",
              "      <th>1</th>\n",
              "      <td>0</td>\n",
              "      <td>0</td>\n",
              "      <td>1</td>\n",
              "      <td>1</td>\n",
              "      <td>247500.0</td>\n",
              "      <td>0</td>\n",
              "      <td>4</td>\n",
              "      <td>0</td>\n",
              "      <td>1</td>\n",
              "      <td>-11380</td>\n",
              "      <td>-1540</td>\n",
              "      <td>0</td>\n",
              "      <td>0</td>\n",
              "      <td>1</td>\n",
              "      <td>8</td>\n",
              "      <td>3.0</td>\n",
              "      <td>-5.0</td>\n",
              "      <td>1.0</td>\n",
              "    </tr>\n",
              "    <tr>\n",
              "      <th>2</th>\n",
              "      <td>1</td>\n",
              "      <td>1</td>\n",
              "      <td>1</td>\n",
              "      <td>0</td>\n",
              "      <td>450000.0</td>\n",
              "      <td>4</td>\n",
              "      <td>1</td>\n",
              "      <td>1</td>\n",
              "      <td>1</td>\n",
              "      <td>-19087</td>\n",
              "      <td>-4434</td>\n",
              "      <td>0</td>\n",
              "      <td>1</td>\n",
              "      <td>0</td>\n",
              "      <td>10</td>\n",
              "      <td>2.0</td>\n",
              "      <td>-22.0</td>\n",
              "      <td>2.0</td>\n",
              "    </tr>\n",
              "    <tr>\n",
              "      <th>3</th>\n",
              "      <td>0</td>\n",
              "      <td>0</td>\n",
              "      <td>1</td>\n",
              "      <td>0</td>\n",
              "      <td>202500.0</td>\n",
              "      <td>0</td>\n",
              "      <td>4</td>\n",
              "      <td>1</td>\n",
              "      <td>1</td>\n",
              "      <td>-15088</td>\n",
              "      <td>-2092</td>\n",
              "      <td>0</td>\n",
              "      <td>1</td>\n",
              "      <td>0</td>\n",
              "      <td>15</td>\n",
              "      <td>2.0</td>\n",
              "      <td>-37.0</td>\n",
              "      <td>0.0</td>\n",
              "    </tr>\n",
              "    <tr>\n",
              "      <th>4</th>\n",
              "      <td>0</td>\n",
              "      <td>1</td>\n",
              "      <td>1</td>\n",
              "      <td>0</td>\n",
              "      <td>157500.0</td>\n",
              "      <td>2</td>\n",
              "      <td>1</td>\n",
              "      <td>1</td>\n",
              "      <td>1</td>\n",
              "      <td>-15037</td>\n",
              "      <td>-2105</td>\n",
              "      <td>0</td>\n",
              "      <td>0</td>\n",
              "      <td>0</td>\n",
              "      <td>10</td>\n",
              "      <td>2.0</td>\n",
              "      <td>-26.0</td>\n",
              "      <td>2.0</td>\n",
              "    </tr>\n",
              "  </tbody>\n",
              "</table>\n",
              "</div>"
            ],
            "text/plain": [
              "   gender  car  reality  ...  family_size  begin_month  credit\n",
              "0       0    0        0  ...          2.0         -6.0     1.0\n",
              "1       0    0        1  ...          3.0         -5.0     1.0\n",
              "2       1    1        1  ...          2.0        -22.0     2.0\n",
              "3       0    0        1  ...          2.0        -37.0     0.0\n",
              "4       0    1        1  ...          2.0        -26.0     2.0\n",
              "\n",
              "[5 rows x 18 columns]"
            ]
          },
          "metadata": {
            "tags": []
          },
          "execution_count": 105
        }
      ]
    },
    {
      "cell_type": "code",
      "metadata": {
        "id": "St4RiyHTzTMk"
      },
      "source": [
        "data['DAYS_EMPLOYED'] = data['DAYS_EMPLOYED'].map(lambda x: 0 if x>=0 else x)   #무직인 사람은 0으로 표현"
      ],
      "execution_count": 106,
      "outputs": []
    },
    {
      "cell_type": "code",
      "metadata": {
        "id": "DuoLqBCFycCX"
      },
      "source": [
        "#음수 속성들 양수로 바꾸기\n",
        "data['DAYS_BIRTH']= np.abs(data['DAYS_BIRTH'])\n",
        "data['DAYS_EMPLOYED']= np.abs(data['DAYS_EMPLOYED'])\n",
        "data['begin_month']=np.abs(data['begin_month'])"
      ],
      "execution_count": 107,
      "outputs": []
    },
    {
      "cell_type": "code",
      "metadata": {
        "id": "UVxWMJy7zhu1"
      },
      "source": [
        "#파생변수들 만들어봄\n",
        "#사용자의 나이 예측 = (태어난 날 / 365), 현재 데이터가 태어난 날이 하루전이면 -1로 표현하고있음\n",
        "data['Age'] = data['DAYS_BIRTH']//365\n",
        "#태어난 개월 수\n",
        "data['birth_mon'] = (data['DAYS_BIRTH']//30)\n",
        "#태어난지 몇주\n",
        "data['birth_week'] = (data['DAYS_BIRTH']//7)\n",
        "\n",
        "#사용자가 일한 개월 수 구하기 (평균 30일로 계산)\n",
        "data['work_month'] = (data['DAYS_EMPLOYED']//30)\n",
        "\n",
        "#태어난지 몇개월째에 신용카드를 만들었는지\n",
        "data['cred_mon'] = data['birth_mon']-data['begin_month']\n",
        "#태어난지 몇 주만에 신용카드를 만들었는지\n",
        "data['cred_day'] = (data['DAYS_BIRTH'] - (data['begin_month']*30))//7\n",
        "#태어난지 몇 일만에 신용카드를 만들었는지\n",
        "data['cred_day'] = data['DAYS_BIRTH'] - (data['begin_month']*30)\n",
        "\n",
        "\n",
        "#자식을 제외한 가족 수\n",
        "data['older'] = data['family_size']-data['child_num']\n",
        "#총 수입 / 가족 명 수 (한 사람당 얼마의 수입)\n",
        "data['income_per'] = data['income_total']/data['family_size']"
      ],
      "execution_count": 108,
      "outputs": []
    },
    {
      "cell_type": "code",
      "metadata": {
        "colab": {
          "base_uri": "https://localhost:8080/",
          "height": 223
        },
        "id": "zgn30KQQalej",
        "outputId": "a8c5df14-0869-4c75-e9da-16647dfbdc90"
      },
      "source": [
        "from sklearn.preprocessing import MinMaxScaler\n",
        "scaler = MinMaxScaler()\n",
        "data['income_total'] = scaler.fit_transform(data.loc[:,data.columns == 'income_total'])\n",
        "data.head()"
      ],
      "execution_count": 109,
      "outputs": [
        {
          "output_type": "execute_result",
          "data": {
            "text/html": [
              "<div>\n",
              "<style scoped>\n",
              "    .dataframe tbody tr th:only-of-type {\n",
              "        vertical-align: middle;\n",
              "    }\n",
              "\n",
              "    .dataframe tbody tr th {\n",
              "        vertical-align: top;\n",
              "    }\n",
              "\n",
              "    .dataframe thead th {\n",
              "        text-align: right;\n",
              "    }\n",
              "</style>\n",
              "<table border=\"1\" class=\"dataframe\">\n",
              "  <thead>\n",
              "    <tr style=\"text-align: right;\">\n",
              "      <th></th>\n",
              "      <th>gender</th>\n",
              "      <th>car</th>\n",
              "      <th>reality</th>\n",
              "      <th>child_num</th>\n",
              "      <th>income_total</th>\n",
              "      <th>income_type</th>\n",
              "      <th>edu_type</th>\n",
              "      <th>family_type</th>\n",
              "      <th>house_type</th>\n",
              "      <th>DAYS_BIRTH</th>\n",
              "      <th>DAYS_EMPLOYED</th>\n",
              "      <th>work_phone</th>\n",
              "      <th>phone</th>\n",
              "      <th>email</th>\n",
              "      <th>occyp_type</th>\n",
              "      <th>family_size</th>\n",
              "      <th>begin_month</th>\n",
              "      <th>credit</th>\n",
              "      <th>Age</th>\n",
              "      <th>birth_mon</th>\n",
              "      <th>birth_week</th>\n",
              "      <th>work_month</th>\n",
              "      <th>cred_mon</th>\n",
              "      <th>cred_day</th>\n",
              "      <th>older</th>\n",
              "      <th>income_per</th>\n",
              "    </tr>\n",
              "  </thead>\n",
              "  <tbody>\n",
              "    <tr>\n",
              "      <th>0</th>\n",
              "      <td>0</td>\n",
              "      <td>0</td>\n",
              "      <td>0</td>\n",
              "      <td>0</td>\n",
              "      <td>0.113372</td>\n",
              "      <td>0</td>\n",
              "      <td>1</td>\n",
              "      <td>1</td>\n",
              "      <td>2</td>\n",
              "      <td>13899</td>\n",
              "      <td>4709</td>\n",
              "      <td>0</td>\n",
              "      <td>0</td>\n",
              "      <td>0</td>\n",
              "      <td>12</td>\n",
              "      <td>2.0</td>\n",
              "      <td>6.0</td>\n",
              "      <td>1.0</td>\n",
              "      <td>38</td>\n",
              "      <td>463</td>\n",
              "      <td>1985</td>\n",
              "      <td>156</td>\n",
              "      <td>457.0</td>\n",
              "      <td>13719.0</td>\n",
              "      <td>2.0</td>\n",
              "      <td>101250.0</td>\n",
              "    </tr>\n",
              "    <tr>\n",
              "      <th>1</th>\n",
              "      <td>0</td>\n",
              "      <td>0</td>\n",
              "      <td>1</td>\n",
              "      <td>1</td>\n",
              "      <td>0.142442</td>\n",
              "      <td>0</td>\n",
              "      <td>4</td>\n",
              "      <td>0</td>\n",
              "      <td>1</td>\n",
              "      <td>11380</td>\n",
              "      <td>1540</td>\n",
              "      <td>0</td>\n",
              "      <td>0</td>\n",
              "      <td>1</td>\n",
              "      <td>8</td>\n",
              "      <td>3.0</td>\n",
              "      <td>5.0</td>\n",
              "      <td>1.0</td>\n",
              "      <td>31</td>\n",
              "      <td>379</td>\n",
              "      <td>1625</td>\n",
              "      <td>51</td>\n",
              "      <td>374.0</td>\n",
              "      <td>11230.0</td>\n",
              "      <td>2.0</td>\n",
              "      <td>82500.0</td>\n",
              "    </tr>\n",
              "    <tr>\n",
              "      <th>2</th>\n",
              "      <td>1</td>\n",
              "      <td>1</td>\n",
              "      <td>1</td>\n",
              "      <td>0</td>\n",
              "      <td>0.273256</td>\n",
              "      <td>4</td>\n",
              "      <td>1</td>\n",
              "      <td>1</td>\n",
              "      <td>1</td>\n",
              "      <td>19087</td>\n",
              "      <td>4434</td>\n",
              "      <td>0</td>\n",
              "      <td>1</td>\n",
              "      <td>0</td>\n",
              "      <td>10</td>\n",
              "      <td>2.0</td>\n",
              "      <td>22.0</td>\n",
              "      <td>2.0</td>\n",
              "      <td>52</td>\n",
              "      <td>636</td>\n",
              "      <td>2726</td>\n",
              "      <td>147</td>\n",
              "      <td>614.0</td>\n",
              "      <td>18427.0</td>\n",
              "      <td>2.0</td>\n",
              "      <td>225000.0</td>\n",
              "    </tr>\n",
              "    <tr>\n",
              "      <th>3</th>\n",
              "      <td>0</td>\n",
              "      <td>0</td>\n",
              "      <td>1</td>\n",
              "      <td>0</td>\n",
              "      <td>0.113372</td>\n",
              "      <td>0</td>\n",
              "      <td>4</td>\n",
              "      <td>1</td>\n",
              "      <td>1</td>\n",
              "      <td>15088</td>\n",
              "      <td>2092</td>\n",
              "      <td>0</td>\n",
              "      <td>1</td>\n",
              "      <td>0</td>\n",
              "      <td>15</td>\n",
              "      <td>2.0</td>\n",
              "      <td>37.0</td>\n",
              "      <td>0.0</td>\n",
              "      <td>41</td>\n",
              "      <td>502</td>\n",
              "      <td>2155</td>\n",
              "      <td>69</td>\n",
              "      <td>465.0</td>\n",
              "      <td>13978.0</td>\n",
              "      <td>2.0</td>\n",
              "      <td>101250.0</td>\n",
              "    </tr>\n",
              "    <tr>\n",
              "      <th>4</th>\n",
              "      <td>0</td>\n",
              "      <td>1</td>\n",
              "      <td>1</td>\n",
              "      <td>0</td>\n",
              "      <td>0.084302</td>\n",
              "      <td>2</td>\n",
              "      <td>1</td>\n",
              "      <td>1</td>\n",
              "      <td>1</td>\n",
              "      <td>15037</td>\n",
              "      <td>2105</td>\n",
              "      <td>0</td>\n",
              "      <td>0</td>\n",
              "      <td>0</td>\n",
              "      <td>10</td>\n",
              "      <td>2.0</td>\n",
              "      <td>26.0</td>\n",
              "      <td>2.0</td>\n",
              "      <td>41</td>\n",
              "      <td>501</td>\n",
              "      <td>2148</td>\n",
              "      <td>70</td>\n",
              "      <td>475.0</td>\n",
              "      <td>14257.0</td>\n",
              "      <td>2.0</td>\n",
              "      <td>78750.0</td>\n",
              "    </tr>\n",
              "  </tbody>\n",
              "</table>\n",
              "</div>"
            ],
            "text/plain": [
              "   gender  car  reality  child_num  ...  cred_mon  cred_day  older  income_per\n",
              "0       0    0        0          0  ...     457.0   13719.0    2.0    101250.0\n",
              "1       0    0        1          1  ...     374.0   11230.0    2.0     82500.0\n",
              "2       1    1        1          0  ...     614.0   18427.0    2.0    225000.0\n",
              "3       0    0        1          0  ...     465.0   13978.0    2.0    101250.0\n",
              "4       0    1        1          0  ...     475.0   14257.0    2.0     78750.0\n",
              "\n",
              "[5 rows x 26 columns]"
            ]
          },
          "metadata": {
            "tags": []
          },
          "execution_count": 109
        }
      ]
    },
    {
      "cell_type": "code",
      "metadata": {
        "colab": {
          "base_uri": "https://localhost:8080/",
          "height": 223
        },
        "id": "abQqfGExTBc1",
        "outputId": "d3fbb5b5-4c8f-4157-fec4-d5a80900636d"
      },
      "source": [
        "train=data[:(len(train))]  #다시 data에서 train과 test데이터셋으로 나눔\n",
        "test = data[len(train):]\n",
        "test.head()"
      ],
      "execution_count": 110,
      "outputs": [
        {
          "output_type": "execute_result",
          "data": {
            "text/html": [
              "<div>\n",
              "<style scoped>\n",
              "    .dataframe tbody tr th:only-of-type {\n",
              "        vertical-align: middle;\n",
              "    }\n",
              "\n",
              "    .dataframe tbody tr th {\n",
              "        vertical-align: top;\n",
              "    }\n",
              "\n",
              "    .dataframe thead th {\n",
              "        text-align: right;\n",
              "    }\n",
              "</style>\n",
              "<table border=\"1\" class=\"dataframe\">\n",
              "  <thead>\n",
              "    <tr style=\"text-align: right;\">\n",
              "      <th></th>\n",
              "      <th>gender</th>\n",
              "      <th>car</th>\n",
              "      <th>reality</th>\n",
              "      <th>child_num</th>\n",
              "      <th>income_total</th>\n",
              "      <th>income_type</th>\n",
              "      <th>edu_type</th>\n",
              "      <th>family_type</th>\n",
              "      <th>house_type</th>\n",
              "      <th>DAYS_BIRTH</th>\n",
              "      <th>DAYS_EMPLOYED</th>\n",
              "      <th>work_phone</th>\n",
              "      <th>phone</th>\n",
              "      <th>email</th>\n",
              "      <th>occyp_type</th>\n",
              "      <th>family_size</th>\n",
              "      <th>begin_month</th>\n",
              "      <th>credit</th>\n",
              "      <th>Age</th>\n",
              "      <th>birth_mon</th>\n",
              "      <th>birth_week</th>\n",
              "      <th>work_month</th>\n",
              "      <th>cred_mon</th>\n",
              "      <th>cred_day</th>\n",
              "      <th>older</th>\n",
              "      <th>income_per</th>\n",
              "    </tr>\n",
              "  </thead>\n",
              "  <tbody>\n",
              "    <tr>\n",
              "      <th>0</th>\n",
              "      <td>1</td>\n",
              "      <td>1</td>\n",
              "      <td>0</td>\n",
              "      <td>0</td>\n",
              "      <td>0.055233</td>\n",
              "      <td>1</td>\n",
              "      <td>4</td>\n",
              "      <td>0</td>\n",
              "      <td>1</td>\n",
              "      <td>21990</td>\n",
              "      <td>0</td>\n",
              "      <td>0</td>\n",
              "      <td>1</td>\n",
              "      <td>0</td>\n",
              "      <td>12</td>\n",
              "      <td>2.0</td>\n",
              "      <td>60.0</td>\n",
              "      <td>NaN</td>\n",
              "      <td>60</td>\n",
              "      <td>733</td>\n",
              "      <td>3141</td>\n",
              "      <td>0</td>\n",
              "      <td>673.0</td>\n",
              "      <td>20190.0</td>\n",
              "      <td>2.0</td>\n",
              "      <td>56250.0</td>\n",
              "    </tr>\n",
              "    <tr>\n",
              "      <th>1</th>\n",
              "      <td>0</td>\n",
              "      <td>0</td>\n",
              "      <td>1</td>\n",
              "      <td>0</td>\n",
              "      <td>0.069767</td>\n",
              "      <td>2</td>\n",
              "      <td>1</td>\n",
              "      <td>1</td>\n",
              "      <td>1</td>\n",
              "      <td>18964</td>\n",
              "      <td>8671</td>\n",
              "      <td>0</td>\n",
              "      <td>1</td>\n",
              "      <td>0</td>\n",
              "      <td>3</td>\n",
              "      <td>2.0</td>\n",
              "      <td>36.0</td>\n",
              "      <td>NaN</td>\n",
              "      <td>51</td>\n",
              "      <td>632</td>\n",
              "      <td>2709</td>\n",
              "      <td>289</td>\n",
              "      <td>596.0</td>\n",
              "      <td>17884.0</td>\n",
              "      <td>2.0</td>\n",
              "      <td>67500.0</td>\n",
              "    </tr>\n",
              "    <tr>\n",
              "      <th>2</th>\n",
              "      <td>0</td>\n",
              "      <td>0</td>\n",
              "      <td>1</td>\n",
              "      <td>0</td>\n",
              "      <td>0.027372</td>\n",
              "      <td>4</td>\n",
              "      <td>4</td>\n",
              "      <td>1</td>\n",
              "      <td>1</td>\n",
              "      <td>15887</td>\n",
              "      <td>217</td>\n",
              "      <td>1</td>\n",
              "      <td>1</td>\n",
              "      <td>0</td>\n",
              "      <td>8</td>\n",
              "      <td>2.0</td>\n",
              "      <td>40.0</td>\n",
              "      <td>NaN</td>\n",
              "      <td>43</td>\n",
              "      <td>529</td>\n",
              "      <td>2269</td>\n",
              "      <td>7</td>\n",
              "      <td>489.0</td>\n",
              "      <td>14687.0</td>\n",
              "      <td>2.0</td>\n",
              "      <td>34686.0</td>\n",
              "    </tr>\n",
              "    <tr>\n",
              "      <th>3</th>\n",
              "      <td>1</td>\n",
              "      <td>1</td>\n",
              "      <td>0</td>\n",
              "      <td>0</td>\n",
              "      <td>0.055233</td>\n",
              "      <td>0</td>\n",
              "      <td>4</td>\n",
              "      <td>1</td>\n",
              "      <td>1</td>\n",
              "      <td>19270</td>\n",
              "      <td>2531</td>\n",
              "      <td>1</td>\n",
              "      <td>0</td>\n",
              "      <td>0</td>\n",
              "      <td>4</td>\n",
              "      <td>2.0</td>\n",
              "      <td>41.0</td>\n",
              "      <td>NaN</td>\n",
              "      <td>52</td>\n",
              "      <td>642</td>\n",
              "      <td>2752</td>\n",
              "      <td>84</td>\n",
              "      <td>601.0</td>\n",
              "      <td>18040.0</td>\n",
              "      <td>2.0</td>\n",
              "      <td>56250.0</td>\n",
              "    </tr>\n",
              "    <tr>\n",
              "      <th>4</th>\n",
              "      <td>0</td>\n",
              "      <td>1</td>\n",
              "      <td>1</td>\n",
              "      <td>0</td>\n",
              "      <td>0.127907</td>\n",
              "      <td>2</td>\n",
              "      <td>1</td>\n",
              "      <td>1</td>\n",
              "      <td>1</td>\n",
              "      <td>17822</td>\n",
              "      <td>9385</td>\n",
              "      <td>1</td>\n",
              "      <td>0</td>\n",
              "      <td>0</td>\n",
              "      <td>10</td>\n",
              "      <td>2.0</td>\n",
              "      <td>8.0</td>\n",
              "      <td>NaN</td>\n",
              "      <td>48</td>\n",
              "      <td>594</td>\n",
              "      <td>2546</td>\n",
              "      <td>312</td>\n",
              "      <td>586.0</td>\n",
              "      <td>17582.0</td>\n",
              "      <td>2.0</td>\n",
              "      <td>112500.0</td>\n",
              "    </tr>\n",
              "  </tbody>\n",
              "</table>\n",
              "</div>"
            ],
            "text/plain": [
              "   gender  car  reality  child_num  ...  cred_mon  cred_day  older  income_per\n",
              "0       1    1        0          0  ...     673.0   20190.0    2.0     56250.0\n",
              "1       0    0        1          0  ...     596.0   17884.0    2.0     67500.0\n",
              "2       0    0        1          0  ...     489.0   14687.0    2.0     34686.0\n",
              "3       1    1        0          0  ...     601.0   18040.0    2.0     56250.0\n",
              "4       0    1        1          0  ...     586.0   17582.0    2.0    112500.0\n",
              "\n",
              "[5 rows x 26 columns]"
            ]
          },
          "metadata": {
            "tags": []
          },
          "execution_count": 110
        }
      ]
    },
    {
      "cell_type": "code",
      "metadata": {
        "id": "pRhxnBNIboX_"
      },
      "source": [
        "test = test.drop('credit', axis=1)  #concat으로 인해 강제로 생겨난 credit열을 삭제해준다.\n"
      ],
      "execution_count": 111,
      "outputs": []
    },
    {
      "cell_type": "code",
      "metadata": {
        "id": "35y-IoPtb61i"
      },
      "source": [
        "y_train= train['credit']  #결과값 credit은 y_train에 옮겨두고\n",
        "X_train = train.drop('credit',axis=1)  "
      ],
      "execution_count": 112,
      "outputs": []
    },
    {
      "cell_type": "code",
      "metadata": {
        "colab": {
          "base_uri": "https://localhost:8080/"
        },
        "id": "1iL6L8jbwxHf",
        "outputId": "d0df5fc3-2c3c-4763-9b08-d9fc6e361657"
      },
      "source": [
        "from sklearn.model_selection import train_test_split\n",
        "#학습-검증데이터셋 8:2비율로 둠\n",
        "X_train,X_valid, y_train, y_valid = train_test_split(X_train,y_train, test_size=0.2, random_state=0, shuffle=True)\n",
        "\n",
        "print('X_train = ', X_train.shape)\n",
        "print('X_valid = ', X_valid.shape)\n",
        "print('y_train = ', y_train.shape)\n",
        "print('y_valid = ', y_valid.shape)"
      ],
      "execution_count": 113,
      "outputs": [
        {
          "output_type": "stream",
          "text": [
            "X_train =  (21160, 25)\n",
            "X_valid =  (5291, 25)\n",
            "y_train =  (21160,)\n",
            "y_valid =  (5291,)\n"
          ],
          "name": "stdout"
        }
      ]
    },
    {
      "cell_type": "code",
      "metadata": {
        "colab": {
          "base_uri": "https://localhost:8080/"
        },
        "id": "CWAQ8FXrjTwh",
        "outputId": "bd9607bf-175d-4ebf-ecec-5c6ac7acd452"
      },
      "source": [
        "X_train.info()"
      ],
      "execution_count": 114,
      "outputs": [
        {
          "output_type": "stream",
          "text": [
            "<class 'pandas.core.frame.DataFrame'>\n",
            "Int64Index: 21160 entries, 12 to 2732\n",
            "Data columns (total 25 columns):\n",
            " #   Column         Non-Null Count  Dtype  \n",
            "---  ------         --------------  -----  \n",
            " 0   gender         21160 non-null  int64  \n",
            " 1   car            21160 non-null  int64  \n",
            " 2   reality        21160 non-null  int64  \n",
            " 3   child_num      21160 non-null  int64  \n",
            " 4   income_total   21160 non-null  float64\n",
            " 5   income_type    21160 non-null  int64  \n",
            " 6   edu_type       21160 non-null  int64  \n",
            " 7   family_type    21160 non-null  int64  \n",
            " 8   house_type     21160 non-null  int64  \n",
            " 9   DAYS_BIRTH     21160 non-null  int64  \n",
            " 10  DAYS_EMPLOYED  21160 non-null  int64  \n",
            " 11  work_phone     21160 non-null  int64  \n",
            " 12  phone          21160 non-null  int64  \n",
            " 13  email          21160 non-null  int64  \n",
            " 14  occyp_type     21160 non-null  int64  \n",
            " 15  family_size    21160 non-null  float64\n",
            " 16  begin_month    21160 non-null  float64\n",
            " 17  Age            21160 non-null  int64  \n",
            " 18  birth_mon      21160 non-null  int64  \n",
            " 19  birth_week     21160 non-null  int64  \n",
            " 20  work_month     21160 non-null  int64  \n",
            " 21  cred_mon       21160 non-null  float64\n",
            " 22  cred_day       21160 non-null  float64\n",
            " 23  older          21160 non-null  float64\n",
            " 24  income_per     21160 non-null  float64\n",
            "dtypes: float64(7), int64(18)\n",
            "memory usage: 4.2 MB\n"
          ],
          "name": "stdout"
        }
      ]
    },
    {
      "cell_type": "code",
      "metadata": {
        "colab": {
          "base_uri": "https://localhost:8080/"
        },
        "id": "VuRH1mr7e3Iy",
        "outputId": "89aefcca-c503-4710-9722-efd0f8263cec"
      },
      "source": [
        "!pip install optuna   #optuna설치"
      ],
      "execution_count": 115,
      "outputs": [
        {
          "output_type": "stream",
          "text": [
            "Requirement already satisfied: optuna in /usr/local/lib/python3.7/dist-packages (2.7.0)\n",
            "Requirement already satisfied: sqlalchemy>=1.1.0 in /usr/local/lib/python3.7/dist-packages (from optuna) (1.4.15)\n",
            "Requirement already satisfied: alembic in /usr/local/lib/python3.7/dist-packages (from optuna) (1.6.5)\n",
            "Requirement already satisfied: packaging>=20.0 in /usr/local/lib/python3.7/dist-packages (from optuna) (20.9)\n",
            "Requirement already satisfied: cliff in /usr/local/lib/python3.7/dist-packages (from optuna) (3.8.0)\n",
            "Requirement already satisfied: colorlog in /usr/local/lib/python3.7/dist-packages (from optuna) (5.0.1)\n",
            "Requirement already satisfied: cmaes>=0.8.2 in /usr/local/lib/python3.7/dist-packages (from optuna) (0.8.2)\n",
            "Requirement already satisfied: tqdm in /usr/local/lib/python3.7/dist-packages (from optuna) (4.41.1)\n",
            "Requirement already satisfied: scipy!=1.4.0 in /usr/local/lib/python3.7/dist-packages (from optuna) (1.4.1)\n",
            "Requirement already satisfied: numpy in /usr/local/lib/python3.7/dist-packages (from optuna) (1.19.5)\n",
            "Requirement already satisfied: importlib-metadata; python_version < \"3.8\" in /usr/local/lib/python3.7/dist-packages (from sqlalchemy>=1.1.0->optuna) (4.0.1)\n",
            "Requirement already satisfied: greenlet!=0.4.17; python_version >= \"3\" in /usr/local/lib/python3.7/dist-packages (from sqlalchemy>=1.1.0->optuna) (1.1.0)\n",
            "Requirement already satisfied: python-dateutil in /usr/local/lib/python3.7/dist-packages (from alembic->optuna) (2.8.1)\n",
            "Requirement already satisfied: Mako in /usr/local/lib/python3.7/dist-packages (from alembic->optuna) (1.1.4)\n",
            "Requirement already satisfied: python-editor>=0.3 in /usr/local/lib/python3.7/dist-packages (from alembic->optuna) (1.0.4)\n",
            "Requirement already satisfied: pyparsing>=2.0.2 in /usr/local/lib/python3.7/dist-packages (from packaging>=20.0->optuna) (2.4.7)\n",
            "Requirement already satisfied: pbr!=2.1.0,>=2.0.0 in /usr/local/lib/python3.7/dist-packages (from cliff->optuna) (5.6.0)\n",
            "Requirement already satisfied: PrettyTable>=0.7.2 in /usr/local/lib/python3.7/dist-packages (from cliff->optuna) (2.1.0)\n",
            "Requirement already satisfied: PyYAML>=3.12 in /usr/local/lib/python3.7/dist-packages (from cliff->optuna) (3.13)\n",
            "Requirement already satisfied: cmd2>=1.0.0 in /usr/local/lib/python3.7/dist-packages (from cliff->optuna) (1.5.0)\n",
            "Requirement already satisfied: stevedore>=2.0.1 in /usr/local/lib/python3.7/dist-packages (from cliff->optuna) (3.3.0)\n",
            "Requirement already satisfied: zipp>=0.5 in /usr/local/lib/python3.7/dist-packages (from importlib-metadata; python_version < \"3.8\"->sqlalchemy>=1.1.0->optuna) (3.4.1)\n",
            "Requirement already satisfied: typing-extensions>=3.6.4; python_version < \"3.8\" in /usr/local/lib/python3.7/dist-packages (from importlib-metadata; python_version < \"3.8\"->sqlalchemy>=1.1.0->optuna) (3.7.4.3)\n",
            "Requirement already satisfied: six>=1.5 in /usr/local/lib/python3.7/dist-packages (from python-dateutil->alembic->optuna) (1.15.0)\n",
            "Requirement already satisfied: MarkupSafe>=0.9.2 in /usr/local/lib/python3.7/dist-packages (from Mako->alembic->optuna) (2.0.1)\n",
            "Requirement already satisfied: wcwidth in /usr/local/lib/python3.7/dist-packages (from PrettyTable>=0.7.2->cliff->optuna) (0.2.5)\n",
            "Requirement already satisfied: colorama>=0.3.7 in /usr/local/lib/python3.7/dist-packages (from cmd2>=1.0.0->cliff->optuna) (0.4.4)\n",
            "Requirement already satisfied: attrs>=16.3.0 in /usr/local/lib/python3.7/dist-packages (from cmd2>=1.0.0->cliff->optuna) (21.2.0)\n",
            "Requirement already satisfied: pyperclip>=1.6 in /usr/local/lib/python3.7/dist-packages (from cmd2>=1.0.0->cliff->optuna) (1.8.2)\n"
          ],
          "name": "stdout"
        }
      ]
    },
    {
      "cell_type": "code",
      "metadata": {
        "id": "auJz-Vg1eQgh"
      },
      "source": [
        "import optuna\n",
        "from lightgbm import LGBMClassifier\n",
        "from optuna import Trial\n",
        "from optuna.samplers import TPESampler\n",
        "from sklearn.metrics import log_loss\n",
        "def objective(trial: Trial) -> float:\n",
        "    params= {\n",
        "        \"objective\": \"multiclass\",\n",
        "        \"metric\": \"multi_logloss\",\n",
        "        \"random_state\": 42,\n",
        "        \"verbosity\": -1,\n",
        "        \"learning_rate\":trial.suggest_categorical('learning_rate', [0.01, 0.05,0.03,0.07]),\n",
        "        \"n_estimators\": trial.suggest_categorical('n_estimators', [100,300,500,700,10000]),\n",
        "        \"reg_alpha\": trial.suggest_float(\"reg_alpha\", 1e-5, 3e-5),\n",
        "        \"reg_lambda\": trial.suggest_float(\"reg_lambda\", 1e-5, 9e-2),\n",
        "        \"max_depth\": trial.suggest_categorical('max_depth', [3,5,7]),\n",
        "        \"num_leaves\": trial.suggest_int(\"num_leaves\", 2, 256),\n",
        "        \"colsample_bytree\": trial.suggest_categorical('colsample_bytree', [0.4,0.5,0.7,1.0]),\n",
        "        \"subsample\": trial.suggest_categorical('subsample', [0.4,0.6,0.8,0.1]),\n",
        "        \"subsample_freq\": trial.suggest_int(\"subsample_freq\", 1, 10),\n",
        "        \"min_child_samples\": trial.suggest_int(\"min_child_samples\", 5, 100),\n",
        "        \"max_bin\": trial.suggest_int(\"max_bin\", 200, 500),\n",
        "    }\n",
        "    \n",
        "    model =  LGBMClassifier(**params)\n",
        "    model.fit(X_train,y_train,eval_set=[(X_train, y_train), (X_valid, y_valid)],early_stopping_rounds=300,verbose=100)\n",
        "\n",
        "    lgb_pred = model.predict_proba(X_valid)\n",
        "    log_score = log_loss(y_valid, lgb_pred)\n",
        "    \n",
        "    return log_score"
      ],
      "execution_count": 116,
      "outputs": []
    },
    {
      "cell_type": "code",
      "metadata": {
        "colab": {
          "base_uri": "https://localhost:8080/"
        },
        "id": "GOzyfCiteROA",
        "outputId": "e797d8d1-c98f-41cf-dc3c-a0be2ea475bf"
      },
      "source": [
        "sampler = TPESampler(seed=42)\n",
        "study = optuna.create_study(\n",
        "    study_name=\"lgbm_parameter_opt\",\n",
        "    direction=\"minimize\",\n",
        "    sampler=sampler,\n",
        ")\n",
        "study.optimize(objective, n_trials=10)\n",
        "print(\"Best Score:\", study.best_value)\n",
        "print(\"Best trial:\", study.best_trial.params)"
      ],
      "execution_count": 117,
      "outputs": [
        {
          "output_type": "stream",
          "text": [
            "\u001b[32m[I 2021-06-02 07:56:45,604]\u001b[0m A new study created in memory with name: lgbm_parameter_opt\u001b[0m\n"
          ],
          "name": "stderr"
        },
        {
          "output_type": "stream",
          "text": [
            "Training until validation scores don't improve for 300 rounds.\n",
            "[100]\ttraining's multi_logloss: 0.799383\tvalid_1's multi_logloss: 0.792116\n",
            "[200]\ttraining's multi_logloss: 0.784926\tvalid_1's multi_logloss: 0.78424\n",
            "[300]\ttraining's multi_logloss: 0.77382\tvalid_1's multi_logloss: 0.778956\n",
            "[400]\ttraining's multi_logloss: 0.763972\tvalid_1's multi_logloss: 0.775809\n",
            "[500]\ttraining's multi_logloss: 0.755197\tvalid_1's multi_logloss: 0.773169\n",
            "[600]\ttraining's multi_logloss: 0.746499\tvalid_1's multi_logloss: 0.770598\n",
            "[700]\ttraining's multi_logloss: 0.739344\tvalid_1's multi_logloss: 0.768713\n",
            "Did not meet early stopping. Best iteration is:\n",
            "[700]\ttraining's multi_logloss: 0.739344\tvalid_1's multi_logloss: 0.768713\n"
          ],
          "name": "stdout"
        },
        {
          "output_type": "stream",
          "text": [
            "\u001b[32m[I 2021-06-02 07:56:53,298]\u001b[0m Trial 0 finished with value: 0.7687128098005398 and parameters: {'learning_rate': 0.05, 'n_estimators': 700, 'reg_alpha': 2.416145155592091e-05, 'reg_lambda': 0.0018623986416792622, 'max_depth': 3, 'num_leaves': 48, 'colsample_bytree': 0.7, 'subsample': 0.6, 'subsample_freq': 4, 'min_child_samples': 48, 'max_bin': 436}. Best is trial 0 with value: 0.7687128098005398.\u001b[0m\n"
          ],
          "name": "stderr"
        },
        {
          "output_type": "stream",
          "text": [
            "Training until validation scores don't improve for 300 rounds.\n",
            "[100]\ttraining's multi_logloss: 0.797654\tvalid_1's multi_logloss: 0.793897\n",
            "[200]\ttraining's multi_logloss: 0.775612\tvalid_1's multi_logloss: 0.78238\n",
            "[300]\ttraining's multi_logloss: 0.760389\tvalid_1's multi_logloss: 0.77521\n",
            "[400]\ttraining's multi_logloss: 0.74669\tvalid_1's multi_logloss: 0.771159\n",
            "[500]\ttraining's multi_logloss: 0.734857\tvalid_1's multi_logloss: 0.766875\n",
            "[600]\ttraining's multi_logloss: 0.724182\tvalid_1's multi_logloss: 0.763558\n",
            "[700]\ttraining's multi_logloss: 0.713919\tvalid_1's multi_logloss: 0.760888\n",
            "[800]\ttraining's multi_logloss: 0.704143\tvalid_1's multi_logloss: 0.757706\n",
            "[900]\ttraining's multi_logloss: 0.695068\tvalid_1's multi_logloss: 0.755371\n",
            "[1000]\ttraining's multi_logloss: 0.686838\tvalid_1's multi_logloss: 0.753327\n",
            "[1100]\ttraining's multi_logloss: 0.679021\tvalid_1's multi_logloss: 0.75094\n",
            "[1200]\ttraining's multi_logloss: 0.671532\tvalid_1's multi_logloss: 0.750079\n",
            "[1300]\ttraining's multi_logloss: 0.664054\tvalid_1's multi_logloss: 0.74819\n",
            "[1400]\ttraining's multi_logloss: 0.656957\tvalid_1's multi_logloss: 0.746536\n",
            "[1500]\ttraining's multi_logloss: 0.650093\tvalid_1's multi_logloss: 0.745079\n",
            "[1600]\ttraining's multi_logloss: 0.64407\tvalid_1's multi_logloss: 0.743635\n",
            "[1700]\ttraining's multi_logloss: 0.638007\tvalid_1's multi_logloss: 0.742901\n",
            "[1800]\ttraining's multi_logloss: 0.632345\tvalid_1's multi_logloss: 0.742604\n",
            "[1900]\ttraining's multi_logloss: 0.626285\tvalid_1's multi_logloss: 0.7422\n",
            "[2000]\ttraining's multi_logloss: 0.620472\tvalid_1's multi_logloss: 0.741145\n",
            "[2100]\ttraining's multi_logloss: 0.615158\tvalid_1's multi_logloss: 0.740445\n",
            "[2200]\ttraining's multi_logloss: 0.609812\tvalid_1's multi_logloss: 0.739826\n",
            "[2300]\ttraining's multi_logloss: 0.604857\tvalid_1's multi_logloss: 0.739931\n",
            "[2400]\ttraining's multi_logloss: 0.600007\tvalid_1's multi_logloss: 0.739363\n",
            "[2500]\ttraining's multi_logloss: 0.595254\tvalid_1's multi_logloss: 0.738933\n",
            "[2600]\ttraining's multi_logloss: 0.590572\tvalid_1's multi_logloss: 0.737762\n",
            "[2700]\ttraining's multi_logloss: 0.585684\tvalid_1's multi_logloss: 0.736981\n",
            "[2800]\ttraining's multi_logloss: 0.581238\tvalid_1's multi_logloss: 0.736795\n",
            "[2900]\ttraining's multi_logloss: 0.576915\tvalid_1's multi_logloss: 0.735944\n",
            "[3000]\ttraining's multi_logloss: 0.572243\tvalid_1's multi_logloss: 0.735153\n",
            "[3100]\ttraining's multi_logloss: 0.568102\tvalid_1's multi_logloss: 0.73518\n",
            "[3200]\ttraining's multi_logloss: 0.56403\tvalid_1's multi_logloss: 0.734838\n",
            "[3300]\ttraining's multi_logloss: 0.560187\tvalid_1's multi_logloss: 0.7351\n",
            "[3400]\ttraining's multi_logloss: 0.556216\tvalid_1's multi_logloss: 0.735035\n",
            "[3500]\ttraining's multi_logloss: 0.551899\tvalid_1's multi_logloss: 0.735411\n",
            "Early stopping, best iteration is:\n",
            "[3258]\ttraining's multi_logloss: 0.561809\tvalid_1's multi_logloss: 0.734519\n"
          ],
          "name": "stdout"
        },
        {
          "output_type": "stream",
          "text": [
            "\u001b[32m[I 2021-06-02 07:57:40,936]\u001b[0m Trial 1 finished with value: 0.7345192489181649 and parameters: {'learning_rate': 0.03, 'n_estimators': 10000, 'reg_alpha': 2.6167946962329225e-05, 'reg_lambda': 0.027422193087911627, 'max_depth': 5, 'num_leaves': 33, 'colsample_bytree': 0.7, 'subsample': 0.4, 'subsample_freq': 2, 'min_child_samples': 98, 'max_bin': 433}. Best is trial 1 with value: 0.7345192489181649.\u001b[0m\n"
          ],
          "name": "stderr"
        },
        {
          "output_type": "stream",
          "text": [
            "Training until validation scores don't improve for 300 rounds.\n",
            "[100]\ttraining's multi_logloss: 0.820612\tvalid_1's multi_logloss: 0.815145\n",
            "[200]\ttraining's multi_logloss: 0.792124\tvalid_1's multi_logloss: 0.79505\n",
            "[300]\ttraining's multi_logloss: 0.772981\tvalid_1's multi_logloss: 0.783721\n",
            "[400]\ttraining's multi_logloss: 0.757873\tvalid_1's multi_logloss: 0.775633\n",
            "[500]\ttraining's multi_logloss: 0.746207\tvalid_1's multi_logloss: 0.770573\n",
            "[600]\ttraining's multi_logloss: 0.73556\tvalid_1's multi_logloss: 0.766485\n",
            "[700]\ttraining's multi_logloss: 0.726704\tvalid_1's multi_logloss: 0.763272\n",
            "[800]\ttraining's multi_logloss: 0.718208\tvalid_1's multi_logloss: 0.760211\n",
            "[900]\ttraining's multi_logloss: 0.710094\tvalid_1's multi_logloss: 0.757415\n",
            "[1000]\ttraining's multi_logloss: 0.702385\tvalid_1's multi_logloss: 0.755092\n",
            "[1100]\ttraining's multi_logloss: 0.695462\tvalid_1's multi_logloss: 0.752768\n",
            "[1200]\ttraining's multi_logloss: 0.688248\tvalid_1's multi_logloss: 0.750948\n",
            "[1300]\ttraining's multi_logloss: 0.681688\tvalid_1's multi_logloss: 0.748964\n",
            "[1400]\ttraining's multi_logloss: 0.675154\tvalid_1's multi_logloss: 0.747169\n",
            "[1500]\ttraining's multi_logloss: 0.66844\tvalid_1's multi_logloss: 0.745447\n",
            "[1600]\ttraining's multi_logloss: 0.662422\tvalid_1's multi_logloss: 0.743592\n",
            "[1700]\ttraining's multi_logloss: 0.656071\tvalid_1's multi_logloss: 0.742176\n",
            "[1800]\ttraining's multi_logloss: 0.649738\tvalid_1's multi_logloss: 0.740393\n",
            "[1900]\ttraining's multi_logloss: 0.643721\tvalid_1's multi_logloss: 0.73906\n",
            "[2000]\ttraining's multi_logloss: 0.638275\tvalid_1's multi_logloss: 0.737632\n",
            "[2100]\ttraining's multi_logloss: 0.632982\tvalid_1's multi_logloss: 0.736587\n",
            "[2200]\ttraining's multi_logloss: 0.62704\tvalid_1's multi_logloss: 0.735569\n",
            "[2300]\ttraining's multi_logloss: 0.622407\tvalid_1's multi_logloss: 0.734869\n",
            "[2400]\ttraining's multi_logloss: 0.61753\tvalid_1's multi_logloss: 0.733978\n",
            "[2500]\ttraining's multi_logloss: 0.612434\tvalid_1's multi_logloss: 0.73306\n",
            "[2600]\ttraining's multi_logloss: 0.607807\tvalid_1's multi_logloss: 0.732326\n",
            "[2700]\ttraining's multi_logloss: 0.602901\tvalid_1's multi_logloss: 0.731354\n",
            "[2800]\ttraining's multi_logloss: 0.597793\tvalid_1's multi_logloss: 0.730529\n",
            "[2900]\ttraining's multi_logloss: 0.593272\tvalid_1's multi_logloss: 0.729885\n",
            "[3000]\ttraining's multi_logloss: 0.589023\tvalid_1's multi_logloss: 0.729068\n",
            "[3100]\ttraining's multi_logloss: 0.584892\tvalid_1's multi_logloss: 0.728483\n",
            "[3200]\ttraining's multi_logloss: 0.580862\tvalid_1's multi_logloss: 0.727849\n",
            "[3300]\ttraining's multi_logloss: 0.576839\tvalid_1's multi_logloss: 0.72743\n",
            "[3400]\ttraining's multi_logloss: 0.572777\tvalid_1's multi_logloss: 0.727044\n",
            "[3500]\ttraining's multi_logloss: 0.56844\tvalid_1's multi_logloss: 0.726406\n",
            "[3600]\ttraining's multi_logloss: 0.564561\tvalid_1's multi_logloss: 0.725834\n",
            "[3700]\ttraining's multi_logloss: 0.560632\tvalid_1's multi_logloss: 0.72564\n",
            "[3800]\ttraining's multi_logloss: 0.556728\tvalid_1's multi_logloss: 0.725322\n",
            "[3900]\ttraining's multi_logloss: 0.553223\tvalid_1's multi_logloss: 0.724894\n",
            "[4000]\ttraining's multi_logloss: 0.549579\tvalid_1's multi_logloss: 0.724353\n",
            "[4100]\ttraining's multi_logloss: 0.546049\tvalid_1's multi_logloss: 0.72414\n",
            "[4200]\ttraining's multi_logloss: 0.542171\tvalid_1's multi_logloss: 0.723698\n",
            "[4300]\ttraining's multi_logloss: 0.538613\tvalid_1's multi_logloss: 0.723573\n",
            "[4400]\ttraining's multi_logloss: 0.534847\tvalid_1's multi_logloss: 0.723214\n",
            "[4500]\ttraining's multi_logloss: 0.531577\tvalid_1's multi_logloss: 0.722971\n",
            "[4600]\ttraining's multi_logloss: 0.528083\tvalid_1's multi_logloss: 0.722915\n",
            "[4700]\ttraining's multi_logloss: 0.524671\tvalid_1's multi_logloss: 0.722722\n",
            "[4800]\ttraining's multi_logloss: 0.521029\tvalid_1's multi_logloss: 0.722356\n",
            "[4900]\ttraining's multi_logloss: 0.518003\tvalid_1's multi_logloss: 0.72231\n",
            "[5000]\ttraining's multi_logloss: 0.514823\tvalid_1's multi_logloss: 0.721975\n",
            "[5100]\ttraining's multi_logloss: 0.511759\tvalid_1's multi_logloss: 0.721845\n",
            "[5200]\ttraining's multi_logloss: 0.508369\tvalid_1's multi_logloss: 0.721681\n",
            "[5300]\ttraining's multi_logloss: 0.505116\tvalid_1's multi_logloss: 0.721487\n",
            "[5400]\ttraining's multi_logloss: 0.502179\tvalid_1's multi_logloss: 0.721412\n",
            "[5500]\ttraining's multi_logloss: 0.49893\tvalid_1's multi_logloss: 0.7214\n",
            "[5600]\ttraining's multi_logloss: 0.495642\tvalid_1's multi_logloss: 0.721525\n",
            "[5700]\ttraining's multi_logloss: 0.492821\tvalid_1's multi_logloss: 0.721605\n",
            "[5800]\ttraining's multi_logloss: 0.489815\tvalid_1's multi_logloss: 0.721546\n",
            "Early stopping, best iteration is:\n",
            "[5556]\ttraining's multi_logloss: 0.496988\tvalid_1's multi_logloss: 0.721377\n"
          ],
          "name": "stdout"
        },
        {
          "output_type": "stream",
          "text": [
            "\u001b[32m[I 2021-06-02 07:59:32,912]\u001b[0m Trial 2 finished with value: 0.7213767871771046 and parameters: {'learning_rate': 0.01, 'n_estimators': 10000, 'reg_alpha': 1.542698063547792e-05, 'reg_lambda': 0.07458808844858211, 'max_depth': 7, 'num_leaves': 37, 'colsample_bytree': 0.7, 'subsample': 0.8, 'subsample_freq': 8, 'min_child_samples': 79, 'max_bin': 222}. Best is trial 2 with value: 0.7213767871771046.\u001b[0m\n"
          ],
          "name": "stderr"
        },
        {
          "output_type": "stream",
          "text": [
            "Training until validation scores don't improve for 300 rounds.\n",
            "[100]\ttraining's multi_logloss: 0.774295\tvalid_1's multi_logloss: 0.785307\n",
            "[200]\ttraining's multi_logloss: 0.731593\tvalid_1's multi_logloss: 0.766902\n",
            "[300]\ttraining's multi_logloss: 0.698997\tvalid_1's multi_logloss: 0.75626\n",
            "[400]\ttraining's multi_logloss: 0.671268\tvalid_1's multi_logloss: 0.747857\n",
            "[500]\ttraining's multi_logloss: 0.648241\tvalid_1's multi_logloss: 0.743129\n",
            "[600]\ttraining's multi_logloss: 0.629298\tvalid_1's multi_logloss: 0.739169\n",
            "[700]\ttraining's multi_logloss: 0.611043\tvalid_1's multi_logloss: 0.735801\n",
            "[800]\ttraining's multi_logloss: 0.593071\tvalid_1's multi_logloss: 0.732485\n",
            "[900]\ttraining's multi_logloss: 0.57691\tvalid_1's multi_logloss: 0.730245\n",
            "[1000]\ttraining's multi_logloss: 0.563256\tvalid_1's multi_logloss: 0.728692\n",
            "[1100]\ttraining's multi_logloss: 0.549438\tvalid_1's multi_logloss: 0.726558\n",
            "[1200]\ttraining's multi_logloss: 0.53488\tvalid_1's multi_logloss: 0.725192\n",
            "[1300]\ttraining's multi_logloss: 0.5224\tvalid_1's multi_logloss: 0.725005\n",
            "[1400]\ttraining's multi_logloss: 0.510901\tvalid_1's multi_logloss: 0.725556\n",
            "[1500]\ttraining's multi_logloss: 0.499413\tvalid_1's multi_logloss: 0.724806\n",
            "[1600]\ttraining's multi_logloss: 0.488465\tvalid_1's multi_logloss: 0.724905\n",
            "[1700]\ttraining's multi_logloss: 0.477509\tvalid_1's multi_logloss: 0.725294\n",
            "[1800]\ttraining's multi_logloss: 0.466787\tvalid_1's multi_logloss: 0.72536\n",
            "Early stopping, best iteration is:\n",
            "[1578]\ttraining's multi_logloss: 0.490717\tvalid_1's multi_logloss: 0.724329\n"
          ],
          "name": "stdout"
        },
        {
          "output_type": "stream",
          "text": [
            "\u001b[32m[I 2021-06-02 08:00:04,008]\u001b[0m Trial 3 finished with value: 0.7243288333975973 and parameters: {'learning_rate': 0.03, 'n_estimators': 10000, 'reg_alpha': 2.2751149427104262e-05, 'reg_lambda': 0.07985027470444363, 'max_depth': 7, 'num_leaves': 196, 'colsample_bytree': 0.5, 'subsample': 0.4, 'subsample_freq': 7, 'min_child_samples': 35, 'max_bin': 353}. Best is trial 2 with value: 0.7213767871771046.\u001b[0m\n"
          ],
          "name": "stderr"
        },
        {
          "output_type": "stream",
          "text": [
            "Training until validation scores don't improve for 300 rounds.\n",
            "[100]\ttraining's multi_logloss: 0.836186\tvalid_1's multi_logloss: 0.823213\n",
            "[200]\ttraining's multi_logloss: 0.819215\tvalid_1's multi_logloss: 0.807607\n",
            "[300]\ttraining's multi_logloss: 0.80991\tvalid_1's multi_logloss: 0.800563\n",
            "[400]\ttraining's multi_logloss: 0.803508\tvalid_1's multi_logloss: 0.795245\n",
            "[500]\ttraining's multi_logloss: 0.799016\tvalid_1's multi_logloss: 0.791961\n",
            "[600]\ttraining's multi_logloss: 0.796138\tvalid_1's multi_logloss: 0.79026\n",
            "[700]\ttraining's multi_logloss: 0.792748\tvalid_1's multi_logloss: 0.788953\n",
            "[800]\ttraining's multi_logloss: 0.790343\tvalid_1's multi_logloss: 0.788763\n",
            "[900]\ttraining's multi_logloss: 0.78801\tvalid_1's multi_logloss: 0.787777\n",
            "[1000]\ttraining's multi_logloss: 0.785393\tvalid_1's multi_logloss: 0.78646\n",
            "[1100]\ttraining's multi_logloss: 0.783267\tvalid_1's multi_logloss: 0.785373\n",
            "[1200]\ttraining's multi_logloss: 0.780972\tvalid_1's multi_logloss: 0.784453\n",
            "[1300]\ttraining's multi_logloss: 0.778868\tvalid_1's multi_logloss: 0.783448\n",
            "[1400]\ttraining's multi_logloss: 0.776741\tvalid_1's multi_logloss: 0.782828\n",
            "[1500]\ttraining's multi_logloss: 0.774732\tvalid_1's multi_logloss: 0.781636\n",
            "[1600]\ttraining's multi_logloss: 0.772986\tvalid_1's multi_logloss: 0.781331\n",
            "[1700]\ttraining's multi_logloss: 0.771151\tvalid_1's multi_logloss: 0.780158\n",
            "[1800]\ttraining's multi_logloss: 0.769083\tvalid_1's multi_logloss: 0.780079\n",
            "[1900]\ttraining's multi_logloss: 0.767133\tvalid_1's multi_logloss: 0.779624\n",
            "[2000]\ttraining's multi_logloss: 0.765542\tvalid_1's multi_logloss: 0.779269\n",
            "[2100]\ttraining's multi_logloss: 0.76391\tvalid_1's multi_logloss: 0.778997\n",
            "[2200]\ttraining's multi_logloss: 0.762307\tvalid_1's multi_logloss: 0.77864\n",
            "[2300]\ttraining's multi_logloss: 0.760431\tvalid_1's multi_logloss: 0.778604\n",
            "[2400]\ttraining's multi_logloss: 0.758372\tvalid_1's multi_logloss: 0.777937\n",
            "[2500]\ttraining's multi_logloss: 0.757217\tvalid_1's multi_logloss: 0.777125\n",
            "[2600]\ttraining's multi_logloss: 0.755558\tvalid_1's multi_logloss: 0.776521\n",
            "[2700]\ttraining's multi_logloss: 0.753611\tvalid_1's multi_logloss: 0.77547\n",
            "[2800]\ttraining's multi_logloss: 0.752234\tvalid_1's multi_logloss: 0.776267\n",
            "[2900]\ttraining's multi_logloss: 0.750436\tvalid_1's multi_logloss: 0.775221\n",
            "[3000]\ttraining's multi_logloss: 0.748949\tvalid_1's multi_logloss: 0.774557\n",
            "[3100]\ttraining's multi_logloss: 0.747915\tvalid_1's multi_logloss: 0.774147\n",
            "[3200]\ttraining's multi_logloss: 0.746635\tvalid_1's multi_logloss: 0.773345\n",
            "[3300]\ttraining's multi_logloss: 0.745318\tvalid_1's multi_logloss: 0.772497\n",
            "[3400]\ttraining's multi_logloss: 0.74382\tvalid_1's multi_logloss: 0.771684\n",
            "[3500]\ttraining's multi_logloss: 0.742462\tvalid_1's multi_logloss: 0.772336\n",
            "[3600]\ttraining's multi_logloss: 0.741081\tvalid_1's multi_logloss: 0.772416\n",
            "Early stopping, best iteration is:\n",
            "[3383]\ttraining's multi_logloss: 0.744063\tvalid_1's multi_logloss: 0.771621\n"
          ],
          "name": "stdout"
        },
        {
          "output_type": "stream",
          "text": [
            "\u001b[32m[I 2021-06-02 08:00:35,749]\u001b[0m Trial 4 finished with value: 0.7716209114301703 and parameters: {'learning_rate': 0.01, 'n_estimators': 10000, 'reg_alpha': 2.616240759128834e-05, 'reg_lambda': 0.05701000404837301, 'max_depth': 3, 'num_leaves': 229, 'colsample_bytree': 0.7, 'subsample': 0.1, 'subsample_freq': 9, 'min_child_samples': 5, 'max_bin': 353}. Best is trial 2 with value: 0.7213767871771046.\u001b[0m\n"
          ],
          "name": "stderr"
        },
        {
          "output_type": "stream",
          "text": [
            "Training until validation scores don't improve for 300 rounds.\n"
          ],
          "name": "stdout"
        },
        {
          "output_type": "stream",
          "text": [
            "\u001b[32m[I 2021-06-02 08:00:37,154]\u001b[0m Trial 5 finished with value: 0.8250847128241949 and parameters: {'learning_rate': 0.01, 'n_estimators': 100, 'reg_alpha': 2.9435641654419212e-05, 'reg_lambda': 0.08662063207184059, 'max_depth': 5, 'num_leaves': 74, 'colsample_bytree': 0.5, 'subsample': 0.6, 'subsample_freq': 5, 'min_child_samples': 99, 'max_bin': 272}. Best is trial 2 with value: 0.7213767871771046.\u001b[0m\n"
          ],
          "name": "stderr"
        },
        {
          "output_type": "stream",
          "text": [
            "[100]\ttraining's multi_logloss: 0.835595\tvalid_1's multi_logloss: 0.825085\n",
            "Did not meet early stopping. Best iteration is:\n",
            "[100]\ttraining's multi_logloss: 0.835595\tvalid_1's multi_logloss: 0.825085\n",
            "Training until validation scores don't improve for 300 rounds.\n",
            "[100]\ttraining's multi_logloss: 0.768915\tvalid_1's multi_logloss: 0.78727\n",
            "[200]\ttraining's multi_logloss: 0.737614\tvalid_1's multi_logloss: 0.778718\n",
            "[300]\ttraining's multi_logloss: 0.711743\tvalid_1's multi_logloss: 0.777221\n",
            "[400]\ttraining's multi_logloss: 0.690223\tvalid_1's multi_logloss: 0.776962\n",
            "[500]\ttraining's multi_logloss: 0.672138\tvalid_1's multi_logloss: 0.774122\n",
            "Did not meet early stopping. Best iteration is:\n",
            "[500]\ttraining's multi_logloss: 0.672138\tvalid_1's multi_logloss: 0.774122\n"
          ],
          "name": "stdout"
        },
        {
          "output_type": "stream",
          "text": [
            "\u001b[32m[I 2021-06-02 08:00:44,408]\u001b[0m Trial 6 finished with value: 0.7741218793901269 and parameters: {'learning_rate': 0.05, 'n_estimators': 500, 'reg_alpha': 2.670604991178476e-05, 'reg_lambda': 0.028876998046806508, 'max_depth': 7, 'num_leaves': 174, 'colsample_bytree': 1.0, 'subsample': 0.1, 'subsample_freq': 2, 'min_child_samples': 37, 'max_bin': 234}. Best is trial 2 with value: 0.7213767871771046.\u001b[0m\n"
          ],
          "name": "stderr"
        },
        {
          "output_type": "stream",
          "text": [
            "Training until validation scores don't improve for 300 rounds.\n"
          ],
          "name": "stdout"
        },
        {
          "output_type": "stream",
          "text": [
            "\u001b[32m[I 2021-06-02 08:00:45,412]\u001b[0m Trial 7 finished with value: 0.8292897828447852 and parameters: {'learning_rate': 0.01, 'n_estimators': 100, 'reg_alpha': 2.7944315159066537e-05, 'reg_lambda': 0.0810386209641281, 'max_depth': 3, 'num_leaves': 187, 'colsample_bytree': 0.4, 'subsample': 0.8, 'subsample_freq': 1, 'min_child_samples': 14, 'max_bin': 399}. Best is trial 2 with value: 0.7213767871771046.\u001b[0m\n"
          ],
          "name": "stderr"
        },
        {
          "output_type": "stream",
          "text": [
            "[100]\ttraining's multi_logloss: 0.842553\tvalid_1's multi_logloss: 0.82929\n",
            "Did not meet early stopping. Best iteration is:\n",
            "[100]\ttraining's multi_logloss: 0.842553\tvalid_1's multi_logloss: 0.82929\n",
            "Training until validation scores don't improve for 300 rounds.\n",
            "[100]\ttraining's multi_logloss: 0.793503\tvalid_1's multi_logloss: 0.787959\n",
            "[200]\ttraining's multi_logloss: 0.776967\tvalid_1's multi_logloss: 0.781122\n",
            "[300]\ttraining's multi_logloss: 0.76453\tvalid_1's multi_logloss: 0.776186\n",
            "[400]\ttraining's multi_logloss: 0.754087\tvalid_1's multi_logloss: 0.772732\n",
            "[500]\ttraining's multi_logloss: 0.744311\tvalid_1's multi_logloss: 0.769758\n",
            "Did not meet early stopping. Best iteration is:\n",
            "[500]\ttraining's multi_logloss: 0.744311\tvalid_1's multi_logloss: 0.769758\n"
          ],
          "name": "stdout"
        },
        {
          "output_type": "stream",
          "text": [
            "\u001b[32m[I 2021-06-02 08:00:51,024]\u001b[0m Trial 8 finished with value: 0.7697576969799798 and parameters: {'learning_rate': 0.07, 'n_estimators': 500, 'reg_alpha': 2.4929828102360482e-05, 'reg_lambda': 0.05847046458525885, 'max_depth': 3, 'num_leaves': 25, 'colsample_bytree': 1.0, 'subsample': 0.6, 'subsample_freq': 6, 'min_child_samples': 60, 'max_bin': 348}. Best is trial 2 with value: 0.7213767871771046.\u001b[0m\n"
          ],
          "name": "stderr"
        },
        {
          "output_type": "stream",
          "text": [
            "Training until validation scores don't improve for 300 rounds.\n",
            "[100]\ttraining's multi_logloss: 0.786624\tvalid_1's multi_logloss: 0.794558\n",
            "[200]\ttraining's multi_logloss: 0.764232\tvalid_1's multi_logloss: 0.784153\n",
            "[300]\ttraining's multi_logloss: 0.745409\tvalid_1's multi_logloss: 0.779167\n",
            "[400]\ttraining's multi_logloss: 0.731511\tvalid_1's multi_logloss: 0.777659\n",
            "[500]\ttraining's multi_logloss: 0.716934\tvalid_1's multi_logloss: 0.772155\n",
            "[600]\ttraining's multi_logloss: 0.705719\tvalid_1's multi_logloss: 0.768168\n",
            "[700]\ttraining's multi_logloss: 0.6941\tvalid_1's multi_logloss: 0.76598\n",
            "Did not meet early stopping. Best iteration is:\n",
            "[700]\ttraining's multi_logloss: 0.6941\tvalid_1's multi_logloss: 0.76598\n"
          ],
          "name": "stdout"
        },
        {
          "output_type": "stream",
          "text": [
            "\u001b[32m[I 2021-06-02 08:00:59,477]\u001b[0m Trial 9 finished with value: 0.7659796642105589 and parameters: {'learning_rate': 0.05, 'n_estimators': 700, 'reg_alpha': 1.7403174005108888e-05, 'reg_lambda': 0.00140094092143278, 'max_depth': 7, 'num_leaves': 247, 'colsample_bytree': 0.4, 'subsample': 0.1, 'subsample_freq': 7, 'min_child_samples': 59, 'max_bin': 229}. Best is trial 2 with value: 0.7213767871771046.\u001b[0m\n"
          ],
          "name": "stderr"
        },
        {
          "output_type": "stream",
          "text": [
            "Best Score: 0.7213767871771046\n",
            "Best trial: {'learning_rate': 0.01, 'n_estimators': 10000, 'reg_alpha': 1.542698063547792e-05, 'reg_lambda': 0.07458808844858211, 'max_depth': 7, 'num_leaves': 37, 'colsample_bytree': 0.7, 'subsample': 0.8, 'subsample_freq': 8, 'min_child_samples': 79, 'max_bin': 222}\n"
          ],
          "name": "stdout"
        }
      ]
    },
    {
      "cell_type": "code",
      "metadata": {
        "colab": {
          "base_uri": "https://localhost:8080/"
        },
        "id": "BBq_vSUSeVJ5",
        "outputId": "7748b40c-c5fc-4692-88f4-871f7112e1bf"
      },
      "source": [
        "model = LGBMClassifier(**study.best_params)\n",
        "model.fit(X_train,y_train,eval_set=[(X_train, y_train), (X_valid, y_valid)],early_stopping_rounds=300,verbose=100)\n",
        "submit=pd.read_csv(filepath+'sample_submission.csv')\n",
        "submit.iloc[:,1:]=0\n",
        "submit.iloc[:,1:]=model.predict_proba(test)\n",
        "submit.to_csv(filepath+'lgbm_submit.csv', index=False)"
      ],
      "execution_count": 118,
      "outputs": [
        {
          "output_type": "stream",
          "text": [
            "Training until validation scores don't improve for 300 rounds.\n",
            "[100]\ttraining's multi_logloss: 0.822694\tvalid_1's multi_logloss: 0.817558\n",
            "[200]\ttraining's multi_logloss: 0.793679\tvalid_1's multi_logloss: 0.796202\n",
            "[300]\ttraining's multi_logloss: 0.77525\tvalid_1's multi_logloss: 0.78472\n",
            "[400]\ttraining's multi_logloss: 0.76105\tvalid_1's multi_logloss: 0.776815\n",
            "[500]\ttraining's multi_logloss: 0.748426\tvalid_1's multi_logloss: 0.770698\n",
            "[600]\ttraining's multi_logloss: 0.738213\tvalid_1's multi_logloss: 0.766498\n",
            "[700]\ttraining's multi_logloss: 0.728714\tvalid_1's multi_logloss: 0.763296\n",
            "[800]\ttraining's multi_logloss: 0.720698\tvalid_1's multi_logloss: 0.760569\n",
            "[900]\ttraining's multi_logloss: 0.712012\tvalid_1's multi_logloss: 0.7576\n",
            "[1000]\ttraining's multi_logloss: 0.704521\tvalid_1's multi_logloss: 0.755384\n",
            "[1100]\ttraining's multi_logloss: 0.697253\tvalid_1's multi_logloss: 0.752775\n",
            "[1200]\ttraining's multi_logloss: 0.690105\tvalid_1's multi_logloss: 0.750584\n",
            "[1300]\ttraining's multi_logloss: 0.683505\tvalid_1's multi_logloss: 0.748743\n",
            "[1400]\ttraining's multi_logloss: 0.676828\tvalid_1's multi_logloss: 0.746825\n",
            "[1500]\ttraining's multi_logloss: 0.669816\tvalid_1's multi_logloss: 0.744774\n",
            "[1600]\ttraining's multi_logloss: 0.663688\tvalid_1's multi_logloss: 0.743476\n",
            "[1700]\ttraining's multi_logloss: 0.657128\tvalid_1's multi_logloss: 0.741785\n",
            "[1800]\ttraining's multi_logloss: 0.651217\tvalid_1's multi_logloss: 0.740142\n",
            "[1900]\ttraining's multi_logloss: 0.646241\tvalid_1's multi_logloss: 0.739017\n",
            "[2000]\ttraining's multi_logloss: 0.640389\tvalid_1's multi_logloss: 0.737621\n",
            "[2100]\ttraining's multi_logloss: 0.634558\tvalid_1's multi_logloss: 0.736669\n",
            "[2200]\ttraining's multi_logloss: 0.629165\tvalid_1's multi_logloss: 0.735735\n",
            "[2300]\ttraining's multi_logloss: 0.623809\tvalid_1's multi_logloss: 0.734679\n",
            "[2400]\ttraining's multi_logloss: 0.6187\tvalid_1's multi_logloss: 0.733453\n",
            "[2500]\ttraining's multi_logloss: 0.613831\tvalid_1's multi_logloss: 0.732687\n",
            "[2600]\ttraining's multi_logloss: 0.608882\tvalid_1's multi_logloss: 0.731873\n",
            "[2700]\ttraining's multi_logloss: 0.604203\tvalid_1's multi_logloss: 0.731121\n",
            "[2800]\ttraining's multi_logloss: 0.599484\tvalid_1's multi_logloss: 0.730382\n",
            "[2900]\ttraining's multi_logloss: 0.595126\tvalid_1's multi_logloss: 0.729523\n",
            "[3000]\ttraining's multi_logloss: 0.590489\tvalid_1's multi_logloss: 0.729243\n",
            "[3100]\ttraining's multi_logloss: 0.585741\tvalid_1's multi_logloss: 0.728301\n",
            "[3200]\ttraining's multi_logloss: 0.581424\tvalid_1's multi_logloss: 0.727536\n",
            "[3300]\ttraining's multi_logloss: 0.577284\tvalid_1's multi_logloss: 0.726772\n",
            "[3400]\ttraining's multi_logloss: 0.573161\tvalid_1's multi_logloss: 0.726335\n",
            "[3500]\ttraining's multi_logloss: 0.569118\tvalid_1's multi_logloss: 0.725813\n",
            "[3600]\ttraining's multi_logloss: 0.565276\tvalid_1's multi_logloss: 0.725424\n",
            "[3700]\ttraining's multi_logloss: 0.560969\tvalid_1's multi_logloss: 0.725183\n",
            "[3800]\ttraining's multi_logloss: 0.557292\tvalid_1's multi_logloss: 0.724806\n",
            "[3900]\ttraining's multi_logloss: 0.553468\tvalid_1's multi_logloss: 0.724341\n",
            "[4000]\ttraining's multi_logloss: 0.54938\tvalid_1's multi_logloss: 0.724026\n",
            "[4100]\ttraining's multi_logloss: 0.545608\tvalid_1's multi_logloss: 0.723818\n",
            "[4200]\ttraining's multi_logloss: 0.541673\tvalid_1's multi_logloss: 0.723245\n",
            "[4300]\ttraining's multi_logloss: 0.537778\tvalid_1's multi_logloss: 0.723073\n",
            "[4400]\ttraining's multi_logloss: 0.534295\tvalid_1's multi_logloss: 0.722568\n",
            "[4500]\ttraining's multi_logloss: 0.530958\tvalid_1's multi_logloss: 0.722484\n",
            "[4600]\ttraining's multi_logloss: 0.527589\tvalid_1's multi_logloss: 0.722113\n",
            "[4700]\ttraining's multi_logloss: 0.524052\tvalid_1's multi_logloss: 0.722191\n",
            "[4800]\ttraining's multi_logloss: 0.520816\tvalid_1's multi_logloss: 0.722183\n",
            "Early stopping, best iteration is:\n",
            "[4574]\ttraining's multi_logloss: 0.528446\tvalid_1's multi_logloss: 0.722021\n"
          ],
          "name": "stdout"
        }
      ]
    },
    {
      "cell_type": "code",
      "metadata": {
        "colab": {
          "base_uri": "https://localhost:8080/"
        },
        "id": "RZbowp21nOZS",
        "outputId": "ba25e674-1e4f-4bc2-be3b-8a8897d666d7"
      },
      "source": [
        "!pip install catboost"
      ],
      "execution_count": 119,
      "outputs": [
        {
          "output_type": "stream",
          "text": [
            "Requirement already satisfied: catboost in /usr/local/lib/python3.7/dist-packages (0.25.1)\n",
            "Requirement already satisfied: graphviz in /usr/local/lib/python3.7/dist-packages (from catboost) (0.10.1)\n",
            "Requirement already satisfied: pandas>=0.24.0 in /usr/local/lib/python3.7/dist-packages (from catboost) (1.1.5)\n",
            "Requirement already satisfied: plotly in /usr/local/lib/python3.7/dist-packages (from catboost) (4.4.1)\n",
            "Requirement already satisfied: numpy>=1.16.0 in /usr/local/lib/python3.7/dist-packages (from catboost) (1.19.5)\n",
            "Requirement already satisfied: matplotlib in /usr/local/lib/python3.7/dist-packages (from catboost) (3.2.2)\n",
            "Requirement already satisfied: six in /usr/local/lib/python3.7/dist-packages (from catboost) (1.15.0)\n",
            "Requirement already satisfied: scipy in /usr/local/lib/python3.7/dist-packages (from catboost) (1.4.1)\n",
            "Requirement already satisfied: python-dateutil>=2.7.3 in /usr/local/lib/python3.7/dist-packages (from pandas>=0.24.0->catboost) (2.8.1)\n",
            "Requirement already satisfied: pytz>=2017.2 in /usr/local/lib/python3.7/dist-packages (from pandas>=0.24.0->catboost) (2018.9)\n",
            "Requirement already satisfied: retrying>=1.3.3 in /usr/local/lib/python3.7/dist-packages (from plotly->catboost) (1.3.3)\n",
            "Requirement already satisfied: cycler>=0.10 in /usr/local/lib/python3.7/dist-packages (from matplotlib->catboost) (0.10.0)\n",
            "Requirement already satisfied: kiwisolver>=1.0.1 in /usr/local/lib/python3.7/dist-packages (from matplotlib->catboost) (1.3.1)\n",
            "Requirement already satisfied: pyparsing!=2.0.4,!=2.1.2,!=2.1.6,>=2.0.1 in /usr/local/lib/python3.7/dist-packages (from matplotlib->catboost) (2.4.7)\n"
          ],
          "name": "stdout"
        }
      ]
    },
    {
      "cell_type": "code",
      "metadata": {
        "colab": {
          "base_uri": "https://localhost:8080/"
        },
        "id": "ahOT4GS_t9kG",
        "outputId": "173d303d-3bcc-4b4a-d563-eedfc128c5a1"
      },
      "source": [
        "train.info()"
      ],
      "execution_count": 120,
      "outputs": [
        {
          "output_type": "stream",
          "text": [
            "<class 'pandas.core.frame.DataFrame'>\n",
            "Int64Index: 26451 entries, 0 to 26456\n",
            "Data columns (total 26 columns):\n",
            " #   Column         Non-Null Count  Dtype  \n",
            "---  ------         --------------  -----  \n",
            " 0   gender         26451 non-null  int64  \n",
            " 1   car            26451 non-null  int64  \n",
            " 2   reality        26451 non-null  int64  \n",
            " 3   child_num      26451 non-null  int64  \n",
            " 4   income_total   26451 non-null  float64\n",
            " 5   income_type    26451 non-null  int64  \n",
            " 6   edu_type       26451 non-null  int64  \n",
            " 7   family_type    26451 non-null  int64  \n",
            " 8   house_type     26451 non-null  int64  \n",
            " 9   DAYS_BIRTH     26451 non-null  int64  \n",
            " 10  DAYS_EMPLOYED  26451 non-null  int64  \n",
            " 11  work_phone     26451 non-null  int64  \n",
            " 12  phone          26451 non-null  int64  \n",
            " 13  email          26451 non-null  int64  \n",
            " 14  occyp_type     26451 non-null  int64  \n",
            " 15  family_size    26451 non-null  float64\n",
            " 16  begin_month    26451 non-null  float64\n",
            " 17  credit         26451 non-null  float64\n",
            " 18  Age            26451 non-null  int64  \n",
            " 19  birth_mon      26451 non-null  int64  \n",
            " 20  birth_week     26451 non-null  int64  \n",
            " 21  work_month     26451 non-null  int64  \n",
            " 22  cred_mon       26451 non-null  float64\n",
            " 23  cred_day       26451 non-null  float64\n",
            " 24  older          26451 non-null  float64\n",
            " 25  income_per     26451 non-null  float64\n",
            "dtypes: float64(8), int64(18)\n",
            "memory usage: 5.4 MB\n"
          ],
          "name": "stdout"
        }
      ]
    },
    {
      "cell_type": "markdown",
      "metadata": {
        "id": "pMSg58Ph2-vs"
      },
      "source": [
        "속성들 살펴보면 총수입, 성별, 차 소유, 몇일 전에 태어났는지, 몇일 전에 일을 시작했는지 등등 속성들을 보면 같은 사람으로 보이는 경우가 있다. (신용카드 발급 일만 다름)  => code로 같은 사람임을 구분"
      ]
    },
    {
      "cell_type": "code",
      "metadata": {
        "colab": {
          "base_uri": "https://localhost:8080/"
        },
        "id": "XydtJL-0r4zU",
        "outputId": "d5c054bf-7ce3-4856-c9f9-612c2d00e4c9"
      },
      "source": [
        "train['Code'] = train['gender'].astype(str)+'/'+train['car'].astype(str)+'/'+train['reality'].astype(str)+'/'+train['income_type'].astype(str)+'/'+train['edu_type'].astype(str)+'/'+train['DAYS_BIRTH'].astype(str)+'/'+train['DAYS_EMPLOYED'].astype(str)\n",
        "test['Code'] = test['gender'].astype(str)+'/'+test['car'].astype(str)+'/'+test['reality'].astype(str)+'/'+test['income_type'].astype(str)+'/'+test['edu_type'].astype(str)+'/'+test['DAYS_BIRTH'].astype(str)+'/'+test['DAYS_EMPLOYED'].astype(str)"
      ],
      "execution_count": 121,
      "outputs": [
        {
          "output_type": "stream",
          "text": [
            "/usr/local/lib/python3.7/dist-packages/ipykernel_launcher.py:1: SettingWithCopyWarning:\n",
            "\n",
            "\n",
            "A value is trying to be set on a copy of a slice from a DataFrame.\n",
            "Try using .loc[row_indexer,col_indexer] = value instead\n",
            "\n",
            "See the caveats in the documentation: https://pandas.pydata.org/pandas-docs/stable/user_guide/indexing.html#returning-a-view-versus-a-copy\n",
            "\n"
          ],
          "name": "stderr"
        }
      ]
    },
    {
      "cell_type": "code",
      "metadata": {
        "colab": {
          "base_uri": "https://localhost:8080/"
        },
        "id": "b21b_jxKeYV4",
        "outputId": "d72431ed-78a9-4c58-b656-a5b63d58115a"
      },
      "source": [
        "# 프로필 유무, 이름과 아이디가 같은가, url 유무, 비공개 유무, 프로페셔널 계정 유무, 가짜계정 유무는 범주형으로 설정\n",
        "train['gender'] = train['gender'].astype(object)\n",
        "train['car'] = train['car'].astype(object)\n",
        "train['reality'] = train['reality'].astype(object)\n",
        "train['income_type'] = train['income_type'].astype(object)\n",
        "train['edu_type'] = train['edu_type'].astype(object)\n",
        "train['family_type'] = train['family_type'].astype(object)\n",
        "train['house_type'] = train['house_type'].astype(object)\n",
        "train['work_phone'] = train['work_phone'].astype(object)\n",
        "train['phone'] = train['phone'].astype(object)\n",
        "train['email'] = train['email'].astype(object)\n",
        "train['occyp_type'] = train['occyp_type'].astype(object)\n",
        "\n",
        "test['gender'] = test['gender'].astype(object)\n",
        "test['car'] = test['car'].astype(object)\n",
        "test['reality'] = test['reality'].astype(object)\n",
        "test['income_type'] = test['income_type'].astype(object)\n",
        "test['edu_type'] = test['edu_type'].astype(object)\n",
        "test['family_type'] = test['family_type'].astype(object)\n",
        "test['house_type'] = test['house_type'].astype(object)\n",
        "test['work_phone'] = test['work_phone'].astype(object)\n",
        "test['phone'] = test['phone'].astype(object)\n",
        "test['email'] = test['email'].astype(object)\n",
        "test['occyp_type'] = test['occyp_type'].astype(object)"
      ],
      "execution_count": 122,
      "outputs": [
        {
          "output_type": "stream",
          "text": [
            "/usr/local/lib/python3.7/dist-packages/ipykernel_launcher.py:2: SettingWithCopyWarning:\n",
            "\n",
            "\n",
            "A value is trying to be set on a copy of a slice from a DataFrame.\n",
            "Try using .loc[row_indexer,col_indexer] = value instead\n",
            "\n",
            "See the caveats in the documentation: https://pandas.pydata.org/pandas-docs/stable/user_guide/indexing.html#returning-a-view-versus-a-copy\n",
            "\n",
            "/usr/local/lib/python3.7/dist-packages/ipykernel_launcher.py:3: SettingWithCopyWarning:\n",
            "\n",
            "\n",
            "A value is trying to be set on a copy of a slice from a DataFrame.\n",
            "Try using .loc[row_indexer,col_indexer] = value instead\n",
            "\n",
            "See the caveats in the documentation: https://pandas.pydata.org/pandas-docs/stable/user_guide/indexing.html#returning-a-view-versus-a-copy\n",
            "\n",
            "/usr/local/lib/python3.7/dist-packages/ipykernel_launcher.py:4: SettingWithCopyWarning:\n",
            "\n",
            "\n",
            "A value is trying to be set on a copy of a slice from a DataFrame.\n",
            "Try using .loc[row_indexer,col_indexer] = value instead\n",
            "\n",
            "See the caveats in the documentation: https://pandas.pydata.org/pandas-docs/stable/user_guide/indexing.html#returning-a-view-versus-a-copy\n",
            "\n",
            "/usr/local/lib/python3.7/dist-packages/ipykernel_launcher.py:5: SettingWithCopyWarning:\n",
            "\n",
            "\n",
            "A value is trying to be set on a copy of a slice from a DataFrame.\n",
            "Try using .loc[row_indexer,col_indexer] = value instead\n",
            "\n",
            "See the caveats in the documentation: https://pandas.pydata.org/pandas-docs/stable/user_guide/indexing.html#returning-a-view-versus-a-copy\n",
            "\n",
            "/usr/local/lib/python3.7/dist-packages/ipykernel_launcher.py:6: SettingWithCopyWarning:\n",
            "\n",
            "\n",
            "A value is trying to be set on a copy of a slice from a DataFrame.\n",
            "Try using .loc[row_indexer,col_indexer] = value instead\n",
            "\n",
            "See the caveats in the documentation: https://pandas.pydata.org/pandas-docs/stable/user_guide/indexing.html#returning-a-view-versus-a-copy\n",
            "\n",
            "/usr/local/lib/python3.7/dist-packages/ipykernel_launcher.py:7: SettingWithCopyWarning:\n",
            "\n",
            "\n",
            "A value is trying to be set on a copy of a slice from a DataFrame.\n",
            "Try using .loc[row_indexer,col_indexer] = value instead\n",
            "\n",
            "See the caveats in the documentation: https://pandas.pydata.org/pandas-docs/stable/user_guide/indexing.html#returning-a-view-versus-a-copy\n",
            "\n",
            "/usr/local/lib/python3.7/dist-packages/ipykernel_launcher.py:8: SettingWithCopyWarning:\n",
            "\n",
            "\n",
            "A value is trying to be set on a copy of a slice from a DataFrame.\n",
            "Try using .loc[row_indexer,col_indexer] = value instead\n",
            "\n",
            "See the caveats in the documentation: https://pandas.pydata.org/pandas-docs/stable/user_guide/indexing.html#returning-a-view-versus-a-copy\n",
            "\n",
            "/usr/local/lib/python3.7/dist-packages/ipykernel_launcher.py:9: SettingWithCopyWarning:\n",
            "\n",
            "\n",
            "A value is trying to be set on a copy of a slice from a DataFrame.\n",
            "Try using .loc[row_indexer,col_indexer] = value instead\n",
            "\n",
            "See the caveats in the documentation: https://pandas.pydata.org/pandas-docs/stable/user_guide/indexing.html#returning-a-view-versus-a-copy\n",
            "\n",
            "/usr/local/lib/python3.7/dist-packages/ipykernel_launcher.py:10: SettingWithCopyWarning:\n",
            "\n",
            "\n",
            "A value is trying to be set on a copy of a slice from a DataFrame.\n",
            "Try using .loc[row_indexer,col_indexer] = value instead\n",
            "\n",
            "See the caveats in the documentation: https://pandas.pydata.org/pandas-docs/stable/user_guide/indexing.html#returning-a-view-versus-a-copy\n",
            "\n",
            "/usr/local/lib/python3.7/dist-packages/ipykernel_launcher.py:11: SettingWithCopyWarning:\n",
            "\n",
            "\n",
            "A value is trying to be set on a copy of a slice from a DataFrame.\n",
            "Try using .loc[row_indexer,col_indexer] = value instead\n",
            "\n",
            "See the caveats in the documentation: https://pandas.pydata.org/pandas-docs/stable/user_guide/indexing.html#returning-a-view-versus-a-copy\n",
            "\n",
            "/usr/local/lib/python3.7/dist-packages/ipykernel_launcher.py:12: SettingWithCopyWarning:\n",
            "\n",
            "\n",
            "A value is trying to be set on a copy of a slice from a DataFrame.\n",
            "Try using .loc[row_indexer,col_indexer] = value instead\n",
            "\n",
            "See the caveats in the documentation: https://pandas.pydata.org/pandas-docs/stable/user_guide/indexing.html#returning-a-view-versus-a-copy\n",
            "\n"
          ],
          "name": "stderr"
        }
      ]
    },
    {
      "cell_type": "code",
      "metadata": {
        "colab": {
          "base_uri": "https://localhost:8080/"
        },
        "id": "ojorDRDnt2UF",
        "outputId": "1362ca19-bdc4-4a7c-bca5-ad5051716bab"
      },
      "source": [
        "y_train= train['credit']  #결과값 credit은 y_train에 옮겨두고\n",
        "X_train = train.drop('credit',axis=1)  \n",
        "from sklearn.model_selection import train_test_split\n",
        "#학습-검증데이터셋 8:2비율로 둠\n",
        "X_train,X_valid, y_train, y_valid = train_test_split(X_train,y_train, test_size=0.2, random_state=0, shuffle=True)\n",
        "\n",
        "print('X_train = ', X_train.shape)\n",
        "print('X_valid = ', X_valid.shape)\n",
        "print('y_train = ', y_train.shape)\n",
        "print('y_valid = ', y_valid.shape)"
      ],
      "execution_count": 123,
      "outputs": [
        {
          "output_type": "stream",
          "text": [
            "X_train =  (21160, 26)\n",
            "X_valid =  (5291, 26)\n",
            "y_train =  (21160,)\n",
            "y_valid =  (5291,)\n"
          ],
          "name": "stdout"
        }
      ]
    },
    {
      "cell_type": "code",
      "metadata": {
        "colab": {
          "base_uri": "https://localhost:8080/"
        },
        "id": "_cWazAiGzOdf",
        "outputId": "d6dcb91b-eacf-4921-f471-a5c40f78ea67"
      },
      "source": [
        "X_train.info()"
      ],
      "execution_count": 127,
      "outputs": [
        {
          "output_type": "stream",
          "text": [
            "<class 'pandas.core.frame.DataFrame'>\n",
            "Int64Index: 21160 entries, 12 to 2732\n",
            "Data columns (total 26 columns):\n",
            " #   Column         Non-Null Count  Dtype  \n",
            "---  ------         --------------  -----  \n",
            " 0   gender         21160 non-null  object \n",
            " 1   car            21160 non-null  object \n",
            " 2   reality        21160 non-null  object \n",
            " 3   child_num      21160 non-null  int64  \n",
            " 4   income_total   21160 non-null  float64\n",
            " 5   income_type    21160 non-null  object \n",
            " 6   edu_type       21160 non-null  object \n",
            " 7   family_type    21160 non-null  object \n",
            " 8   house_type     21160 non-null  object \n",
            " 9   DAYS_BIRTH     21160 non-null  int64  \n",
            " 10  DAYS_EMPLOYED  21160 non-null  int64  \n",
            " 11  work_phone     21160 non-null  object \n",
            " 12  phone          21160 non-null  object \n",
            " 13  email          21160 non-null  object \n",
            " 14  occyp_type     21160 non-null  object \n",
            " 15  family_size    21160 non-null  float64\n",
            " 16  begin_month    21160 non-null  float64\n",
            " 17  Age            21160 non-null  int64  \n",
            " 18  birth_mon      21160 non-null  int64  \n",
            " 19  birth_week     21160 non-null  int64  \n",
            " 20  work_month     21160 non-null  int64  \n",
            " 21  cred_mon       21160 non-null  float64\n",
            " 22  cred_day       21160 non-null  float64\n",
            " 23  older          21160 non-null  float64\n",
            " 24  income_per     21160 non-null  float64\n",
            " 25  Code           21160 non-null  object \n",
            "dtypes: float64(7), int64(7), object(12)\n",
            "memory usage: 4.4+ MB\n"
          ],
          "name": "stdout"
        }
      ]
    },
    {
      "cell_type": "code",
      "metadata": {
        "id": "fiUmVGLFcfka"
      },
      "source": [
        "import optuna\n",
        "from catboost import CatBoostClassifier\n",
        "from optuna.samplers import TPESampler\n",
        "from sklearn.metrics import log_loss\n",
        "def objective(trial):\n",
        "    params= {\n",
        "        \"random_state\": 42,\n",
        "        \"learning_rate\":trial.suggest_categorical('learning_rate', [0.01, 0.05,0.03,0.07]),\n",
        "        'bagging_temperature' :trial.suggest_loguniform('bagging_temperature', 0.01, 100.00),\n",
        "        \"n_estimators\": trial.suggest_categorical('n_estimators', [500,1000,5000,10000]),\n",
        "        \"l2_leaf_reg\": trial.suggest_float(\"l2_leaf_reg\", 1e-5, 3e-5),\n",
        "        \"max_depth\": trial.suggest_categorical('max_depth', [3,5,7]),\n",
        "        \"random_strength\" :trial.suggest_int('random_strength', 0, 100),\n",
        "        \"colsample_bylevel\": trial.suggest_categorical('colsample_bylevel', [0.4,0.5,0.7,1.0]),\n",
        "        \"min_child_samples\": trial.suggest_int(\"min_child_samples\", 5, 100),\n",
        "        \"max_bin\": trial.suggest_int(\"max_bin\", 200, 500),\n",
        "        'od_type': trial.suggest_categorical('od_type', ['IncToDec', 'Iter'])\n",
        "    }\n",
        "    cat_features =[0,1,2,5,6,7,8,11,12,13,14,25]\n",
        "    model =  CatBoostClassifier(**params)\n",
        "    model.fit(X_train,y_train,eval_set=[(X_train, y_train), (X_valid, y_valid)],cat_features=cat_features,early_stopping_rounds=50,verbose=100)\n",
        "\n",
        "    cat_pred = model.predict_proba(X_valid)\n",
        "    log_score = log_loss(y_valid, cat_pred)\n",
        "    \n",
        "    return log_score"
      ],
      "execution_count": 128,
      "outputs": []
    },
    {
      "cell_type": "code",
      "metadata": {
        "colab": {
          "base_uri": "https://localhost:8080/"
        },
        "id": "NE6gDg1ZRYHf",
        "outputId": "fe249dce-927d-4466-8fbd-34688738207b"
      },
      "source": [
        "sampler = TPESampler(seed=42)\n",
        "study = optuna.create_study(\n",
        "    study_name = 'cat_parameter_opt',\n",
        "    direction = 'minimize',\n",
        "    sampler = sampler,\n",
        ")\n",
        "study.optimize(objective, n_trials=10)\n",
        "print(\"Best Score:\",study.best_value)\n",
        "print(\"Best trial\",study.best_trial.params)"
      ],
      "execution_count": 129,
      "outputs": [
        {
          "output_type": "stream",
          "text": [
            "\u001b[32m[I 2021-06-02 08:18:19,004]\u001b[0m A new study created in memory with name: cat_parameter_opt\u001b[0m\n"
          ],
          "name": "stderr"
        },
        {
          "output_type": "stream",
          "text": [
            "0:\tlearn: 1.0771641\ttest: 1.0771249\ttest1: 1.0762896\tbest: 1.0762896 (0)\ttotal: 50.3ms\tremaining: 4m 11s\n",
            "100:\tlearn: 0.7735464\ttest: 0.6244919\ttest1: 0.7301243\tbest: 0.7301243 (100)\ttotal: 6.68s\tremaining: 5m 24s\n",
            "200:\tlearn: 0.7510359\ttest: 0.5568813\ttest1: 0.7006767\tbest: 0.7006767 (200)\ttotal: 13s\tremaining: 5m 11s\n",
            "300:\tlearn: 0.7202693\ttest: 0.4898836\ttest1: 0.6678826\tbest: 0.6678826 (300)\ttotal: 21.9s\tremaining: 5m 41s\n",
            "400:\tlearn: 0.7104049\ttest: 0.4804226\ttest1: 0.6657338\tbest: 0.6657092 (377)\ttotal: 32.4s\tremaining: 6m 11s\n",
            "500:\tlearn: 0.7016787\ttest: 0.4756799\ttest1: 0.6648074\tbest: 0.6646613 (495)\ttotal: 42.9s\tremaining: 6m 25s\n",
            "600:\tlearn: 0.6936126\ttest: 0.4729414\ttest1: 0.6641013\tbest: 0.6640660 (584)\ttotal: 53.6s\tremaining: 6m 32s\n",
            "Stopped by overfitting detector  (50 iterations wait)\n",
            "\n",
            "bestTest = 0.6640659745\n",
            "bestIteration = 584\n",
            "\n",
            "Shrink model to first 585 iterations.\n"
          ],
          "name": "stdout"
        },
        {
          "output_type": "stream",
          "text": [
            "\u001b[32m[I 2021-06-02 08:19:16,932]\u001b[0m Trial 0 finished with value: 0.6640659745264633 and parameters: {'learning_rate': 0.05, 'bagging_temperature': 0.04207988669606638, 'n_estimators': 5000, 'l2_leaf_reg': 2.416145155592091e-05, 'max_depth': 5, 'random_strength': 21, 'colsample_bylevel': 1.0, 'min_child_samples': 46, 'max_bin': 287, 'od_type': 'IncToDec'}. Best is trial 0 with value: 0.6640659745264633.\u001b[0m\n"
          ],
          "name": "stderr"
        },
        {
          "output_type": "stream",
          "text": [
            "0:\tlearn: 1.0688211\ttest: 1.0688211\ttest1: 1.0676882\tbest: 1.0676882 (0)\ttotal: 43.8ms\tremaining: 7m 17s\n",
            "100:\tlearn: 0.8198183\ttest: 0.7043553\ttest1: 0.7819524\tbest: 0.7819524 (100)\ttotal: 8.73s\tremaining: 14m 15s\n",
            "200:\tlearn: 0.7286972\ttest: 0.5279905\ttest1: 0.6820568\tbest: 0.6820568 (200)\ttotal: 17.5s\tremaining: 14m 13s\n",
            "300:\tlearn: 0.6857675\ttest: 0.4754666\ttest1: 0.6652137\tbest: 0.6651821 (299)\ttotal: 31.6s\tremaining: 16m 58s\n",
            "400:\tlearn: 0.6546759\ttest: 0.4647938\ttest1: 0.6647746\tbest: 0.6645907 (391)\ttotal: 46.6s\tremaining: 18m 36s\n",
            "Stopped by overfitting detector  (50 iterations wait)\n",
            "\n",
            "bestTest = 0.6645907066\n",
            "bestIteration = 391\n",
            "\n",
            "Shrink model to first 392 iterations.\n"
          ],
          "name": "stdout"
        },
        {
          "output_type": "stream",
          "text": [
            "\u001b[32m[I 2021-06-02 08:20:10,285]\u001b[0m Trial 1 finished with value: 0.6645907065537431 and parameters: {'learning_rate': 0.07, 'bagging_temperature': 0.0629064429458615, 'n_estimators': 10000, 'l2_leaf_reg': 1.3410482473745831e-05, 'max_depth': 7, 'random_strength': 81, 'colsample_bylevel': 0.7, 'min_child_samples': 16, 'max_bin': 349, 'od_type': 'Iter'}. Best is trial 0 with value: 0.6640659745264633.\u001b[0m\n"
          ],
          "name": "stderr"
        },
        {
          "output_type": "stream",
          "text": [
            "0:\tlearn: 1.0771186\ttest: 1.0771186\ttest1: 1.0763088\tbest: 1.0763088 (0)\ttotal: 36.3ms\tremaining: 36.2s\n",
            "100:\tlearn: 0.7751618\ttest: 0.6367835\ttest1: 0.7340561\tbest: 0.7340561 (100)\ttotal: 6.04s\tremaining: 53.8s\n",
            "200:\tlearn: 0.7495164\ttest: 0.5610158\ttest1: 0.7013788\tbest: 0.7013788 (200)\ttotal: 11.6s\tremaining: 46.3s\n",
            "300:\tlearn: 0.7212848\ttest: 0.4970875\ttest1: 0.6722525\tbest: 0.6722525 (300)\ttotal: 19.4s\tremaining: 45s\n",
            "400:\tlearn: 0.7114643\ttest: 0.4866954\ttest1: 0.6690082\tbest: 0.6690082 (400)\ttotal: 28.2s\tremaining: 42.1s\n",
            "500:\tlearn: 0.7027876\ttest: 0.4815904\ttest1: 0.6675240\tbest: 0.6675240 (500)\ttotal: 37.2s\tremaining: 37.1s\n",
            "600:\tlearn: 0.6938359\ttest: 0.4765951\ttest1: 0.6661753\tbest: 0.6661753 (600)\ttotal: 46.2s\tremaining: 30.7s\n",
            "700:\tlearn: 0.6861395\ttest: 0.4735197\ttest1: 0.6655968\tbest: 0.6655780 (699)\ttotal: 55.3s\tremaining: 23.6s\n",
            "800:\tlearn: 0.6782393\ttest: 0.4709518\ttest1: 0.6654484\tbest: 0.6654029 (799)\ttotal: 1m 4s\tremaining: 16s\n",
            "900:\tlearn: 0.6709122\ttest: 0.4681327\ttest1: 0.6650666\tbest: 0.6649957 (886)\ttotal: 1m 13s\tremaining: 8.1s\n",
            "Stopped by overfitting detector  (50 iterations wait)\n",
            "\n",
            "bestTest = 0.66499569\n",
            "bestIteration = 886\n",
            "\n",
            "Shrink model to first 887 iterations.\n"
          ],
          "name": "stdout"
        },
        {
          "output_type": "stream",
          "text": [
            "\u001b[32m[I 2021-06-02 08:21:27,894]\u001b[0m Trial 2 finished with value: 0.6649956900369522 and parameters: {'learning_rate': 0.05, 'bagging_temperature': 1.5375920235481764, 'n_estimators': 1000, 'l2_leaf_reg': 2.7896547008552974e-05, 'max_depth': 5, 'random_strength': 19, 'colsample_bylevel': 0.7, 'min_child_samples': 84, 'max_bin': 307, 'od_type': 'Iter'}. Best is trial 0 with value: 0.6640659745264633.\u001b[0m\n"
          ],
          "name": "stderr"
        },
        {
          "output_type": "stream",
          "text": [
            "0:\tlearn: 1.0688338\ttest: 1.0688338\ttest1: 1.0676875\tbest: 1.0676875 (0)\ttotal: 53.6ms\tremaining: 4m 27s\n",
            "100:\tlearn: 0.8257685\ttest: 0.8261040\ttest1: 0.8132664\tbest: 0.8132664 (100)\ttotal: 3.65s\tremaining: 2m 56s\n",
            "200:\tlearn: 0.8185081\ttest: 0.8190130\ttest1: 0.8082375\tbest: 0.8082375 (200)\ttotal: 7.14s\tremaining: 2m 50s\n",
            "300:\tlearn: 0.7996803\ttest: 0.7808374\ttest1: 0.7876356\tbest: 0.7876350 (299)\ttotal: 10.8s\tremaining: 2m 48s\n",
            "400:\tlearn: 0.7484292\ttest: 0.6068217\ttest1: 0.7141620\tbest: 0.7141620 (400)\ttotal: 14.2s\tremaining: 2m 43s\n",
            "500:\tlearn: 0.7386295\ttest: 0.5702655\ttest1: 0.7008324\tbest: 0.7008324 (500)\ttotal: 17.8s\tremaining: 2m 39s\n",
            "600:\tlearn: 0.7295827\ttest: 0.5339360\ttest1: 0.6888995\tbest: 0.6888925 (599)\ttotal: 21.2s\tremaining: 2m 35s\n",
            "700:\tlearn: 0.7234407\ttest: 0.5165403\ttest1: 0.6825404\tbest: 0.6825404 (700)\ttotal: 24.7s\tremaining: 2m 31s\n",
            "800:\tlearn: 0.7195718\ttest: 0.5085602\ttest1: 0.6799533\tbest: 0.6799173 (795)\ttotal: 28.2s\tremaining: 2m 27s\n",
            "900:\tlearn: 0.7162148\ttest: 0.5025373\ttest1: 0.6776198\tbest: 0.6776198 (900)\ttotal: 31.6s\tremaining: 2m 23s\n",
            "1000:\tlearn: 0.7130589\ttest: 0.4954395\ttest1: 0.6757903\tbest: 0.6757903 (1000)\ttotal: 35.2s\tremaining: 2m 20s\n",
            "1100:\tlearn: 0.7103227\ttest: 0.4909111\ttest1: 0.6741014\tbest: 0.6741014 (1100)\ttotal: 38.7s\tremaining: 2m 16s\n",
            "1200:\tlearn: 0.7078301\ttest: 0.4878189\ttest1: 0.6731253\tbest: 0.6730976 (1198)\ttotal: 42.1s\tremaining: 2m 13s\n",
            "1300:\tlearn: 0.7054719\ttest: 0.4856492\ttest1: 0.6726882\tbest: 0.6726152 (1278)\ttotal: 45.6s\tremaining: 2m 9s\n"
          ],
          "name": "stdout"
        },
        {
          "output_type": "stream",
          "text": [
            "\u001b[32m[I 2021-06-02 08:22:15,021]\u001b[0m Trial 3 finished with value: 0.6726152238543226 and parameters: {'learning_rate': 0.07, 'bagging_temperature': 12.273800987852969, 'n_estimators': 5000, 'l2_leaf_reg': 2.4580143360819745e-05, 'max_depth': 3, 'random_strength': 11, 'colsample_bylevel': 0.4, 'min_child_samples': 34, 'max_bin': 297, 'od_type': 'IncToDec'}. Best is trial 0 with value: 0.6640659745264633.\u001b[0m\n"
          ],
          "name": "stderr"
        },
        {
          "output_type": "stream",
          "text": [
            "Stopped by overfitting detector  (50 iterations wait)\n",
            "\n",
            "bestTest = 0.6726152239\n",
            "bestIteration = 1278\n",
            "\n",
            "Shrink model to first 1279 iterations.\n",
            "0:\tlearn: 1.0941057\ttest: 1.0941057\ttest1: 1.0939423\tbest: 1.0939423 (0)\ttotal: 105ms\tremaining: 1m 44s\n",
            "100:\tlearn: 0.8835491\ttest: 0.8839497\ttest1: 0.8755416\tbest: 0.8755416 (100)\ttotal: 9.02s\tremaining: 1m 20s\n",
            "200:\tlearn: 0.8397896\ttest: 0.8406257\ttest1: 0.8300348\tbest: 0.8300348 (200)\ttotal: 17.9s\tremaining: 1m 11s\n",
            "300:\tlearn: 0.8285342\ttest: 0.8298097\ttest1: 0.8190904\tbest: 0.8190904 (300)\ttotal: 26.7s\tremaining: 1m 2s\n",
            "400:\tlearn: 0.8106201\ttest: 0.7911867\ttest1: 0.7972790\tbest: 0.7972790 (400)\ttotal: 35.6s\tremaining: 53.2s\n",
            "500:\tlearn: 0.7767348\ttest: 0.6959848\ttest1: 0.7524089\tbest: 0.7524089 (500)\ttotal: 43.9s\tremaining: 43.7s\n",
            "600:\tlearn: 0.7586078\ttest: 0.6416518\ttest1: 0.7284846\tbest: 0.7284846 (600)\ttotal: 52.4s\tremaining: 34.8s\n",
            "700:\tlearn: 0.7481187\ttest: 0.6101555\ttest1: 0.7154725\tbest: 0.7154725 (700)\ttotal: 1m\tremaining: 26s\n",
            "800:\tlearn: 0.7402859\ttest: 0.5839613\ttest1: 0.7058809\tbest: 0.7058809 (800)\ttotal: 1m 9s\tremaining: 17.2s\n",
            "900:\tlearn: 0.7345983\ttest: 0.5654215\ttest1: 0.6995335\tbest: 0.6995335 (900)\ttotal: 1m 17s\tremaining: 8.55s\n",
            "999:\tlearn: 0.7297574\ttest: 0.5514790\ttest1: 0.6947384\tbest: 0.6947384 (999)\ttotal: 1m 26s\tremaining: 0us\n",
            "\n",
            "bestTest = 0.6947383907\n",
            "bestIteration = 999\n",
            "\n"
          ],
          "name": "stdout"
        },
        {
          "output_type": "stream",
          "text": [
            "\u001b[32m[I 2021-06-02 08:23:41,915]\u001b[0m Trial 4 finished with value: 0.6947383907044746 and parameters: {'learning_rate': 0.01, 'bagging_temperature': 11.044350847124697, 'n_estimators': 1000, 'l2_leaf_reg': 1.8550820367170995e-05, 'max_depth': 5, 'random_strength': 64, 'colsample_bylevel': 0.7, 'min_child_samples': 44, 'max_bin': 427, 'od_type': 'IncToDec'}. Best is trial 0 with value: 0.6640659745264633.\u001b[0m\n"
          ],
          "name": "stderr"
        },
        {
          "output_type": "stream",
          "text": [
            "0:\tlearn: 1.0813328\ttest: 1.0813328\ttest1: 1.0808283\tbest: 1.0808283 (0)\ttotal: 46.8ms\tremaining: 7m 48s\n",
            "100:\tlearn: 0.7548192\ttest: 0.6061739\ttest1: 0.7116707\tbest: 0.7116707 (100)\ttotal: 8.6s\tremaining: 14m 3s\n",
            "200:\tlearn: 0.7374231\ttest: 0.5520923\ttest1: 0.6905430\tbest: 0.6905427 (198)\ttotal: 18.2s\tremaining: 14m 45s\n",
            "300:\tlearn: 0.7285682\ttest: 0.5274030\ttest1: 0.6830698\tbest: 0.6830698 (300)\ttotal: 28.1s\tremaining: 15m 6s\n",
            "400:\tlearn: 0.7199850\ttest: 0.5125732\ttest1: 0.6774678\tbest: 0.6774678 (400)\ttotal: 38.6s\tremaining: 15m 24s\n",
            "500:\tlearn: 0.7123064\ttest: 0.5013433\ttest1: 0.6738487\tbest: 0.6738487 (500)\ttotal: 49.3s\tremaining: 15m 34s\n",
            "600:\tlearn: 0.7062822\ttest: 0.4948606\ttest1: 0.6718974\tbest: 0.6718840 (598)\ttotal: 59.6s\tremaining: 15m 32s\n",
            "700:\tlearn: 0.7004088\ttest: 0.4904413\ttest1: 0.6706286\tbest: 0.6706017 (696)\ttotal: 1m 10s\tremaining: 15m 28s\n",
            "800:\tlearn: 0.6953891\ttest: 0.4860148\ttest1: 0.6697549\tbest: 0.6697153 (793)\ttotal: 1m 20s\tremaining: 15m 25s\n",
            "900:\tlearn: 0.6905249\ttest: 0.4830341\ttest1: 0.6692235\tbest: 0.6692235 (900)\ttotal: 1m 31s\tremaining: 15m 20s\n",
            "1000:\tlearn: 0.6857136\ttest: 0.4801719\ttest1: 0.6688941\tbest: 0.6688320 (986)\ttotal: 1m 41s\tremaining: 15m 11s\n",
            "1100:\tlearn: 0.6808488\ttest: 0.4778535\ttest1: 0.6683885\tbest: 0.6683353 (1093)\ttotal: 1m 51s\tremaining: 15m 4s\n",
            "1200:\tlearn: 0.6764194\ttest: 0.4761514\ttest1: 0.6681480\tbest: 0.6680812 (1196)\ttotal: 2m 2s\tremaining: 14m 56s\n",
            "1300:\tlearn: 0.6726254\ttest: 0.4747605\ttest1: 0.6680365\tbest: 0.6679722 (1261)\ttotal: 2m 12s\tremaining: 14m 47s\n",
            "Stopped by overfitting detector  (50 iterations wait)\n",
            "\n",
            "bestTest = 0.6679721711\n",
            "bestIteration = 1261\n",
            "\n",
            "Shrink model to first 1262 iterations.\n"
          ],
          "name": "stdout"
        },
        {
          "output_type": "stream",
          "text": [
            "\u001b[32m[I 2021-06-02 08:25:56,727]\u001b[0m Trial 5 finished with value: 0.6679721711277649 and parameters: {'learning_rate': 0.03, 'bagging_temperature': 3.4167643418329705, 'n_estimators': 10000, 'l2_leaf_reg': 2.0786844838313017e-05, 'max_depth': 5, 'random_strength': 11, 'colsample_bylevel': 1.0, 'min_child_samples': 5, 'max_bin': 353, 'od_type': 'IncToDec'}. Best is trial 0 with value: 0.6640659745264633.\u001b[0m\n"
          ],
          "name": "stderr"
        },
        {
          "output_type": "stream",
          "text": [
            "0:\tlearn: 1.0831120\ttest: 1.0831120\ttest1: 1.0826638\tbest: 1.0826638 (0)\ttotal: 54.7ms\tremaining: 4m 33s\n",
            "100:\tlearn: 0.7662676\ttest: 0.6385503\ttest1: 0.7269026\tbest: 0.7269026 (100)\ttotal: 3.14s\tremaining: 2m 32s\n",
            "200:\tlearn: 0.7423850\ttest: 0.5501152\ttest1: 0.6904912\tbest: 0.6904912 (200)\ttotal: 6.34s\tremaining: 2m 31s\n",
            "300:\tlearn: 0.7356231\ttest: 0.5226749\ttest1: 0.6804809\tbest: 0.6804809 (300)\ttotal: 9.57s\tremaining: 2m 29s\n",
            "400:\tlearn: 0.7300873\ttest: 0.5051531\ttest1: 0.6736463\tbest: 0.6736463 (400)\ttotal: 13s\tremaining: 2m 28s\n",
            "500:\tlearn: 0.7265381\ttest: 0.4967054\ttest1: 0.6703827\tbest: 0.6703827 (500)\ttotal: 16.4s\tremaining: 2m 27s\n",
            "600:\tlearn: 0.7243049\ttest: 0.4919402\ttest1: 0.6689987\tbest: 0.6689987 (600)\ttotal: 20s\tremaining: 2m 26s\n",
            "700:\tlearn: 0.7224625\ttest: 0.4895358\ttest1: 0.6682856\tbest: 0.6682856 (700)\ttotal: 23.6s\tremaining: 2m 24s\n",
            "800:\tlearn: 0.7205863\ttest: 0.4876199\ttest1: 0.6675905\tbest: 0.6675531 (793)\ttotal: 27.1s\tremaining: 2m 21s\n",
            "900:\tlearn: 0.7188933\ttest: 0.4862004\ttest1: 0.6672180\tbest: 0.6672180 (900)\ttotal: 30.6s\tremaining: 2m 19s\n",
            "1000:\tlearn: 0.7171718\ttest: 0.4848931\ttest1: 0.6668129\tbest: 0.6668050 (997)\ttotal: 34s\tremaining: 2m 16s\n",
            "1100:\tlearn: 0.7157096\ttest: 0.4834749\ttest1: 0.6667028\tbest: 0.6666925 (1058)\ttotal: 37.6s\tremaining: 2m 13s\n",
            "1200:\tlearn: 0.7142788\ttest: 0.4821781\ttest1: 0.6663468\tbest: 0.6663460 (1199)\ttotal: 41.2s\tremaining: 2m 10s\n",
            "1300:\tlearn: 0.7128964\ttest: 0.4808865\ttest1: 0.6662545\tbest: 0.6662249 (1296)\ttotal: 44.7s\tremaining: 2m 7s\n",
            "1400:\tlearn: 0.7113852\ttest: 0.4799487\ttest1: 0.6660445\tbest: 0.6660174 (1385)\ttotal: 48.2s\tremaining: 2m 3s\n",
            "Stopped by overfitting detector  (50 iterations wait)\n",
            "\n",
            "bestTest = 0.6659878257\n",
            "bestIteration = 1407\n",
            "\n",
            "Shrink model to first 1408 iterations.\n"
          ],
          "name": "stdout"
        },
        {
          "output_type": "stream",
          "text": [
            "\u001b[32m[I 2021-06-02 08:26:47,760]\u001b[0m Trial 6 finished with value: 0.6659878257314735 and parameters: {'learning_rate': 0.03, 'bagging_temperature': 1.1889469769530472, 'n_estimators': 5000, 'l2_leaf_reg': 1.5035645916507283e-05, 'max_depth': 3, 'random_strength': 3, 'colsample_bylevel': 0.4, 'min_child_samples': 92, 'max_bin': 272, 'od_type': 'Iter'}. Best is trial 0 with value: 0.6640659745264633.\u001b[0m\n"
          ],
          "name": "stderr"
        },
        {
          "output_type": "stream",
          "text": [
            "0:\tlearn: 1.0942241\ttest: 1.0942255\ttest1: 1.0940624\tbest: 1.0940624 (0)\ttotal: 85.1ms\tremaining: 42.5s\n",
            "100:\tlearn: 0.9047837\ttest: 0.8974616\ttest1: 0.8940312\tbest: 0.8940312 (100)\ttotal: 6.02s\tremaining: 23.8s\n",
            "200:\tlearn: 0.8448719\ttest: 0.7983527\ttest1: 0.8234785\tbest: 0.8234785 (200)\ttotal: 11.7s\tremaining: 17.4s\n",
            "300:\tlearn: 0.8076199\ttest: 0.7086878\ttest1: 0.7743280\tbest: 0.7743280 (300)\ttotal: 18.1s\tremaining: 12s\n",
            "400:\tlearn: 0.7908357\ttest: 0.6642413\ttest1: 0.7516795\tbest: 0.7516795 (400)\ttotal: 23.7s\tremaining: 5.85s\n"
          ],
          "name": "stdout"
        },
        {
          "output_type": "stream",
          "text": [
            "\u001b[32m[I 2021-06-02 08:27:17,799]\u001b[0m Trial 7 finished with value: 0.7333951757769335 and parameters: {'learning_rate': 0.01, 'bagging_temperature': 0.08923807143379786, 'n_estimators': 500, 'l2_leaf_reg': 2.071549368149517e-05, 'max_depth': 5, 'random_strength': 18, 'colsample_bylevel': 0.7, 'min_child_samples': 54, 'max_bin': 268, 'od_type': 'IncToDec'}. Best is trial 0 with value: 0.6640659745264633.\u001b[0m\n"
          ],
          "name": "stderr"
        },
        {
          "output_type": "stream",
          "text": [
            "499:\tlearn: 0.7770669\ttest: 0.6258106\ttest1: 0.7333952\tbest: 0.7333952 (499)\ttotal: 29.6s\tremaining: 0us\n",
            "\n",
            "bestTest = 0.7333951758\n",
            "bestIteration = 499\n",
            "\n",
            "0:\tlearn: 1.0855774\ttest: 1.0855774\ttest1: 1.0850927\tbest: 1.0850927 (0)\ttotal: 35.6ms\tremaining: 35.6s\n",
            "100:\tlearn: 0.8312404\ttest: 0.7700785\ttest1: 0.8047310\tbest: 0.8047310 (100)\ttotal: 3.9s\tremaining: 34.7s\n",
            "200:\tlearn: 0.7924155\ttest: 0.6671720\ttest1: 0.7536809\tbest: 0.7536809 (200)\ttotal: 7.82s\tremaining: 31.1s\n",
            "300:\tlearn: 0.7730737\ttest: 0.6101468\ttest1: 0.7271213\tbest: 0.7271213 (300)\ttotal: 11.6s\tremaining: 26.9s\n",
            "400:\tlearn: 0.7453902\ttest: 0.5548219\ttest1: 0.6946230\tbest: 0.6946230 (400)\ttotal: 15.6s\tremaining: 23.3s\n",
            "500:\tlearn: 0.7284651\ttest: 0.5011612\ttest1: 0.6713900\tbest: 0.6713900 (500)\ttotal: 19.6s\tremaining: 19.5s\n",
            "600:\tlearn: 0.7245587\ttest: 0.4898436\ttest1: 0.6677988\tbest: 0.6677916 (598)\ttotal: 24s\tremaining: 15.9s\n",
            "700:\tlearn: 0.7221132\ttest: 0.4858485\ttest1: 0.6664764\tbest: 0.6664764 (700)\ttotal: 28.7s\tremaining: 12.2s\n",
            "800:\tlearn: 0.7199488\ttest: 0.4835821\ttest1: 0.6657245\tbest: 0.6657207 (799)\ttotal: 33.4s\tremaining: 8.31s\n",
            "900:\tlearn: 0.7180147\ttest: 0.4818705\ttest1: 0.6652960\tbest: 0.6652960 (900)\ttotal: 38.2s\tremaining: 4.2s\n",
            "999:\tlearn: 0.7162147\ttest: 0.4803612\ttest1: 0.6648622\tbest: 0.6648418 (991)\ttotal: 42.9s\tremaining: 0us\n",
            "\n",
            "bestTest = 0.6648418234\n",
            "bestIteration = 991\n",
            "\n",
            "Shrink model to first 992 iterations.\n"
          ],
          "name": "stdout"
        },
        {
          "output_type": "stream",
          "text": [
            "\u001b[32m[I 2021-06-02 08:28:01,316]\u001b[0m Trial 8 finished with value: 0.6648418233704687 and parameters: {'learning_rate': 0.03, 'bagging_temperature': 0.23134781612225622, 'n_estimators': 1000, 'l2_leaf_reg': 2.319968092068358e-05, 'max_depth': 3, 'random_strength': 24, 'colsample_bylevel': 0.7, 'min_child_samples': 37, 'max_bin': 305, 'od_type': 'Iter'}. Best is trial 0 with value: 0.6640659745264633.\u001b[0m\n"
          ],
          "name": "stderr"
        },
        {
          "output_type": "stream",
          "text": [
            "0:\tlearn: 1.0942352\ttest: 1.0942352\ttest1: 1.0940696\tbest: 1.0940696 (0)\ttotal: 35.6ms\tremaining: 17.8s\n",
            "100:\tlearn: 0.8992037\ttest: 0.8771099\ttest1: 0.8847002\tbest: 0.8847002 (100)\ttotal: 8.36s\tremaining: 33s\n",
            "200:\tlearn: 0.8534909\ttest: 0.7992918\ttest1: 0.8285673\tbest: 0.8285673 (200)\ttotal: 16.3s\tremaining: 24.2s\n",
            "300:\tlearn: 0.8309974\ttest: 0.7386699\ttest1: 0.7975154\tbest: 0.7975154 (300)\ttotal: 23.7s\tremaining: 15.7s\n",
            "400:\tlearn: 0.8165499\ttest: 0.6965168\ttest1: 0.7777664\tbest: 0.7777664 (400)\ttotal: 31.9s\tremaining: 7.87s\n",
            "499:\tlearn: 0.8059505\ttest: 0.6633632\ttest1: 0.7633853\tbest: 0.7633853 (499)\ttotal: 40s\tremaining: 0us\n",
            "\n",
            "bestTest = 0.7633852707\n",
            "bestIteration = 499\n",
            "\n"
          ],
          "name": "stdout"
        },
        {
          "output_type": "stream",
          "text": [
            "\u001b[32m[I 2021-06-02 08:28:41,859]\u001b[0m Trial 9 finished with value: 0.7633852707095923 and parameters: {'learning_rate': 0.01, 'bagging_temperature': 0.04431133722857618, 'n_estimators': 500, 'l2_leaf_reg': 2.3270035382161115e-05, 'max_depth': 7, 'random_strength': 69, 'colsample_bylevel': 0.7, 'min_child_samples': 36, 'max_bin': 424, 'od_type': 'Iter'}. Best is trial 0 with value: 0.6640659745264633.\u001b[0m\n"
          ],
          "name": "stderr"
        },
        {
          "output_type": "stream",
          "text": [
            "Best Score: 0.6640659745264633\n",
            "Best trial {'learning_rate': 0.05, 'bagging_temperature': 0.04207988669606638, 'n_estimators': 5000, 'l2_leaf_reg': 2.416145155592091e-05, 'max_depth': 5, 'random_strength': 21, 'colsample_bylevel': 1.0, 'min_child_samples': 46, 'max_bin': 287, 'od_type': 'IncToDec'}\n"
          ],
          "name": "stdout"
        }
      ]
    },
    {
      "cell_type": "code",
      "metadata": {
        "colab": {
          "base_uri": "https://localhost:8080/"
        },
        "id": "c8Mv4UVTdEEw",
        "outputId": "a487ff1b-4ea1-40c5-d1e9-e0cfd5560ce2"
      },
      "source": [
        "cat_features =[0,1,2,5,6,7,8,11,12,13,14,25]\n",
        "model =  CatBoostClassifier(**study.best_params)\n",
        "model.fit(X_train,y_train,eval_set=[(X_train, y_train), (X_valid, y_valid)],cat_features=cat_features,early_stopping_rounds=50,verbose=100)\n",
        "submit=pd.read_csv(filepath+'sample_submission.csv')\n",
        "submit.iloc[:,1:]=0\n",
        "submit.iloc[:,1:]=model.predict_proba(test)\n",
        "submit.to_csv(filepath+'submit3.csv', index=False)"
      ],
      "execution_count": 130,
      "outputs": [
        {
          "output_type": "stream",
          "text": [
            "0:\tlearn: 1.0770578\ttest: 1.0770694\ttest1: 1.0762793\tbest: 1.0762793 (0)\ttotal: 71.1ms\tremaining: 5m 55s\n",
            "100:\tlearn: 0.7832496\ttest: 0.6578384\ttest1: 0.7420529\tbest: 0.7420529 (100)\ttotal: 6.97s\tremaining: 5m 38s\n",
            "200:\tlearn: 0.7513074\ttest: 0.5582199\ttest1: 0.7014775\tbest: 0.7014775 (200)\ttotal: 14.1s\tremaining: 5m 35s\n",
            "300:\tlearn: 0.7202049\ttest: 0.4912001\ttest1: 0.6703933\tbest: 0.6703933 (300)\ttotal: 22.4s\tremaining: 5m 49s\n",
            "400:\tlearn: 0.7102146\ttest: 0.4821594\ttest1: 0.6682349\tbest: 0.6682349 (400)\ttotal: 33s\tremaining: 6m 18s\n",
            "500:\tlearn: 0.7021433\ttest: 0.4784402\ttest1: 0.6674518\tbest: 0.6674160 (498)\ttotal: 43.6s\tremaining: 6m 31s\n",
            "600:\tlearn: 0.6940277\ttest: 0.4754732\ttest1: 0.6668209\tbest: 0.6667794 (595)\ttotal: 54.4s\tremaining: 6m 37s\n",
            "700:\tlearn: 0.6861152\ttest: 0.4730448\ttest1: 0.6662110\tbest: 0.6662110 (700)\ttotal: 1m 5s\tremaining: 6m 38s\n",
            "800:\tlearn: 0.6782266\ttest: 0.4704652\ttest1: 0.6660186\tbest: 0.6658601 (768)\ttotal: 1m 16s\tremaining: 6m 38s\n",
            "Stopped by overfitting detector  (50 iterations wait)\n",
            "\n",
            "bestTest = 0.6658131982\n",
            "bestIteration = 815\n",
            "\n",
            "Shrink model to first 816 iterations.\n"
          ],
          "name": "stdout"
        }
      ]
    },
    {
      "cell_type": "code",
      "metadata": {
        "id": "Jg4blwvQe0bu",
        "colab": {
          "base_uri": "https://localhost:8080/",
          "height": 542
        },
        "outputId": "de98a163-052b-4070-df2f-e7967d92dcd0"
      },
      "source": [
        "optuna.visualization.plot_param_importances(study)"
      ],
      "execution_count": 131,
      "outputs": [
        {
          "output_type": "display_data",
          "data": {
            "text/html": [
              "<html>\n",
              "<head><meta charset=\"utf-8\" /></head>\n",
              "<body>\n",
              "    <div>\n",
              "            <script src=\"https://cdnjs.cloudflare.com/ajax/libs/mathjax/2.7.5/MathJax.js?config=TeX-AMS-MML_SVG\"></script><script type=\"text/javascript\">if (window.MathJax) {MathJax.Hub.Config({SVG: {font: \"STIX-Web\"}});}</script>\n",
              "                <script type=\"text/javascript\">window.PlotlyConfig = {MathJaxConfig: 'local'};</script>\n",
              "        <script src=\"https://cdn.plot.ly/plotly-latest.min.js\"></script>    \n",
              "            <div id=\"259b851e-0a31-4ac9-bc8b-4a35fb2d0b2d\" class=\"plotly-graph-div\" style=\"height:525px; width:100%;\"></div>\n",
              "            <script type=\"text/javascript\">\n",
              "                \n",
              "                    window.PLOTLYENV=window.PLOTLYENV || {};\n",
              "                    \n",
              "                if (document.getElementById(\"259b851e-0a31-4ac9-bc8b-4a35fb2d0b2d\")) {\n",
              "                    Plotly.newPlot(\n",
              "                        '259b851e-0a31-4ac9-bc8b-4a35fb2d0b2d',\n",
              "                        [{\"cliponaxis\": false, \"hovertemplate\": [\"colsample_bylevel (CategoricalDistribution): 0.0007659026298640977<extra></extra>\", \"random_strength (IntUniformDistribution): 0.004499393381951741<extra></extra>\", \"od_type (CategoricalDistribution): 0.005359873432897673<extra></extra>\", \"l2_leaf_reg (UniformDistribution): 0.013319172114713274<extra></extra>\", \"min_child_samples (IntUniformDistribution): 0.034198498638988675<extra></extra>\", \"bagging_temperature (LogUniformDistribution): 0.038593747224292076<extra></extra>\", \"max_depth (CategoricalDistribution): 0.05210239264505263<extra></extra>\", \"max_bin (IntUniformDistribution): 0.0980414923706365<extra></extra>\", \"learning_rate (CategoricalDistribution): 0.23662866604972443<extra></extra>\", \"n_estimators (CategoricalDistribution): 0.5164908615118787<extra></extra>\"], \"marker\": {\"color\": [\"rgb(66,146,198)\", \"rgb(8,81,156)\", \"rgb(66,146,198)\", \"rgb(8,48,107)\", \"rgb(8,81,156)\", \"rgb(8,48,107)\", \"rgb(66,146,198)\", \"rgb(8,81,156)\", \"rgb(66,146,198)\", \"rgb(66,146,198)\"]}, \"orientation\": \"h\", \"text\": [\"0.0007659026298640977\", \"0.004499393381951741\", \"0.005359873432897673\", \"0.013319172114713274\", \"0.034198498638988675\", \"0.038593747224292076\", \"0.05210239264505263\", \"0.0980414923706365\", \"0.23662866604972443\", \"0.5164908615118787\"], \"textposition\": \"outside\", \"texttemplate\": \"%{text:.2f}\", \"type\": \"bar\", \"x\": [0.0007659026298640977, 0.004499393381951741, 0.005359873432897673, 0.013319172114713274, 0.034198498638988675, 0.038593747224292076, 0.05210239264505263, 0.0980414923706365, 0.23662866604972443, 0.5164908615118787], \"y\": [\"colsample_bylevel\", \"random_strength\", \"od_type\", \"l2_leaf_reg\", \"min_child_samples\", \"bagging_temperature\", \"max_depth\", \"max_bin\", \"learning_rate\", \"n_estimators\"]}],\n",
              "                        {\"showlegend\": false, \"template\": {\"data\": {\"bar\": [{\"error_x\": {\"color\": \"#2a3f5f\"}, \"error_y\": {\"color\": \"#2a3f5f\"}, \"marker\": {\"line\": {\"color\": \"#E5ECF6\", \"width\": 0.5}}, \"type\": \"bar\"}], \"barpolar\": [{\"marker\": {\"line\": {\"color\": \"#E5ECF6\", \"width\": 0.5}}, \"type\": \"barpolar\"}], \"carpet\": [{\"aaxis\": {\"endlinecolor\": \"#2a3f5f\", \"gridcolor\": \"white\", \"linecolor\": \"white\", \"minorgridcolor\": \"white\", \"startlinecolor\": \"#2a3f5f\"}, \"baxis\": {\"endlinecolor\": \"#2a3f5f\", \"gridcolor\": \"white\", \"linecolor\": \"white\", \"minorgridcolor\": \"white\", \"startlinecolor\": \"#2a3f5f\"}, \"type\": \"carpet\"}], \"choropleth\": [{\"colorbar\": {\"outlinewidth\": 0, \"ticks\": \"\"}, \"type\": \"choropleth\"}], \"contour\": [{\"colorbar\": {\"outlinewidth\": 0, \"ticks\": \"\"}, \"colorscale\": [[0.0, \"#0d0887\"], [0.1111111111111111, \"#46039f\"], [0.2222222222222222, \"#7201a8\"], [0.3333333333333333, \"#9c179e\"], [0.4444444444444444, \"#bd3786\"], [0.5555555555555556, \"#d8576b\"], [0.6666666666666666, \"#ed7953\"], [0.7777777777777778, \"#fb9f3a\"], [0.8888888888888888, \"#fdca26\"], [1.0, \"#f0f921\"]], \"type\": \"contour\"}], \"contourcarpet\": [{\"colorbar\": {\"outlinewidth\": 0, \"ticks\": \"\"}, \"type\": \"contourcarpet\"}], \"heatmap\": [{\"colorbar\": {\"outlinewidth\": 0, \"ticks\": \"\"}, \"colorscale\": [[0.0, \"#0d0887\"], [0.1111111111111111, \"#46039f\"], [0.2222222222222222, \"#7201a8\"], [0.3333333333333333, \"#9c179e\"], [0.4444444444444444, \"#bd3786\"], [0.5555555555555556, \"#d8576b\"], [0.6666666666666666, \"#ed7953\"], [0.7777777777777778, \"#fb9f3a\"], [0.8888888888888888, \"#fdca26\"], [1.0, \"#f0f921\"]], \"type\": \"heatmap\"}], \"heatmapgl\": [{\"colorbar\": {\"outlinewidth\": 0, \"ticks\": \"\"}, \"colorscale\": [[0.0, \"#0d0887\"], [0.1111111111111111, \"#46039f\"], [0.2222222222222222, \"#7201a8\"], [0.3333333333333333, \"#9c179e\"], [0.4444444444444444, \"#bd3786\"], [0.5555555555555556, \"#d8576b\"], [0.6666666666666666, \"#ed7953\"], [0.7777777777777778, \"#fb9f3a\"], [0.8888888888888888, \"#fdca26\"], [1.0, \"#f0f921\"]], \"type\": \"heatmapgl\"}], \"histogram\": [{\"marker\": {\"colorbar\": {\"outlinewidth\": 0, \"ticks\": \"\"}}, \"type\": \"histogram\"}], \"histogram2d\": [{\"colorbar\": {\"outlinewidth\": 0, \"ticks\": \"\"}, \"colorscale\": [[0.0, \"#0d0887\"], [0.1111111111111111, \"#46039f\"], [0.2222222222222222, \"#7201a8\"], [0.3333333333333333, \"#9c179e\"], [0.4444444444444444, \"#bd3786\"], [0.5555555555555556, \"#d8576b\"], [0.6666666666666666, \"#ed7953\"], [0.7777777777777778, \"#fb9f3a\"], [0.8888888888888888, \"#fdca26\"], [1.0, \"#f0f921\"]], \"type\": \"histogram2d\"}], \"histogram2dcontour\": [{\"colorbar\": {\"outlinewidth\": 0, \"ticks\": \"\"}, \"colorscale\": [[0.0, \"#0d0887\"], [0.1111111111111111, \"#46039f\"], [0.2222222222222222, \"#7201a8\"], [0.3333333333333333, \"#9c179e\"], [0.4444444444444444, \"#bd3786\"], [0.5555555555555556, \"#d8576b\"], [0.6666666666666666, \"#ed7953\"], [0.7777777777777778, \"#fb9f3a\"], [0.8888888888888888, \"#fdca26\"], [1.0, \"#f0f921\"]], \"type\": \"histogram2dcontour\"}], \"mesh3d\": [{\"colorbar\": {\"outlinewidth\": 0, \"ticks\": \"\"}, \"type\": \"mesh3d\"}], \"parcoords\": [{\"line\": {\"colorbar\": {\"outlinewidth\": 0, \"ticks\": \"\"}}, \"type\": \"parcoords\"}], \"pie\": [{\"automargin\": true, \"type\": \"pie\"}], \"scatter\": [{\"marker\": {\"colorbar\": {\"outlinewidth\": 0, \"ticks\": \"\"}}, \"type\": \"scatter\"}], \"scatter3d\": [{\"line\": {\"colorbar\": {\"outlinewidth\": 0, \"ticks\": \"\"}}, \"marker\": {\"colorbar\": {\"outlinewidth\": 0, \"ticks\": \"\"}}, \"type\": \"scatter3d\"}], \"scattercarpet\": [{\"marker\": {\"colorbar\": {\"outlinewidth\": 0, \"ticks\": \"\"}}, \"type\": \"scattercarpet\"}], \"scattergeo\": [{\"marker\": {\"colorbar\": {\"outlinewidth\": 0, \"ticks\": \"\"}}, \"type\": \"scattergeo\"}], \"scattergl\": [{\"marker\": {\"colorbar\": {\"outlinewidth\": 0, \"ticks\": \"\"}}, \"type\": \"scattergl\"}], \"scattermapbox\": [{\"marker\": {\"colorbar\": {\"outlinewidth\": 0, \"ticks\": \"\"}}, \"type\": \"scattermapbox\"}], \"scatterpolar\": [{\"marker\": {\"colorbar\": {\"outlinewidth\": 0, \"ticks\": \"\"}}, \"type\": \"scatterpolar\"}], \"scatterpolargl\": [{\"marker\": {\"colorbar\": {\"outlinewidth\": 0, \"ticks\": \"\"}}, \"type\": \"scatterpolargl\"}], \"scatterternary\": [{\"marker\": {\"colorbar\": {\"outlinewidth\": 0, \"ticks\": \"\"}}, \"type\": \"scatterternary\"}], \"surface\": [{\"colorbar\": {\"outlinewidth\": 0, \"ticks\": \"\"}, \"colorscale\": [[0.0, \"#0d0887\"], [0.1111111111111111, \"#46039f\"], [0.2222222222222222, \"#7201a8\"], [0.3333333333333333, \"#9c179e\"], [0.4444444444444444, \"#bd3786\"], [0.5555555555555556, \"#d8576b\"], [0.6666666666666666, \"#ed7953\"], [0.7777777777777778, \"#fb9f3a\"], [0.8888888888888888, \"#fdca26\"], [1.0, \"#f0f921\"]], \"type\": \"surface\"}], \"table\": [{\"cells\": {\"fill\": {\"color\": \"#EBF0F8\"}, \"line\": {\"color\": \"white\"}}, \"header\": {\"fill\": {\"color\": \"#C8D4E3\"}, \"line\": {\"color\": \"white\"}}, \"type\": \"table\"}]}, \"layout\": {\"annotationdefaults\": {\"arrowcolor\": \"#2a3f5f\", \"arrowhead\": 0, \"arrowwidth\": 1}, \"coloraxis\": {\"colorbar\": {\"outlinewidth\": 0, \"ticks\": \"\"}}, \"colorscale\": {\"diverging\": [[0, \"#8e0152\"], [0.1, \"#c51b7d\"], [0.2, \"#de77ae\"], [0.3, \"#f1b6da\"], [0.4, \"#fde0ef\"], [0.5, \"#f7f7f7\"], [0.6, \"#e6f5d0\"], [0.7, \"#b8e186\"], [0.8, \"#7fbc41\"], [0.9, \"#4d9221\"], [1, \"#276419\"]], \"sequential\": [[0.0, \"#0d0887\"], [0.1111111111111111, \"#46039f\"], [0.2222222222222222, \"#7201a8\"], [0.3333333333333333, \"#9c179e\"], [0.4444444444444444, \"#bd3786\"], [0.5555555555555556, \"#d8576b\"], [0.6666666666666666, \"#ed7953\"], [0.7777777777777778, \"#fb9f3a\"], [0.8888888888888888, \"#fdca26\"], [1.0, \"#f0f921\"]], \"sequentialminus\": [[0.0, \"#0d0887\"], [0.1111111111111111, \"#46039f\"], [0.2222222222222222, \"#7201a8\"], [0.3333333333333333, \"#9c179e\"], [0.4444444444444444, \"#bd3786\"], [0.5555555555555556, \"#d8576b\"], [0.6666666666666666, \"#ed7953\"], [0.7777777777777778, \"#fb9f3a\"], [0.8888888888888888, \"#fdca26\"], [1.0, \"#f0f921\"]]}, \"colorway\": [\"#636efa\", \"#EF553B\", \"#00cc96\", \"#ab63fa\", \"#FFA15A\", \"#19d3f3\", \"#FF6692\", \"#B6E880\", \"#FF97FF\", \"#FECB52\"], \"font\": {\"color\": \"#2a3f5f\"}, \"geo\": {\"bgcolor\": \"white\", \"lakecolor\": \"white\", \"landcolor\": \"#E5ECF6\", \"showlakes\": true, \"showland\": true, \"subunitcolor\": \"white\"}, \"hoverlabel\": {\"align\": \"left\"}, \"hovermode\": \"closest\", \"mapbox\": {\"style\": \"light\"}, \"paper_bgcolor\": \"white\", \"plot_bgcolor\": \"#E5ECF6\", \"polar\": {\"angularaxis\": {\"gridcolor\": \"white\", \"linecolor\": \"white\", \"ticks\": \"\"}, \"bgcolor\": \"#E5ECF6\", \"radialaxis\": {\"gridcolor\": \"white\", \"linecolor\": \"white\", \"ticks\": \"\"}}, \"scene\": {\"xaxis\": {\"backgroundcolor\": \"#E5ECF6\", \"gridcolor\": \"white\", \"gridwidth\": 2, \"linecolor\": \"white\", \"showbackground\": true, \"ticks\": \"\", \"zerolinecolor\": \"white\"}, \"yaxis\": {\"backgroundcolor\": \"#E5ECF6\", \"gridcolor\": \"white\", \"gridwidth\": 2, \"linecolor\": \"white\", \"showbackground\": true, \"ticks\": \"\", \"zerolinecolor\": \"white\"}, \"zaxis\": {\"backgroundcolor\": \"#E5ECF6\", \"gridcolor\": \"white\", \"gridwidth\": 2, \"linecolor\": \"white\", \"showbackground\": true, \"ticks\": \"\", \"zerolinecolor\": \"white\"}}, \"shapedefaults\": {\"line\": {\"color\": \"#2a3f5f\"}}, \"ternary\": {\"aaxis\": {\"gridcolor\": \"white\", \"linecolor\": \"white\", \"ticks\": \"\"}, \"baxis\": {\"gridcolor\": \"white\", \"linecolor\": \"white\", \"ticks\": \"\"}, \"bgcolor\": \"#E5ECF6\", \"caxis\": {\"gridcolor\": \"white\", \"linecolor\": \"white\", \"ticks\": \"\"}}, \"title\": {\"x\": 0.05}, \"xaxis\": {\"automargin\": true, \"gridcolor\": \"white\", \"linecolor\": \"white\", \"ticks\": \"\", \"title\": {\"standoff\": 15}, \"zerolinecolor\": \"white\", \"zerolinewidth\": 2}, \"yaxis\": {\"automargin\": true, \"gridcolor\": \"white\", \"linecolor\": \"white\", \"ticks\": \"\", \"title\": {\"standoff\": 15}, \"zerolinecolor\": \"white\", \"zerolinewidth\": 2}}}, \"title\": {\"text\": \"Hyperparameter Importances\"}, \"xaxis\": {\"title\": {\"text\": \"Importance for Objective Value\"}}, \"yaxis\": {\"title\": {\"text\": \"Hyperparameter\"}}},\n",
              "                        {\"responsive\": true}\n",
              "                    ).then(function(){\n",
              "                            \n",
              "var gd = document.getElementById('259b851e-0a31-4ac9-bc8b-4a35fb2d0b2d');\n",
              "var x = new MutationObserver(function (mutations, observer) {{\n",
              "        var display = window.getComputedStyle(gd).display;\n",
              "        if (!display || display === 'none') {{\n",
              "            console.log([gd, 'removed!']);\n",
              "            Plotly.purge(gd);\n",
              "            observer.disconnect();\n",
              "        }}\n",
              "}});\n",
              "\n",
              "// Listen for the removal of the full notebook cells\n",
              "var notebookContainer = gd.closest('#notebook-container');\n",
              "if (notebookContainer) {{\n",
              "    x.observe(notebookContainer, {childList: true});\n",
              "}}\n",
              "\n",
              "// Listen for the clearing of the current output cell\n",
              "var outputEl = gd.closest('.output');\n",
              "if (outputEl) {{\n",
              "    x.observe(outputEl, {childList: true});\n",
              "}}\n",
              "\n",
              "                        })\n",
              "                };\n",
              "                \n",
              "            </script>\n",
              "        </div>\n",
              "</body>\n",
              "</html>"
            ]
          },
          "metadata": {
            "tags": []
          }
        }
      ]
    },
    {
      "cell_type": "code",
      "metadata": {
        "id": "N_vmtzkKuQJD"
      },
      "source": [
        ""
      ],
      "execution_count": null,
      "outputs": []
    },
    {
      "cell_type": "code",
      "metadata": {
        "id": "NOTgeObIuXA2"
      },
      "source": [
        ""
      ],
      "execution_count": null,
      "outputs": []
    },
    {
      "cell_type": "code",
      "metadata": {
        "id": "Zcj5c6vudAiC"
      },
      "source": [
        ""
      ],
      "execution_count": null,
      "outputs": []
    }
  ]
}